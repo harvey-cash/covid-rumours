{
 "cells": [
  {
   "cell_type": "code",
   "execution_count": 83,
   "metadata": {},
   "outputs": [],
   "source": [
    "from elasticsearch import Elasticsearch\n",
    "elastic_client = Elasticsearch(hosts=[\"http://143.167.8.152:9300\"], http_auth=('students', 'foxtrot'))\n",
    "\n",
    "def tweets_in_range(startdate, enddate, amount):    \n",
    "    \n",
    "    \n",
    "    query_body = {\n",
    "      \"query\": {\n",
    "        \"bool\": {\n",
    "          \"must\": {\n",
    "            \"range\": {\n",
    "              \"tweet_created_at\": {\n",
    "                \"gte\": datetime.datetime.strptime(startdate, \"%Y-%m-%dT%H:%M:%S.%fZ\"),\n",
    "                \"lte\":  datetime.datetime.strptime(enddate, \"%Y-%m-%dT%H:%M:%S.%fZ\"),\n",
    "                \"boost\": 2.0\n",
    "              }\n",
    "            }\n",
    "          },\n",
    "          \"must_not\": [\n",
    "            {\"match\": {\"hashtags\": \"obamagate\"}},\n",
    "            {\"match\": {\"message\": \"*media_url*\"}}\n",
    "          ]\n",
    "        }\n",
    "      },\n",
    "      \"collapse\" : {\n",
    "        \"field\" : \"tweet_id.keyword\" \n",
    "      },\n",
    "      \"sort\": [\"tweet_created_at\"] \n",
    "    }\n",
    "    \n",
    "    result = elastic_client.search(index=\"covid19_misinfo_index\", body=query_body, size=amount, request_timeout=30000, _source=\"tweet_text,tweet_id\")\n",
    "\n",
    "    all_hits = result['hits']['hits']\n",
    "    \n",
    "    tweets = []\n",
    "    for num, doc in enumerate(all_hits):\n",
    "        tweets.append([doc[\"_source\"][\"tweet_text\"], doc[\"_source\"][\"tweet_id\"]])\n",
    "    return tweets    "
   ]
  },
  {
   "cell_type": "code",
   "execution_count": 85,
   "metadata": {},
   "outputs": [
    {
     "name": "stdout",
     "output_type": "stream",
     "text": [
      "[['RT @kadajoza: @EvanAKilgore @realDonaldTrump I think he knew the truth if it - has always known the truth of it - that it was a #PlanDemic…', '1303848403441344512'], ['RT @TomFitton: #Hydroxychloroquine is a safe drug.', '1303848413029715969'], ['RT @KatherineWolfr2: I agree,and I’m so tired of this crap &amp; really tired of trying to be nice about it..I absolutely believe this was orga…', '1303848431522385920'], ['RT @TomFitton: #Hydroxychloroquine is a safe drug.', '1303848435997581312'], ['RT @TomFitton: #Hydroxychloroquine is a safe drug.', '1303848503718932480'], [\"And let's NOT forget about Trump drug pushing &amp; stockpiling #Hydroxychloroquine &amp; making people like myself with Lupus and autoimmune disease (who DEPEND on this medication daily to live) ration the drug &amp; go without! I was 1 of those people.\\n\\n#TrumpKnewVoteBlue\", '1303848517778264064'], ['RT @TomFitton: #Hydroxychloroquine is a safe drug.', '1303848523461308416'], ['RT @TomFitton: #Hydroxychloroquine is a safe drug.', '1303848529803325451'], ['RT @elzi0n: #Hydroxychloroquine is trending my people 🙏🏼\\n\\nKeep the pressure! ❤❤❤', '1303848533531926528'], ['RT @TomFitton: #Hydroxychloroquine is a safe drug.', '1303848542180700161']]\n"
     ]
    }
   ],
   "source": [
    "print(tweets_in_range(\"2020-09-10T00:10:57.000Z\", \"2020-12-10T00:10:59.000Z\", 10))"
   ]
  },
  {
   "cell_type": "code",
   "execution_count": null,
   "metadata": {},
   "outputs": [],
   "source": []
  }
 ],
 "metadata": {
  "kernelspec": {
   "display_name": "Python 3",
   "language": "python",
   "name": "python3"
  },
  "language_info": {
   "codemirror_mode": {
    "name": "ipython",
    "version": 3
   },
   "file_extension": ".py",
   "mimetype": "text/x-python",
   "name": "python",
   "nbconvert_exporter": "python",
   "pygments_lexer": "ipython3",
   "version": "3.7.6"
  }
 },
 "nbformat": 4,
 "nbformat_minor": 4
}
