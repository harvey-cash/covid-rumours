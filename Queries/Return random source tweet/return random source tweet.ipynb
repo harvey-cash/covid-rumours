{
 "cells": [
  {
   "cell_type": "code",
   "execution_count": 52,
   "metadata": {
    "scrolled": true
   },
   "outputs": [],
   "source": [
    "from elasticsearch import Elasticsearch\n",
    "import json\n",
    "elastic_client = Elasticsearch(hosts=[\"http://143.167.8.152:9300\"], http_auth=('students', 'foxtrot'))\n",
    "\n",
    "def random_rumours(amount, categories):    \n",
    "    \n",
    "    #using hashtags\n",
    "    public_authority_actions = []\n",
    "    community_impact = [\"filmyourhospital\", \"filmyourhospitals\", \"endthelockdown\", \"endthelockdownuk\", \"reopenbritain\"]\n",
    "    medical_advice = [\"coronavirusfacts\",  \"coronafacts\", \"covid19symptoms\", \"covidsymptoms\", \"hydroxichloroquine\", \"hydroxychloroquine\"]\n",
    "    claims_about_prominent_actors = [\"gatesvirus\", \"sorosvirus\", \"coronavillains\", \"kungflu\", \"wholiedpeopledied\", \"chinaliedandpeopledied\",  \"chinaliedpeopledied\", \"chinaliespeopledied\", \"israelvirus\", \"americavirus\", \"coronaviruscoverup\", \"chinesevirus\", \"wuhanvirus\", \"ccpvirus\"]\n",
    "    conspiracy_theories = [\"5g\",  \"5gcoronavirus\", \"coronavirus5g\", \"chinesebioterrorism\", \"gatesvirus\", \"ciavirus\", \"deepstatevirus\", \"preventnwo\",  \"nwoevilelites\", \"nwovirus\", \"nwo\", \"greatreset\", \"coronacon\",   \"coronafakenews\",  \"coronafraud\", \"coronahoax\", \"scamdemic\", \"plandemic\", \"filmyourhospital\", \"filmyourhospitals\", \"coronaviruscoverup\", \"coronavillains\", \"depopulation\", \"nwoevilplans\"]\n",
    "    virus_transmission = [\"coronavirusfacts\",  \"coronafacts\"]\n",
    "    virus_origin = [\"coronavirusfacts\",  \"coronafacts\", \"covid19symptoms\", \"covidsymptoms\", \"coronasymptoms\"]\n",
    "    civil_disobedience = [\"endthelockdown\", \"endthelockdownuk\", \"reopenbritain\", \"resistthegreatreset\", \"idonotconsent\", \"covidiots\", \"coronaviruscoverup\"]\n",
    "    vaccines = [\"coronavirusfacts\",  \"coronafacts\", \"astrazeneca\",  \"oxfordvaccine\"]\n",
    "    other = [\"coronabollocks\", \"coronacon\",   \"coronafakenews\",  \"coronafraud\", \"coronahoax\", \"cronyvirus\", \"scamdemic\", \"plandemic\"]\n",
    "    \n",
    "    def f(x):\n",
    "        return {\n",
    "            \"Public authority actions, policy, and communications\": (public_authority_actions, float(x[1])),\n",
    "            \"Community spread and impact\": (community_impact, float(x[1])),\n",
    "            \"Medical advice and self-treatments\": (medical_advice, float(x[1])),\n",
    "            \"Claims about prominent actors\": (claims_about_prominent_actors, float(x[1])),\n",
    "            \"Conspiracy theories\": (conspiracy_theories, float(x[1])),\n",
    "            \"Virus transmission\": (virus_transmission, float(x[1])),\n",
    "            \"Virus origin and properties\": (virus_origin, float(x[1])),\n",
    "            \"Public preparedness, protests, and civil disobedience\": (civil_disobedience, float(x[1])),\n",
    "            \"Vaccines, medical treatments, and tests\": (vaccines, float(x[1])),\n",
    "            \"Other\": (other, float(x[1])),\n",
    "        }[x[0]]\n",
    "\n",
    "    \n",
    "    should_array = []\n",
    "    must_array = [{\"match\": {\"is_a_retweet\": \"false\"}}, {\"match\": {\"is_a_quote\": \"false\"}}]\n",
    "    #for x in categories:\n",
    "     #   query = f(x)\n",
    "      #  should_array.append({\"terms\": {\"hashtags\": query[0], \"boost\": query[1]}})\n",
    "        \n",
    "        \n",
    "    input_file = open(\"bowPerCategory.json\", \"r\")\n",
    "    input_data = input_file.read()\n",
    "    #using BOW\n",
    "    category_BOW = json.loads(input_data) #this is a dict, so category_BOW[\"Virus origin and properties\"] = array of words\n",
    "    \n",
    "    \n",
    "    should_array = []\n",
    "    for x in categories:\n",
    "        for y in category_BOW[x[0]]: #input must be exactly the same as keys used in json\n",
    "            should_array.append({\"match\": {\"tweet_text\": \"*\"+y+\"*\"}}) \n",
    "            #this will change based on how the json is parsed - y[0] just needs to be the text, and y[1] the number of times that\n",
    "            #word appears in the bag. x[0] is the category input to the method, and x[1] is the number input to the method for that\n",
    "            #category (user boost)\n",
    "            \n",
    "    \n",
    "    query_body = {\n",
    "      \"query\": {\n",
    "        \"bool\": {\n",
    "          \"must\": must_array,\n",
    "          \"must_not\": [\n",
    "            {\"match\": {\"hashtags\": \"obamagate\"}},\n",
    "            {\"exists\": {\"field\": \"in_reply_to_user_id\"}},\n",
    "            {\"exists\": {\"field\": \"in_reply_to_status_id\"}},\n",
    "            {\"exists\": {\"field\": \"in_reply_to_screen_name\"}},\n",
    "            {\"match\": {\"message\": \"*media_url*\"}}\n",
    "          ],\n",
    "          \"should\": should_array\n",
    "        }\n",
    "      },\n",
    "      \"collapse\" : {\n",
    "        \"field\" : \"tweet_id.keyword\"\n",
    "      }\n",
    "    }\n",
    "\n",
    "    \n",
    "    result = elastic_client.search(index=\"covid19_misinfo_index\", body=query_body, size=amount, request_timeout=300000, _source=\"tweet_text,tweet_id\")\n",
    "\n",
    "    all_hits = result['hits']['hits']\n",
    "    \n",
    "    tweets = []\n",
    "    for num, doc in enumerate(all_hits):\n",
    "        tweets.append([doc[\"_source\"][\"tweet_text\"], doc[\"_source\"][\"tweet_id\"]])\n",
    "    return tweets    "
   ]
  },
  {
   "cell_type": "code",
   "execution_count": null,
   "metadata": {},
   "outputs": [],
   "source": [
    "print(random_rumours(10, [(\"Conspiracy theories\",\"1\")]))"
   ]
  },
  {
   "cell_type": "code",
   "execution_count": 3,
   "metadata": {},
   "outputs": [
    {
     "ename": "SyntaxError",
     "evalue": "invalid syntax (<ipython-input-3-effef6a475c0>, line 1)",
     "output_type": "error",
     "traceback": [
      "\u001b[1;36m  File \u001b[1;32m\"<ipython-input-3-effef6a475c0>\"\u001b[1;36m, line \u001b[1;32m1\u001b[0m\n\u001b[1;33m    Virus origin and properties\u001b[0m\n\u001b[1;37m               ^\u001b[0m\n\u001b[1;31mSyntaxError\u001b[0m\u001b[1;31m:\u001b[0m invalid syntax\n"
     ]
    }
   ],
   "source": [
    "#CATEGORIES:\n",
    "#Virus origin and properties\n",
    "#Virus transmission\n",
    "#Vaccines, medical treatments, and tests\n",
    "#Medical advice and self-treatments\n",
    "#Other\n",
    "#Public preparedness, protests, and civil disobedience\n",
    "#Public authority actions, policy, and communications\n",
    "#Community spread and impact\n",
    "#Conspiracy theories\n",
    "#Claims about prominent actors"
   ]
  },
  {
   "cell_type": "code",
   "execution_count": null,
   "metadata": {},
   "outputs": [],
   "source": []
  }
 ],
 "metadata": {
  "kernelspec": {
   "display_name": "Python 3",
   "language": "python",
   "name": "python3"
  },
  "language_info": {
   "codemirror_mode": {
    "name": "ipython",
    "version": 3
   },
   "file_extension": ".py",
   "mimetype": "text/x-python",
   "name": "python",
   "nbconvert_exporter": "python",
   "pygments_lexer": "ipython3",
   "version": "3.7.6"
  }
 },
 "nbformat": 4,
 "nbformat_minor": 2
}
