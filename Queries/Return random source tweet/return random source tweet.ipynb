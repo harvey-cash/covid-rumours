{
 "cells": [
  {
   "cell_type": "code",
   "execution_count": 68,
   "metadata": {
    "scrolled": true
   },
   "outputs": [],
   "source": [
    "from elasticsearch import Elasticsearch\n",
    "import json\n",
    "elastic_client = Elasticsearch(hosts=[\"http://143.167.8.152:9300\"], http_auth=('students', 'foxtrot'))\n",
    "\n",
    "def random_rumours(amount, categories):    \n",
    "    \n",
    "#     #using hashtags\n",
    "#     public_authority_actions = []\n",
    "#     community_impact = [\"filmyourhospital\", \"filmyourhospitals\", \"endthelockdown\", \"endthelockdownuk\", \"reopenbritain\"]\n",
    "#     medical_advice = [\"coronavirusfacts\",  \"coronafacts\", \"covid19symptoms\", \"covidsymptoms\", \"hydroxichloroquine\", \"hydroxychloroquine\"]\n",
    "#     claims_about_prominent_actors = [\"gatesvirus\", \"sorosvirus\", \"coronavillains\", \"kungflu\", \"wholiedpeopledied\", \"chinaliedandpeopledied\",  \"chinaliedpeopledied\", \"chinaliespeopledied\", \"israelvirus\", \"americavirus\", \"coronaviruscoverup\", \"chinesevirus\", \"wuhanvirus\", \"ccpvirus\"]\n",
    "#     conspiracy_theories = [\"5g\",  \"5gcoronavirus\", \"coronavirus5g\", \"chinesebioterrorism\", \"gatesvirus\", \"ciavirus\", \"deepstatevirus\", \"preventnwo\",  \"nwoevilelites\", \"nwovirus\", \"nwo\", \"greatreset\", \"coronacon\",   \"coronafakenews\",  \"coronafraud\", \"coronahoax\", \"scamdemic\", \"plandemic\", \"filmyourhospital\", \"filmyourhospitals\", \"coronaviruscoverup\", \"coronavillains\", \"depopulation\", \"nwoevilplans\"]\n",
    "#     virus_transmission = [\"coronavirusfacts\",  \"coronafacts\"]\n",
    "#     virus_origin = [\"coronavirusfacts\",  \"coronafacts\", \"covid19symptoms\", \"covidsymptoms\", \"coronasymptoms\"]\n",
    "#     civil_disobedience = [\"endthelockdown\", \"endthelockdownuk\", \"reopenbritain\", \"resistthegreatreset\", \"idonotconsent\", \"covidiots\", \"coronaviruscoverup\"]\n",
    "#     vaccines = [\"coronavirusfacts\",  \"coronafacts\", \"astrazeneca\",  \"oxfordvaccine\"]\n",
    "#     other = [\"coronabollocks\", \"coronacon\",   \"coronafakenews\",  \"coronafraud\", \"coronahoax\", \"cronyvirus\", \"scamdemic\", \"plandemic\"]\n",
    "    \n",
    "#     def f(x):\n",
    "#         return {\n",
    "#             \"Public authority actions, policy, and communications\": (public_authority_actions, float(x[1])),\n",
    "#             \"Community spread and impact\": (community_impact, float(x[1])),\n",
    "#             \"Medical advice and self-treatments\": (medical_advice, float(x[1])),\n",
    "#             \"Claims about prominent actors\": (claims_about_prominent_actors, float(x[1])),\n",
    "#             \"Conspiracy theories\": (conspiracy_theories, float(x[1])),\n",
    "#             \"Virus transmission\": (virus_transmission, float(x[1])),\n",
    "#             \"Virus origin and properties\": (virus_origin, float(x[1])),\n",
    "#             \"Public preparedness, protests, and civil disobedience\": (civil_disobedience, float(x[1])),\n",
    "#             \"Vaccines, medical treatments, and tests\": (vaccines, float(x[1])),\n",
    "#             \"Other\": (other, float(x[1])),\n",
    "#         }[x[0]]\n",
    "\n",
    "    \n",
    "    should_array = []\n",
    "    must_array = [{\"match\": {\"is_a_retweet\": \"false\"}}, {\"match\": {\"is_a_quote\": \"false\"}}]\n",
    "    #for x in categories:\n",
    "     #   query = f(x)\n",
    "      #  should_array.append({\"terms\": {\"hashtags\": query[0], \"boost\": query[1]}})\n",
    "        \n",
    "        \n",
    "    input_file = open(\"bowPerCategory.json\", \"r\")\n",
    "    input_data = input_file.read()\n",
    "    #using BOW\n",
    "    category_BOW = json.loads(input_data) #this is a dict, so category_BOW[\"Virus origin and properties\"] = array of words\n",
    "    \n",
    "    \n",
    "    should_array = []\n",
    "    for x in categories:\n",
    "        for y in category_BOW[x]: #input must be exactly the same as keys used in json\n",
    "            should_array.append({\"match\": {\"tweet_text\": \"*\"+y+\"*\"}}) \n",
    "            #this will change based on how the json is parsed - y[0] just needs to be the text, and y[1] the number of times that\n",
    "            #word appears in the bag. x[0] is the category input to the method, and x[1] is the number input to the method for that\n",
    "            #category (user boost)\n",
    "            \n",
    "    \n",
    "    query_body = {\n",
    "      \"query\": {\n",
    "        \"bool\": {\n",
    "          \"must\": must_array,\n",
    "          \"must_not\": [\n",
    "            {\"match\": {\"hashtags\": \"obamagate\"}},\n",
    "            {\"exists\": {\"field\": \"in_reply_to_user_id\"}},\n",
    "            {\"exists\": {\"field\": \"in_reply_to_status_id\"}},\n",
    "            {\"exists\": {\"field\": \"in_reply_to_screen_name\"}},\n",
    "            {\"match\": {\"message\": \"*media_url*\"}}\n",
    "          ],\n",
    "          \"should\": should_array\n",
    "        }\n",
    "      },\n",
    "      \"collapse\" : {\n",
    "        \"field\" : \"tweet_id.keyword\"\n",
    "      }\n",
    "    }\n",
    "\n",
    "    \n",
    "    result = elastic_client.search(index=\"covid19_misinfo_index\", body=query_body, size=amount, request_timeout=300000, _source=\"tweet_text,tweet_id\")\n",
    "\n",
    "    all_hits = result['hits']['hits']\n",
    "    \n",
    "    tweets = []\n",
    "    for num, doc in enumerate(all_hits):\n",
    "        tweets.append([doc[\"_source\"][\"tweet_text\"], doc[\"_source\"][\"tweet_id\"]])\n",
    "    return tweets    "
   ]
  },
  {
   "cell_type": "code",
   "execution_count": 71,
   "metadata": {},
   "outputs": [
    {
     "ename": "TransportError",
     "evalue": "TransportError(504, '<html>\\r\\n<head><title>504 Gateway Time-out</title></head>\\r\\n<body>\\r\\n<center><h1>504 Gateway Time-out</h1></center>\\r\\n<hr><center>nginx/1.17.10</center>\\r\\n</body>\\r\\n</html>\\r\\n')",
     "output_type": "error",
     "traceback": [
      "\u001b[1;31m---------------------------------------------------------------------------\u001b[0m",
      "\u001b[1;31mTransportError\u001b[0m                            Traceback (most recent call last)",
      "\u001b[1;32m<ipython-input-71-e50a8e03208b>\u001b[0m in \u001b[0;36m<module>\u001b[1;34m\u001b[0m\n\u001b[1;32m----> 1\u001b[1;33m \u001b[0mprint\u001b[0m\u001b[1;33m(\u001b[0m\u001b[0mrandom_rumours\u001b[0m\u001b[1;33m(\u001b[0m\u001b[1;36m3\u001b[0m\u001b[1;33m,\u001b[0m \u001b[1;33m[\u001b[0m\u001b[1;34m\"Community spread and impact\"\u001b[0m\u001b[1;33m,\u001b[0m \u001b[1;34m\"Virus transmission\"\u001b[0m\u001b[1;33m]\u001b[0m\u001b[1;33m)\u001b[0m\u001b[1;33m)\u001b[0m\u001b[1;33m\u001b[0m\u001b[1;33m\u001b[0m\u001b[0m\n\u001b[0m",
      "\u001b[1;32m<ipython-input-68-83c47c62c208>\u001b[0m in \u001b[0;36mrandom_rumours\u001b[1;34m(amount, categories)\u001b[0m\n\u001b[0;32m     74\u001b[0m \u001b[1;33m\u001b[0m\u001b[0m\n\u001b[0;32m     75\u001b[0m \u001b[1;33m\u001b[0m\u001b[0m\n\u001b[1;32m---> 76\u001b[1;33m     \u001b[0mresult\u001b[0m \u001b[1;33m=\u001b[0m \u001b[0melastic_client\u001b[0m\u001b[1;33m.\u001b[0m\u001b[0msearch\u001b[0m\u001b[1;33m(\u001b[0m\u001b[0mindex\u001b[0m\u001b[1;33m=\u001b[0m\u001b[1;34m\"covid19_misinfo_index\"\u001b[0m\u001b[1;33m,\u001b[0m \u001b[0mbody\u001b[0m\u001b[1;33m=\u001b[0m\u001b[0mquery_body\u001b[0m\u001b[1;33m,\u001b[0m \u001b[0msize\u001b[0m\u001b[1;33m=\u001b[0m\u001b[0mamount\u001b[0m\u001b[1;33m,\u001b[0m \u001b[0mrequest_timeout\u001b[0m\u001b[1;33m=\u001b[0m\u001b[1;36m300000\u001b[0m\u001b[1;33m,\u001b[0m \u001b[0m_source\u001b[0m\u001b[1;33m=\u001b[0m\u001b[1;34m\"tweet_text,tweet_id\"\u001b[0m\u001b[1;33m)\u001b[0m\u001b[1;33m\u001b[0m\u001b[1;33m\u001b[0m\u001b[0m\n\u001b[0m\u001b[0;32m     77\u001b[0m \u001b[1;33m\u001b[0m\u001b[0m\n\u001b[0;32m     78\u001b[0m     \u001b[0mall_hits\u001b[0m \u001b[1;33m=\u001b[0m \u001b[0mresult\u001b[0m\u001b[1;33m[\u001b[0m\u001b[1;34m'hits'\u001b[0m\u001b[1;33m]\u001b[0m\u001b[1;33m[\u001b[0m\u001b[1;34m'hits'\u001b[0m\u001b[1;33m]\u001b[0m\u001b[1;33m\u001b[0m\u001b[1;33m\u001b[0m\u001b[0m\n",
      "\u001b[1;32m~\\miniconda3\\lib\\site-packages\\elasticsearch\\client\\utils.py\u001b[0m in \u001b[0;36m_wrapped\u001b[1;34m(*args, **kwargs)\u001b[0m\n\u001b[0;32m    150\u001b[0m                 \u001b[1;32mif\u001b[0m \u001b[0mp\u001b[0m \u001b[1;32min\u001b[0m \u001b[0mkwargs\u001b[0m\u001b[1;33m:\u001b[0m\u001b[1;33m\u001b[0m\u001b[1;33m\u001b[0m\u001b[0m\n\u001b[0;32m    151\u001b[0m                     \u001b[0mparams\u001b[0m\u001b[1;33m[\u001b[0m\u001b[0mp\u001b[0m\u001b[1;33m]\u001b[0m \u001b[1;33m=\u001b[0m \u001b[0mkwargs\u001b[0m\u001b[1;33m.\u001b[0m\u001b[0mpop\u001b[0m\u001b[1;33m(\u001b[0m\u001b[0mp\u001b[0m\u001b[1;33m)\u001b[0m\u001b[1;33m\u001b[0m\u001b[1;33m\u001b[0m\u001b[0m\n\u001b[1;32m--> 152\u001b[1;33m             \u001b[1;32mreturn\u001b[0m \u001b[0mfunc\u001b[0m\u001b[1;33m(\u001b[0m\u001b[1;33m*\u001b[0m\u001b[0margs\u001b[0m\u001b[1;33m,\u001b[0m \u001b[0mparams\u001b[0m\u001b[1;33m=\u001b[0m\u001b[0mparams\u001b[0m\u001b[1;33m,\u001b[0m \u001b[0mheaders\u001b[0m\u001b[1;33m=\u001b[0m\u001b[0mheaders\u001b[0m\u001b[1;33m,\u001b[0m \u001b[1;33m**\u001b[0m\u001b[0mkwargs\u001b[0m\u001b[1;33m)\u001b[0m\u001b[1;33m\u001b[0m\u001b[1;33m\u001b[0m\u001b[0m\n\u001b[0m\u001b[0;32m    153\u001b[0m \u001b[1;33m\u001b[0m\u001b[0m\n\u001b[0;32m    154\u001b[0m         \u001b[1;32mreturn\u001b[0m \u001b[0m_wrapped\u001b[0m\u001b[1;33m\u001b[0m\u001b[1;33m\u001b[0m\u001b[0m\n",
      "\u001b[1;32m~\\miniconda3\\lib\\site-packages\\elasticsearch\\client\\__init__.py\u001b[0m in \u001b[0;36msearch\u001b[1;34m(self, body, index, doc_type, params, headers)\u001b[0m\n\u001b[0;32m   1660\u001b[0m             \u001b[0mparams\u001b[0m\u001b[1;33m=\u001b[0m\u001b[0mparams\u001b[0m\u001b[1;33m,\u001b[0m\u001b[1;33m\u001b[0m\u001b[1;33m\u001b[0m\u001b[0m\n\u001b[0;32m   1661\u001b[0m             \u001b[0mheaders\u001b[0m\u001b[1;33m=\u001b[0m\u001b[0mheaders\u001b[0m\u001b[1;33m,\u001b[0m\u001b[1;33m\u001b[0m\u001b[1;33m\u001b[0m\u001b[0m\n\u001b[1;32m-> 1662\u001b[1;33m             \u001b[0mbody\u001b[0m\u001b[1;33m=\u001b[0m\u001b[0mbody\u001b[0m\u001b[1;33m,\u001b[0m\u001b[1;33m\u001b[0m\u001b[1;33m\u001b[0m\u001b[0m\n\u001b[0m\u001b[0;32m   1663\u001b[0m         )\n\u001b[0;32m   1664\u001b[0m \u001b[1;33m\u001b[0m\u001b[0m\n",
      "\u001b[1;32m~\\miniconda3\\lib\\site-packages\\elasticsearch\\transport.py\u001b[0m in \u001b[0;36mperform_request\u001b[1;34m(self, method, url, headers, params, body)\u001b[0m\n\u001b[0;32m    411\u001b[0m                     \u001b[1;31m# raise exception on last retry\u001b[0m\u001b[1;33m\u001b[0m\u001b[1;33m\u001b[0m\u001b[1;33m\u001b[0m\u001b[0m\n\u001b[0;32m    412\u001b[0m                     \u001b[1;32mif\u001b[0m \u001b[0mattempt\u001b[0m \u001b[1;33m==\u001b[0m \u001b[0mself\u001b[0m\u001b[1;33m.\u001b[0m\u001b[0mmax_retries\u001b[0m\u001b[1;33m:\u001b[0m\u001b[1;33m\u001b[0m\u001b[1;33m\u001b[0m\u001b[0m\n\u001b[1;32m--> 413\u001b[1;33m                         \u001b[1;32mraise\u001b[0m \u001b[0me\u001b[0m\u001b[1;33m\u001b[0m\u001b[1;33m\u001b[0m\u001b[0m\n\u001b[0m\u001b[0;32m    414\u001b[0m                 \u001b[1;32melse\u001b[0m\u001b[1;33m:\u001b[0m\u001b[1;33m\u001b[0m\u001b[1;33m\u001b[0m\u001b[0m\n\u001b[0;32m    415\u001b[0m                     \u001b[1;32mraise\u001b[0m \u001b[0me\u001b[0m\u001b[1;33m\u001b[0m\u001b[1;33m\u001b[0m\u001b[0m\n",
      "\u001b[1;32m~\\miniconda3\\lib\\site-packages\\elasticsearch\\transport.py\u001b[0m in \u001b[0;36mperform_request\u001b[1;34m(self, method, url, headers, params, body)\u001b[0m\n\u001b[0;32m    386\u001b[0m                     \u001b[0mheaders\u001b[0m\u001b[1;33m=\u001b[0m\u001b[0mheaders\u001b[0m\u001b[1;33m,\u001b[0m\u001b[1;33m\u001b[0m\u001b[1;33m\u001b[0m\u001b[0m\n\u001b[0;32m    387\u001b[0m                     \u001b[0mignore\u001b[0m\u001b[1;33m=\u001b[0m\u001b[0mignore\u001b[0m\u001b[1;33m,\u001b[0m\u001b[1;33m\u001b[0m\u001b[1;33m\u001b[0m\u001b[0m\n\u001b[1;32m--> 388\u001b[1;33m                     \u001b[0mtimeout\u001b[0m\u001b[1;33m=\u001b[0m\u001b[0mtimeout\u001b[0m\u001b[1;33m,\u001b[0m\u001b[1;33m\u001b[0m\u001b[1;33m\u001b[0m\u001b[0m\n\u001b[0m\u001b[0;32m    389\u001b[0m                 )\n\u001b[0;32m    390\u001b[0m \u001b[1;33m\u001b[0m\u001b[0m\n",
      "\u001b[1;32m~\\miniconda3\\lib\\site-packages\\elasticsearch\\connection\\http_urllib3.py\u001b[0m in \u001b[0;36mperform_request\u001b[1;34m(self, method, url, params, body, timeout, ignore, headers)\u001b[0m\n\u001b[0;32m    271\u001b[0m                 \u001b[0mmethod\u001b[0m\u001b[1;33m,\u001b[0m \u001b[0mfull_url\u001b[0m\u001b[1;33m,\u001b[0m \u001b[0murl\u001b[0m\u001b[1;33m,\u001b[0m \u001b[0morig_body\u001b[0m\u001b[1;33m,\u001b[0m \u001b[0mduration\u001b[0m\u001b[1;33m,\u001b[0m \u001b[0mresponse\u001b[0m\u001b[1;33m.\u001b[0m\u001b[0mstatus\u001b[0m\u001b[1;33m,\u001b[0m \u001b[0mraw_data\u001b[0m\u001b[1;33m\u001b[0m\u001b[1;33m\u001b[0m\u001b[0m\n\u001b[0;32m    272\u001b[0m             )\n\u001b[1;32m--> 273\u001b[1;33m             \u001b[0mself\u001b[0m\u001b[1;33m.\u001b[0m\u001b[0m_raise_error\u001b[0m\u001b[1;33m(\u001b[0m\u001b[0mresponse\u001b[0m\u001b[1;33m.\u001b[0m\u001b[0mstatus\u001b[0m\u001b[1;33m,\u001b[0m \u001b[0mraw_data\u001b[0m\u001b[1;33m)\u001b[0m\u001b[1;33m\u001b[0m\u001b[1;33m\u001b[0m\u001b[0m\n\u001b[0m\u001b[0;32m    274\u001b[0m \u001b[1;33m\u001b[0m\u001b[0m\n\u001b[0;32m    275\u001b[0m         self.log_request_success(\n",
      "\u001b[1;32m~\\miniconda3\\lib\\site-packages\\elasticsearch\\connection\\base.py\u001b[0m in \u001b[0;36m_raise_error\u001b[1;34m(self, status_code, raw_data)\u001b[0m\n\u001b[0;32m    321\u001b[0m \u001b[1;33m\u001b[0m\u001b[0m\n\u001b[0;32m    322\u001b[0m         raise HTTP_EXCEPTIONS.get(status_code, TransportError)(\n\u001b[1;32m--> 323\u001b[1;33m             \u001b[0mstatus_code\u001b[0m\u001b[1;33m,\u001b[0m \u001b[0merror_message\u001b[0m\u001b[1;33m,\u001b[0m \u001b[0madditional_info\u001b[0m\u001b[1;33m\u001b[0m\u001b[1;33m\u001b[0m\u001b[0m\n\u001b[0m\u001b[0;32m    324\u001b[0m         )\n\u001b[0;32m    325\u001b[0m \u001b[1;33m\u001b[0m\u001b[0m\n",
      "\u001b[1;31mTransportError\u001b[0m: TransportError(504, '<html>\\r\\n<head><title>504 Gateway Time-out</title></head>\\r\\n<body>\\r\\n<center><h1>504 Gateway Time-out</h1></center>\\r\\n<hr><center>nginx/1.17.10</center>\\r\\n</body>\\r\\n</html>\\r\\n')"
     ]
    }
   ],
   "source": [
    "print(random_rumours(3, [\"Community spread and impact\", \"Virus transmission\"]))"
   ]
  },
  {
   "cell_type": "code",
   "execution_count": 3,
   "metadata": {},
   "outputs": [
    {
     "ename": "SyntaxError",
     "evalue": "invalid syntax (<ipython-input-3-effef6a475c0>, line 1)",
     "output_type": "error",
     "traceback": [
      "\u001b[1;36m  File \u001b[1;32m\"<ipython-input-3-effef6a475c0>\"\u001b[1;36m, line \u001b[1;32m1\u001b[0m\n\u001b[1;33m    Virus origin and properties\u001b[0m\n\u001b[1;37m               ^\u001b[0m\n\u001b[1;31mSyntaxError\u001b[0m\u001b[1;31m:\u001b[0m invalid syntax\n"
     ]
    }
   ],
   "source": [
    "#CATEGORIES:\n",
    "#Virus origin and properties\n",
    "#Virus transmission\n",
    "#Vaccines, medical treatments, and tests\n",
    "#Medical advice and self-treatments\n",
    "#Other\n",
    "#Public preparedness, protests, and civil disobedience\n",
    "#Public authority actions, policy, and communications\n",
    "#Community spread and impact\n",
    "#Conspiracy theories\n",
    "#Claims about prominent actors"
   ]
  },
  {
   "cell_type": "code",
   "execution_count": null,
   "metadata": {},
   "outputs": [],
   "source": []
  }
 ],
 "metadata": {
  "kernelspec": {
   "display_name": "Python 3",
   "language": "python",
   "name": "python3"
  },
  "language_info": {
   "codemirror_mode": {
    "name": "ipython",
    "version": 3
   },
   "file_extension": ".py",
   "mimetype": "text/x-python",
   "name": "python",
   "nbconvert_exporter": "python",
   "pygments_lexer": "ipython3",
   "version": "3.7.6"
  }
 },
 "nbformat": 4,
 "nbformat_minor": 2
}
