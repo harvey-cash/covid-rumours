{
 "cells": [
  {
   "cell_type": "code",
   "execution_count": 66,
   "metadata": {
    "collapsed": true,
    "scrolled": true
   },
   "outputs": [],
   "source": [
    "from elasticsearch import Elasticsearch\n",
    "elastic_client = Elasticsearch(hosts=[\"http://143.167.8.152:9300\"], http_auth=('students', 'foxtrot'))\n",
    "\n",
    "def random_rumours(amount, categories):    \n",
    "    fiveg = [\"5g\",  \"5gcoronavirus\", \"coronavirus5g\"]\n",
    "    chinesevirus = [\"chinaliedandpeopledied\",  \"chinaliedpeopledied\",  \"chinaliespeopledied\", \"chinesebioterrorism\",  \"chinesevirus\", \"wuhanvirus\", \"ccpvirus\", \"kungflu\"]\n",
    "    americavirus = [\"americavirus\", \"ciavirus\",  \"deepstatevirus\", \"sorosvirus\"]\n",
    "    endlockdown = [\"endthelockdown\", \"endthelockdownuk\", \"reopenbritain\"]\n",
    "    newworldorder = [\"preventnwo\",  \"nwoevilelites\", \"nwovirus\", \"nwo\", \"greatreset\", \"resistthegreatreset\", \"nwoevilplans\", \"depopulation\"]\n",
    "    gatesvirus = [\"gatesvirus\"]\n",
    "    wholied = [\"wholiedpeopledied\"]\n",
    "    israelvirus = [\"israelvirus\"]\n",
    "    generalrumour = [\"coronabollocks\", \"coronacon\",   \"coronafakenews\",  \"coronafraud\", \"coronahoax\", \"cronyvirus\", \"scamdemic\", \"plandemic\"]\n",
    "    antifakenews = [\"coronavirusfacts\",  \"coronafacts\", \"covidiots\"]\n",
    "    emptyhospitals = [\"filmyourhospital\", \"filmyourhospitals\"]\n",
    "    antivax = [\"idonotconsent\"]\n",
    "    medical = [\"astrazeneca\", \"covid19symptoms\", \"covidsymptoms\", \"oxfordvaccine\", \"hydroxichloroquine\", \"hydroxychloroquine\", \"coronasymptoms\"]\n",
    "    antiestablishment = [\"coronaviruscoverup\", \"coronavillains\", \"depopulation\"]\n",
    "   \n",
    "    def f(x):\n",
    "        return {\n",
    "            \"fiveg\": (fiveg, float(x[1])),\n",
    "            \"chinesevirus\": (chinesevirus, float(x[1])),\n",
    "            \"americavirus\": (americavirus, float(x[1])),\n",
    "            \"endlockdown\": (endlockdown, float(x[1])),\n",
    "            \"newworldorder\": (newworldorder, float(x[1])),\n",
    "            \"gatesvirus\": (gatesvirus, float(x[1])),\n",
    "            \"wholied\": (wholied, float(x[1])),\n",
    "            \"israelvirus\": (israelvirus, float(x[1])),\n",
    "            \"generalrumour\": (generalrumour, float(x[1])),\n",
    "            \"antifakenews\": (antifakenews, float(x[1])),\n",
    "            \"emptyhospitals\": (emptyhospitals, float(x[1])),\n",
    "            \"antivax\": (antivax, float(x[1])),\n",
    "            \"medical\": (medical, float(x[1])),\n",
    "            \"antiestablishment\": (antiestablishment, float(x[1]))\n",
    "        }[x[0]]\n",
    "\n",
    "    must_array = [{\"match\": {\"is_a_retweet\": \"false\"}}, {\"match\": {\"is_a_quote\": \"false\"}}]\n",
    "    for x in categories:\n",
    "        query = f(x)\n",
    "        must_array.append({\"terms\": {\"hashtags\": query[0], \"boost\": query[1]}})\n",
    "        \n",
    "    query_body = {\n",
    "      \"query\": {\n",
    "        \"function_score\": {\n",
    "          \"query\": {\n",
    "            \"bool\": {\n",
    "              \"must\": must_array,\n",
    "              \"must_not\": [\n",
    "                {\"match\": {\"hashtags\": \"obamagate\"}},\n",
    "                {\"exists\": {\"field\": \"in_reply_to_user_id\"}},\n",
    "                {\"exists\": {\"field\": \"in_reply_to_status_id\"}},\n",
    "                {\"exists\": {\"field\": \"in_reply_to_screen_name\"}},\n",
    "                {\"match\": {\"message\": \"*media_url*\"}}\n",
    "              ]\n",
    "            }\n",
    "          },\n",
    "          \"random_score\": {}\n",
    "        }\n",
    "      }\n",
    "    }\n",
    "\n",
    "    \n",
    "    result = elastic_client.search(index=\"covid19_misinfo_index\", body=query_body, size=amount, request_timeout=30000, _source=\"tweet_text,tweet_id\")\n",
    "\n",
    "    all_hits = result['hits']['hits']\n",
    "    \n",
    "    tweets = []\n",
    "    for num, doc in enumerate(all_hits):\n",
    "        tweets.append(doc[\"_source\"][\"tweet_text\"])\n",
    "    return tweets    "
   ]
  },
  {
   "cell_type": "code",
   "execution_count": 67,
   "metadata": {},
   "outputs": [
    {
     "name": "stdout",
     "output_type": "stream",
     "text": [
      "[\"Around the World boycotting everything owned by Chinese Govt, including #China's #Huawie &amp; its #5G, now they investing in #Tibet's #MtEverest for Mass Surveillance, Oppression &amp; Espionage – https://t.co/znaynqLcmv #FreeTibet #ChineseVirus #CCPVirus #XiVirus Via #TenzinDalha\", \"Prime Minister Trudeau: Ban Huawei from Canada's 5G telecom networks! Stop Telus, Bell, and others from partnerships that harm our National Security! - Sign the Petition! https://t.co/Nk6MnmLPWi via @CdnChange #5G反対 #5G #CCPChina #CCPVirus\", \"5 British elites controlled by the CCP to support Huawei | China | Epoch... https://t.co/PWcp3oaVDC via @YouTube \\n\\nCCP'S  HUAWEI  BRIBING  SENIOR  BRITISH\\n GOVERNMENT AND CORPORATE ELITES \\n.\\n#Huawei #HuaweiMatePadT8 #5G #CCPLiedPeopleDied #ChinaLiedPeopleDied\", 'Plandemic 2\\nINDOCTORNATION (HD) FREE\\n\\nhttps://t.co/KEijrQU6V9\\n\\n#Australia #Canberra #AsiaPacific #ASEAN #CCP #CCPVirus #COVIDTesting #COVID19Data #WHO #Soros #SmartCities #Melbourne #Auspol #UN #DictatorDan #DanMustGo #Surveillance #Drones #Robots #5G #AI #ArtificialIntelligence', 'Wuhan Bioweapons Lab Released Virus, Then Sold Test to the World https://t.co/I9ELNApLtL #COVID19 #CoronaVirus #ChineseVirus #Plandemic #Scamdemic #JailBillGates #FuckBillGates #BigTechIsEvil #5G #ID2020 #WHO #UN #Agenda2030 #Depopulation #MarkOfTheBeast #WakeUp', \"Coronavirus: China's Global Intimidation Campaign https://t.co/LXrGJC8P7c #5G #coronavirus #ChinaLiedPeopleDied #BREAK_THE_SILENCE #BreakTheSilence\", 'The #5G TROJAN #NANOBOT 2020 \\n#ID2020 #CCPVirus #CCPCovid19 #Covid19 #MassVaccination #Moderna #Darpa #ElonMusk #Neuralink\\nhttps://t.co/X5yJV64oMy via @YouTube', '5G is only dangerous if you sniff it all at once.\\n#5G #ThankfulThursday #Radio \\n#ChinaLiedPeopleDied', \"#Taiwan digital minister warns of #China's #5G 'Trojan horse' \\n\\n#BoycottChina #BoycottChineseProducts\\n#BoycottMadeInChina #SanctionChina\\n#Chinamustfall #ChinaLiedPeopleDied\\n\\nhttps://t.co/EXPt8KNlf1\", 'USA officials believe #coronavirus outbreak originated in #Wuhan #biolab #wuhanvirus #covert19 #5g #testvirusnow #chinaliedpeopledied #trumpliedpeopledied https://t.co/D40eWZqPg4 #FoxNews']\n"
     ]
    }
   ],
   "source": [
    "print(random_rumours(10, [(\"fiveg\",\"0.5\"), (\"chinesevirus\",\"1.0\")]))"
   ]
  },
  {
   "cell_type": "code",
   "execution_count": null,
   "metadata": {
    "collapsed": true
   },
   "outputs": [],
   "source": []
  }
 ],
 "metadata": {
  "kernelspec": {
   "display_name": "Python 3",
   "language": "python",
   "name": "python3"
  },
  "language_info": {
   "codemirror_mode": {
    "name": "ipython",
    "version": 3
   },
   "file_extension": ".py",
   "mimetype": "text/x-python",
   "name": "python",
   "nbconvert_exporter": "python",
   "pygments_lexer": "ipython3",
   "version": "3.8.3"
  }
 },
 "nbformat": 4,
 "nbformat_minor": 2
}
