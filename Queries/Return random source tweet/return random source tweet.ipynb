{
 "cells": [
  {
   "cell_type": "code",
   "execution_count": 53,
   "metadata": {
    "scrolled": true
   },
   "outputs": [
    {
     "name": "stdout",
     "output_type": "stream",
     "text": [
      "CONNECTED\n"
     ]
    }
   ],
   "source": [
    "from elasticsearch import Elasticsearch\n",
    "import json\n",
    "elastic_client = Elasticsearch(hosts=[\"http://143.167.8.152:9300\"], http_auth=('students', 'foxtrot'))\n",
    "print('CONNECTED')\n",
    "def random_rumours(amount, categories):    \n",
    "    \n",
    "#     #using hashtags\n",
    "#     public_authority_actions = []\n",
    "#     community_impact = [\"filmyourhospital\", \"filmyourhospitals\", \"endthelockdown\", \"endthelockdownuk\", \"reopenbritain\"]\n",
    "#     medical_advice = [\"coronavirusfacts\",  \"coronafacts\", \"covid19symptoms\", \"covidsymptoms\", \"hydroxichloroquine\", \"hydroxychloroquine\"]\n",
    "#     claims_about_prominent_actors = [\"gatesvirus\", \"sorosvirus\", \"coronavillains\", \"kungflu\", \"wholiedpeopledied\", \"chinaliedandpeopledied\",  \"chinaliedpeopledied\", \"chinaliespeopledied\", \"israelvirus\", \"americavirus\", \"coronaviruscoverup\", \"chinesevirus\", \"wuhanvirus\", \"ccpvirus\"]\n",
    "#     conspiracy_theories = [\"5g\",  \"5gcoronavirus\", \"coronavirus5g\", \"chinesebioterrorism\", \"gatesvirus\", \"ciavirus\", \"deepstatevirus\", \"preventnwo\",  \"nwoevilelites\", \"nwovirus\", \"nwo\", \"greatreset\", \"coronacon\",   \"coronafakenews\",  \"coronafraud\", \"coronahoax\", \"scamdemic\", \"plandemic\", \"filmyourhospital\", \"filmyourhospitals\", \"coronaviruscoverup\", \"coronavillains\", \"depopulation\", \"nwoevilplans\"]\n",
    "#     virus_transmission = [\"coronavirusfacts\",  \"coronafacts\"]\n",
    "#     virus_origin = [\"coronavirusfacts\",  \"coronafacts\", \"covid19symptoms\", \"covidsymptoms\", \"coronasymptoms\"]\n",
    "#     civil_disobedience = [\"endthelockdown\", \"endthelockdownuk\", \"reopenbritain\", \"resistthegreatreset\", \"idonotconsent\", \"covidiots\", \"coronaviruscoverup\"]\n",
    "#     vaccines = [\"coronavirusfacts\",  \"coronafacts\", \"astrazeneca\",  \"oxfordvaccine\"]\n",
    "#     other = [\"coronabollocks\", \"coronacon\",   \"coronafakenews\",  \"coronafraud\", \"coronahoax\", \"cronyvirus\", \"scamdemic\", \"plandemic\"]\n",
    "    \n",
    "#     def f(x):\n",
    "#         return {\n",
    "#             \"Public authority actions, policy, and communications\": (public_authority_actions, float(x[1])),\n",
    "#             \"Community spread and impact\": (community_impact, float(x[1])),\n",
    "#             \"Medical advice and self-treatments\": (medical_advice, float(x[1])),\n",
    "#             \"Claims about prominent actors\": (claims_about_prominent_actors, float(x[1])),\n",
    "#             \"Conspiracy theories\": (conspiracy_theories, float(x[1])),\n",
    "#             \"Virus transmission\": (virus_transmission, float(x[1])),\n",
    "#             \"Virus origin and properties\": (virus_origin, float(x[1])),\n",
    "#             \"Public preparedness, protests, and civil disobedience\": (civil_disobedience, float(x[1])),\n",
    "#             \"Vaccines, medical treatments, and tests\": (vaccines, float(x[1])),\n",
    "#             \"Other\": (other, float(x[1])),\n",
    "#         }[x[0]]\n",
    "\n",
    "    \n",
    "    should_array = []\n",
    "    must_array = [{\"match\": {\"is_a_retweet\": \"false\"}}, {\"match\": {\"is_a_quote\": \"false\"}}]\n",
    "    #for x in categories:\n",
    "     #   query = f(x)\n",
    "      #  should_array.append({\"terms\": {\"hashtags\": query[0], \"boost\": query[1]}})\n",
    "        \n",
    "        \n",
    "    input_file = open(\"../../bowPerCategoryNew.json\", \"r\")\n",
    "    input_data = input_file.read()\n",
    "    #using BOW\n",
    "    category_BOW = json.loads(input_data) #this is a dict, so category_BOW[\"Virus origin and properties\"] = array of words\n",
    "    print('done reading')\n",
    "    should_array = []\n",
    "    for x in categories:\n",
    "        for y, occs in category_BOW[x].items(): #input must be exactly the same as keys used in json\n",
    "            should_array.append({\"match\": {\"tweet_text\": \"*\"+y+\"*\"}}) \n",
    "            #this will change based on how the json is parsed - y[0] just needs to be the text, and y[1] the number of times that\n",
    "            #word appears in the bag. x[0] is the category input to the method, and x[1] is the number input to the method for that\n",
    "            #category (user boost)\n",
    "    print('done making array')\n",
    "    \n",
    "    query_body = {\n",
    "      \"query\": {\n",
    "        \"bool\": {\n",
    "          \"must\": must_array,\n",
    "          \"must_not\": [\n",
    "            {\"match\": {\"hashtags\": \"obamagate\"}},\n",
    "            {\"exists\": {\"field\": \"in_reply_to_user_id\"}},\n",
    "            {\"exists\": {\"field\": \"in_reply_to_status_id\"}},\n",
    "            {\"exists\": {\"field\": \"in_reply_to_screen_name\"}},\n",
    "            {\"match\": {\"message\": \"*media_url*\"}}\n",
    "          ],\n",
    "          \"should\": should_array\n",
    "        }\n",
    "      },\n",
    "      \"collapse\" : {\n",
    "        \"field\" : \"tweet_id.keyword\"\n",
    "      }\n",
    "    }\n",
    "    \n",
    "    result = elastic_client.search(index=\"covid19_misinfo_index\", \n",
    "                                   body=query_body,\n",
    "                                   size=amount, \n",
    "                                   request_timeout=999999, \n",
    "                                   _source=\"tweet_id\")#\n",
    "\n",
    "    all_hits = result['hits']['hits']\n",
    "    \n",
    "    tweets = []\n",
    "    for num, doc in enumerate(all_hits):\n",
    "         tweets.append(doc[\"_source\"][\"tweet_id\"])\n",
    "    return tweets    \n",
    "    "
   ]
  },
  {
   "cell_type": "code",
   "execution_count": 54,
   "metadata": {},
   "outputs": [
    {
     "name": "stdout",
     "output_type": "stream",
     "text": [
      "done reading\n",
      "done making array\n",
      "{'query': {'bool': {'must': [{'match': {'is_a_retweet': 'false'}}, {'match': {'is_a_quote': 'false'}}], 'must_not': [{'match': {'hashtags': 'obamagate'}}, {'exists': {'field': 'in_reply_to_user_id'}}, {'exists': {'field': 'in_reply_to_status_id'}}, {'exists': {'field': 'in_reply_to_screen_name'}}, {'match': {'message': '*media_url*'}}], 'should': [{'match': {'tweet_text': '*covid*'}}, {'match': {'tweet_text': '*coronavir*'}}, {'match': {'tweet_text': '*govern*'}}, {'match': {'tweet_text': '*pandem*'}}, {'match': {'tweet_text': '*country*'}}, {'match': {'tweet_text': '*lockdown*'}}, {'match': {'tweet_text': '*curfew*'}}, {'match': {'tweet_text': '*claim*'}}, {'match': {'tweet_text': '*multipl*'}}, {'match': {'tweet_text': '*peopl*'}}, {'match': {'tweet_text': '*outbreak*'}}, {'match': {'tweet_text': '*novel*'}}, {'match': {'tweet_text': '*philippin*'}}, {'match': {'tweet_text': '*presid*'}}, {'match': {'tweet_text': '*thousand*'}}, {'match': {'tweet_text': '*hospit*'}}, {'match': {'tweet_text': '*annount*'}}, {'match': {'tweet_text': '*trump*'}}, {'match': {'tweet_text': '*infect*'}}, {'match': {'tweet_text': '*purport*'}}, {'match': {'tweet_text': '*spread*'}}, {'match': {'tweet_text': '*ecuad*'}}, {'match': {'tweet_text': '*quarantin*'}}, {'match': {'tweet_text': '*chines*'}}]}}, 'collapse': {'field': 'tweet_id.keyword'}}\n",
      "['1281648596266348546', '1264481945905516544', '1247820227469029377', '1267005377553543168', '1269139738180620288', '1289972834463133697', '1310301660724559873', '1253642007572078592', '1268015356523806725', '1279803327715237888']\n"
     ]
    }
   ],
   "source": [
    "print(random_rumours(10, [\"Public authority actions, policy, and communications\"]))"
   ]
  },
  {
   "cell_type": "code",
   "execution_count": null,
   "metadata": {
    "collapsed": true
   },
   "outputs": [],
   "source": [
    "#CATEGORIES:\n",
    "#Virus origin and properties\n",
    "#Virus transmission\n",
    "#Vaccines, medical treatments, and tests\n",
    "#Medical advice and self-treatments\n",
    "#Other\n",
    "#Public preparedness, protests, and civil disobedience\n",
    "#Public authority actions, policy, and communications\n",
    "#Community spread and impact\n",
    "#Conspiracy theories\n",
    "#Claims about prominent actors"
   ]
  },
  {
   "cell_type": "code",
   "execution_count": null,
   "metadata": {
    "collapsed": true
   },
   "outputs": [],
   "source": []
  }
 ],
 "metadata": {
  "kernelspec": {
   "display_name": "Python 3",
   "language": "python",
   "name": "python3"
  }
 },
 "nbformat": 4,
 "nbformat_minor": 2
}
