{
 "cells": [
  {
   "cell_type": "code",
   "execution_count": 80,
   "metadata": {},
   "outputs": [],
   "source": [
    "from elasticsearch import Elasticsearch\n",
    "import datetime\n",
    "elastic_client = Elasticsearch(hosts=[\"http://143.167.8.152:9300\"], http_auth=('students', 'foxtrot'))\n",
    "\n",
    "def tweet_times(ids):    \n",
    "    should_array = [] \n",
    "    \n",
    "   \n",
    "    for x in ids:\n",
    "        should_array.append({\"match\": {\"tweet_id\": x}})\n",
    "    \n",
    "    \n",
    "    query_body = {\n",
    "      \"query\": {\n",
    "        \"bool\": {\n",
    "          \"must\": {\n",
    "            \"bool\": {\n",
    "              \"should\": should_array\n",
    "            }\n",
    "          }\n",
    "        }\n",
    "      },\n",
    "      \"collapse\" : {\n",
    "        \"field\" : \"tweet_id.keyword\" \n",
    "      },\n",
    "      \"sort\": [\"tweet_created_at\"]\n",
    "    }\n",
    "    \n",
    "    result = elastic_client.search(index=\"covid19_misinfo_index\", body=query_body, request_timeout=30000, _source=\"tweet_created_at\")\n",
    "\n",
    "    all_hits = result['hits']['hits']\n",
    "    \n",
    "    res = []\n",
    "    for num, doc in enumerate(all_hits):\n",
    "        res.append(datetime.datetime.strptime(doc[\"_source\"][\"tweet_created_at\"], \"%Y-%m-%dT%H:%M:%S.%fZ\"))\n",
    "    return res    "
   ]
  },
  {
   "cell_type": "code",
   "execution_count": 81,
   "metadata": {},
   "outputs": [
    {
     "name": "stdout",
     "output_type": "stream",
     "text": [
      "2020-11-10 00:10:57\n"
     ]
    }
   ],
   "source": [
    "print(tweet_times([1325954079462469632, 1325954058897616896])[0])"
   ]
  },
  {
   "cell_type": "code",
   "execution_count": null,
   "metadata": {},
   "outputs": [],
   "source": []
  }
 ],
 "metadata": {
  "kernelspec": {
   "display_name": "Python 3",
   "language": "python",
   "name": "python3"
  },
  "language_info": {
   "codemirror_mode": {
    "name": "ipython",
    "version": 3
   },
   "file_extension": ".py",
   "mimetype": "text/x-python",
   "name": "python",
   "nbconvert_exporter": "python",
   "pygments_lexer": "ipython3",
   "version": "3.7.6"
  }
 },
 "nbformat": 4,
 "nbformat_minor": 4
}
