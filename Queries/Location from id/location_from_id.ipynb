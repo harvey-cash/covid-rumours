{
 "cells": [
  {
   "cell_type": "code",
   "execution_count": 59,
   "metadata": {},
   "outputs": [],
   "source": [
    "from elasticsearch import Elasticsearch\n",
    "elastic_client = Elasticsearch(hosts=[\"http://143.167.8.152:9300\"], http_auth=('students', 'foxtrot'))\n",
    "\n",
    "def user_locations(ids):    \n",
    "    should_array = [] \n",
    "    \n",
    "   \n",
    "    for x in ids:\n",
    "        should_array.append({\"match\": {\"tweet_id\": x}})\n",
    "    \n",
    "    \n",
    "    query_body = {\n",
    "      \"query\": {\n",
    "        \"bool\": {\n",
    "          \"must\": {\n",
    "            \"bool\": {\n",
    "              \"should\": should_array\n",
    "            }\n",
    "          }\n",
    "        }\n",
    "      },\n",
    "      \"collapse\" : {\n",
    "        \"field\" : \"tweet_id.keyword\" \n",
    "      }\n",
    "    }\n",
    "    \n",
    "    result = elastic_client.search(index=\"covid19_misinfo_index\", body=query_body, request_timeout=30000, _source=\"author.author_location\")\n",
    "\n",
    "    all_hits = result['hits']['hits']\n",
    "    \n",
    "    res = []\n",
    "    for num, doc in enumerate(all_hits):\n",
    "        res.append(doc[\"_source\"][\"author\"][\"author_location\"])\n",
    "    return res    "
   ]
  },
  {
   "cell_type": "code",
   "execution_count": 60,
   "metadata": {},
   "outputs": [
    {
     "name": "stdout",
     "output_type": "stream",
     "text": [
      "['Florida', 'USA']\n"
     ]
    }
   ],
   "source": [
    "print(user_locations([1325954079462469632, 1325954058897616896]))\n"
   ]
  },
  {
   "cell_type": "code",
   "execution_count": null,
   "metadata": {},
   "outputs": [],
   "source": []
  }
 ],
 "metadata": {
  "kernelspec": {
   "display_name": "Python 3",
   "language": "python",
   "name": "python3"
  },
  "language_info": {
   "codemirror_mode": {
    "name": "ipython",
    "version": 3
   },
   "file_extension": ".py",
   "mimetype": "text/x-python",
   "name": "python",
   "nbconvert_exporter": "python",
   "pygments_lexer": "ipython3",
   "version": "3.7.6"
  }
 },
 "nbformat": 4,
 "nbformat_minor": 4
}
