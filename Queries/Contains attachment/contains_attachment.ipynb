{
 "cells": [
  {
   "cell_type": "code",
   "execution_count": 122,
   "metadata": {},
   "outputs": [],
   "source": [
    "from elasticsearch import Elasticsearch\n",
    "import datetime\n",
    "elastic_client = Elasticsearch(hosts=[\"http://143.167.8.152:9300\"], http_auth=('students', 'foxtrot'))\n",
    "\n",
    "def contains_attachment(ids):    \n",
    "    should_array = [] \n",
    "    \n",
    "    for x in ids:\n",
    "        should_array.append({\"match\": {\"tweet_id\": x}})    \n",
    "    \n",
    "    query_body = {\n",
    "      \"query\": {\n",
    "        \"bool\": {\n",
    "          \"should\": should_array\n",
    "        }\n",
    "      },\n",
    "      \"collapse\" : {\n",
    "        \"field\" : \"tweet_id.keyword\"\n",
    "      }\n",
    "    }\n",
    "    \n",
    "    result = elastic_client.search(index=\"covid19_misinfo_index\", body=query_body, request_timeout=30000, _source=\"message,tweet_id\")\n",
    "\n",
    "    all_hits = result['hits']['hits']\n",
    "    \n",
    "    res = []\n",
    "    for num, doc in enumerate(all_hits):\n",
    "        res.append([doc[\"_source\"][\"message\"], doc[\"_source\"][\"tweet_id\"]])\n",
    "    \n",
    "    res2 = []\n",
    "    for x in res:\n",
    "        if '\"extended_tweet\":{\"entities\":{\"urls\":[{' in x[0]: \n",
    "            res2.append(x[1])\n",
    "            \n",
    "    return res2    "
   ]
  },
  {
   "cell_type": "code",
   "execution_count": 123,
   "metadata": {},
   "outputs": [
    {
     "name": "stdout",
     "output_type": "stream",
     "text": [
      "['1280079001973743616']\n"
     ]
    }
   ],
   "source": [
    "print(contains_attachment([1280079001973743616, 1260347073972637696]))"
   ]
  },
  {
   "cell_type": "code",
   "execution_count": null,
   "metadata": {},
   "outputs": [],
   "source": []
  }
 ],
 "metadata": {
  "kernelspec": {
   "display_name": "Python 3",
   "language": "python",
   "name": "python3"
  }
 },
 "nbformat": 4,
 "nbformat_minor": 4
}
