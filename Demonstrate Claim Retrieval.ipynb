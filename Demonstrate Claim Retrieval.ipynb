{
 "cells": [
  {
   "cell_type": "markdown",
   "metadata": {},
   "source": [
    "# Demonstrating Claim Retrieval Package\n",
    "For retrieving claims most likely to be relevant to a given tweet"
   ]
  },
  {
   "cell_type": "code",
   "execution_count": 3,
   "metadata": {},
   "outputs": [
    {
     "name": "stdout",
     "output_type": "stream",
     "text": [
      "{'seem': {191: 1}, 'record': {141: 1}, 'plate': {208: 1, 319: 1}, 'transmit': {818: 1}, 'crisi': {316: 1}, 'proper': {1392: 1}, 'hygien': {33: 1}, 'video': {103: 1, 119: 1, 138: 1, 210: 1, 311: 1, 316: 1, 335: 1, 818: 1}, 'sweat': {210: 1}, 'data': {136: 1}, 'thousand': {335: 1}, 'repeatedli': {364: 1}, 'flight': {257: 1}, 'novel': {178: 1, 335: 1, 364: 1, 917: 1, 1339: 1, 1438: 1}, 'state': {178: 1, 396: 1}, 'worn': {1363: 1}, 'medic': {1368: 1}, 'ethiopian': {257: 1}, 'made': {1146: 1}, 'long': {191: 1, 1438: 1}, 'posit': {178: 1, 396: 1, 413: 1}, 'note': {70: 1}, 'person': {33: 1}, 'quot': {917: 1}, 'full': {303: 1}, 'confirm': {141: 1}, 'multipl': {178: 1, 210: 1}, 'well': {410: 1, 483: 1}, '2019': {917: 1}, 'blue': {1392: 1, 1500: 1}, 'chef': {92: 1}, 'rollout': {598: 1}, 'break': {265: 1}, 'messag': {364: 1}, 'view': {210: 1, 335: 1}, 'chines': {410: 1, 1248: 1, 1442: 1}, 'time': {136: 1, 178: 1, 335: 1, 380: 1}, 'politician': {402: 1}, 'must': {561: 1}, 'case': {141: 1, 265: 1, 380: 1, 396: 1, 413: 1, 598: 1}, '1,000': {136: 1}, 'rate': {387: 1}, 'viru': {303: 1, 319: 1, 777: 1, 1392: 1}, 'reus': {1322: 1}, 'model': {191: 2}, 'kill': {777: 1}, 'reach': {410: 1}, 'spit': {92: 1, 119: 1, 316: 1}, '2000': {70: 1}, 'transmiss': {554: 1}, 'viral': {138: 1, 141: 1}, 'robredo': {917: 1}, 'warm': {338: 1, 1438: 1}, 'nigeria': {840: 1}, 'goreng': {1442: 1}, 'supposedli': {1442: 1}, 'result': {364: 1}, 'bread': {119: 1}, 'block': {210: 1}, 'contact': {55: 1, 661: 1, 1248: 1}, 'initi': {554: 1}, 'china': {1146: 1, 1147: 1, 1151: 1, 1153: 1}, 'surviv': {516: 1}, 'cabbag': {246: 1}, 'take': {191: 1}, 'food': {73: 1, 92: 1, 103: 1, 316: 1, 1442: 1}, 'shoe': {364: 1}, 'encourag': {541: 1}, 'room': {33: 1}, 'attende': {92: 1}, 'mostli': {191: 1}, 'advisori': {367: 1}, 'north': {410: 1}, 'wash': {103: 1}, 'korea': {410: 1}, 'easili': {367: 1}, 'clip': {396: 1}, 'collector': {178: 1}, 'bakeri': {367: 1}, 'residenti': {210: 1}, 'manufactur': {1147: 1, 1151: 1, 1153: 1}, 'identifi': {1442: 1}, 'bodi': {73: 1, 103: 2}, 'contamin': {55: 1, 367: 1, 1442: 2}, 'passeng': {257: 1}, 'facebook': {136: 1, 178: 1, 210: 1, 335: 1, 364: 1}, 'hour': {265: 1, 561: 1}, 'caution': {380: 1}, 'infect': {70: 1, 73: 1, 138: 1, 246: 1, 257: 1, 319: 1, 364: 1, 1392: 1}, 'mask': {33: 1, 561: 1, 777: 1, 1322: 1, 1363: 1, 1368: 1, 1392: 1, 1500: 1}, 'sydney': {1442: 1}, 'diseas': {335: 1, 339: 1}, 'carri': {303: 1}, 'color': {1363: 1}, 'temperatur': {1339: 1}, 'evid': {554: 1}, 'test': {178: 1, 335: 1, 396: 1}, 'physic': {33: 1}, 'everyon': {561: 1}, 'area': {1442: 1}, 'hospit': {136: 1}, 'show': {136: 1, 138: 1, 210: 1, 316: 1, 335: 1, 818: 1}, 'childhood': {387: 1}, 'consum': {73: 1, 367: 1}, 'brainwash': {92: 1}, 'ashor': {103: 1}, 'stori': {141: 1}, 'beij': {410: 1}, 'south': {178: 1, 191: 1}, 'grow': {380: 1}, 'leni': {917: 1}, 'care': {73: 1}, 'specif': {777: 1}, 'covid-19': {73: 1, 136: 1, 208: 1, 335: 1, 338: 1, 339: 1, 554: 1, 883: 1}, 'thank': {191: 1}, 'capit': {396: 1}, 'nizamuddin': {138: 1, 322: 1}, 'accord': {840: 1}, 'public': {191: 1}, 'bull': {1442: 1}, 'back': {917: 1}, 'travel': {380: 1}, 'corn': {1248: 1}, 'southern': {380: 1}, 'presid': {917: 1}, 'circul': {138: 1, 396: 1}, 'trajectori': {191: 1}, 'white': {1363: 1, 1368: 1, 1392: 1, 1500: 1}, 'face': {561: 1, 1322: 1}, 'citizen': {364: 1}, 'devote': {138: 1}, 'doctor': {335: 1, 396: 1, 413: 1}, 'utensil': {209: 1}, 'rough': {191: 1}, 'maharashtra': {396: 1}, 'screenshot': {141: 1}, 'janta': {265: 1}, 'suppos': {1368: 1}, 'articl': {380: 1}, 'line': {364: 1}, 'africa': {1248: 1}, 'humid': {1339: 1}, 'beef': {1248: 1}, 'order': {138: 1}, 'tweet': {777: 1}, 'estim': {191: 1}, 'need': {661: 1}, 'pleas': {1248: 1}, 'includ': {396: 1}, 'invent': {335: 1}, 'hair': {1146: 1, 1147: 1, 1151: 1, 1153: 1}, 'vaccin': {387: 1}, 'page': {380: 1}, 'inhal': {917: 1}, 'intent': {208: 1}, 'oklahoma': {303: 1}, 'strain': {402: 1}, 'beard': {765: 1}, 'lack': {554: 1}, 'chanc': {246: 1, 765: 1}, 'respiratori': {55: 1}, 'sick': {1368: 1, 1392: 1, 1500: 1}, 'side': {1363: 2, 1368: 1, 1392: 2, 1500: 2}, 'rapid': {335: 1}, 'correl': {136: 1}, 'korean': {191: 1}, 'delhi': {70: 1, 138: 1, 322: 1}, 'hardest': {387: 1}, 'wrap': {1205: 1}, 'muslim': {92: 1, 138: 1, 208: 1, 209: 1, 319: 1}, 'process': {1248: 1}, 'hong': {210: 1}, 'claim': {136: 1, 138: 1, 141: 1, 178: 1, 210: 1, 311: 1, 335: 1, 364: 1, 396: 1, 402: 1, 1442: 1}, 'italian': {191: 1, 364: 1}, 'airlin': {257: 1}, 'whatsapp': {396: 1}, 'virul': {402: 1}, 'longer': {661: 1}, 'river': {303: 1}, 'catfish': {303: 1}, 'packet': {316: 1}, 'cutleri': {208: 1}, 'cooki': {1442: 1}, 'pastor': {840: 1}, 'toilet': {883: 1}, 'contain': {1146: 1, 1147: 1, 1151: 1, 1153: 1}, 'import': {1248: 1}, 'droplet': {55: 1}, 'post': {178: 1, 210: 1, 335: 1, 364: 1, 1147: 1, 1151: 1, 1442: 1}, 'sneez': {138: 1, 322: 1}, 'expos': {1205: 1}, 'human': {1248: 1}, '2020': {178: 1}, 'chain': {265: 1}, 'spread': {55: 1, 70: 1, 92: 1, 119: 1, 138: 1, 208: 1, 209: 1, 265: 1, 319: 1, 322: 1, 338: 1, 483: 1, 917: 1, 1339: 1, 1431: 1}, 'like': {1146: 1}, '2019-ncov': {1438: 1}, 'cart': {483: 1}, 'appar': {138: 1}, 'alongsid': {335: 1}, 'suffer': {364: 1}, 'said': {246: 1}, 'noodl': {1442: 1}, 'lift': {210: 1}, 'ship': {1248: 1}, 'indian': {396: 1, 402: 1, 777: 1}, 'begun': {1248: 1}, 'restaur': {92: 1}, 'russia': {410: 1}, 'rapidli': {883: 1}, 'american': {191: 1}, 'philippin': {136: 1, 1339: 1, 1438: 1}, 'scatter': {70: 1}, 'corps': {1248: 1}, 'first': {141: 1}, 'dispos': {1500: 1}, 'front': {380: 1, 1146: 1, 1147: 1, 1151: 1, 1153: 1}, 'home': {364: 1, 541: 1}, 'along': {413: 1}, 'purpos': {322: 1}, 'mosqu': {138: 1, 322: 1}, 'mutat': {402: 1}, 'whether': {387: 1}, 'peopl': {103: 1, 319: 1, 322: 1, 367: 1, 541: 1, 818: 1, 1205: 1}, 'also': {1442: 1}, 'number': {380: 1}, 'dump': {73: 1, 103: 1}, 'ventil': {33: 1, 413: 1}, 'cough': {917: 1}, 'second': {396: 1}, 'supermarket': {178: 1}, 'quickli': {483: 1}, 'base': {191: 1}, 'surfac': {55: 1, 516: 1}, 'lace': {1146: 1, 1147: 1, 1151: 1, 1153: 1}, 'wale': {178: 1}, 'balconi': {541: 1}, 'contract': {56: 1}, 'trolley': {178: 1}, 'coronaviru': {70: 1, 92: 1, 103: 1, 119: 1, 138: 1, 141: 1, 178: 1, 209: 1, 246: 1, 257: 1, 265: 1, 311: 1, 316: 1, 319: 1, 322: 1, 335: 1, 364: 1, 367: 1, 387: 1, 396: 1, 402: 1, 410: 1, 413: 1, 516: 1, 561: 1, 598: 1, 661: 1, 765: 1, 818: 1, 840: 1, 917: 1, 1146: 1, 1147: 1, 1151: 1, 1153: 1, 1205: 1, 1339: 1, 1431: 1, 1438: 1, 1442: 1}, 'twitter': {136: 1, 364: 1}, 'catch': {311: 1}, 'give': {191: 1}, 'stay': {541: 1}, 'airborn': {339: 1}, 'wipe': {210: 1}, 'australia': {1442: 1}, 'industrialist': {777: 1}, 'weav': {1146: 1, 1147: 1, 1151: 1, 1153: 1}, 'avoid': {103: 1}, 'bengaluru': {92: 1}, 'imag': {541: 1}, 'kong': {210: 1}, 'request': {103: 1}, 'spike': {364: 1}, 'nagpur': {396: 1, 413: 1}, 'itali': {257: 1, 364: 1}, 'groceri': {136: 1}, 'insid': {316: 1, 1363: 1}, 'prevent': {917: 1}, 'product': {1248: 1, 1442: 1}, 'sars-cov-2': {483: 1}, 'wear': {364: 1, 561: 1, 1368: 1, 1392: 1, 1500: 1}, 'vice': {917: 1}, 'outsid': {1363: 1}, 'distanc': {33: 1}, 'hundr': {178: 1}, 'fortun': {1442: 1}, 'last': {1438: 1}, 'direct': {364: 1}, 'pump': {483: 1}, 'banana': {1431: 1}, 'climat': {1438: 1}, 'publish': {141: 1}, 'group': {209: 1}, 'share': {103: 1, 136: 1, 178: 1, 364: 1, 1248: 1}, 'shanghai': {410: 1}, 'someon': {661: 1}, 'curfew': {265: 1}, 'hazrat': {322: 1}, 'shop': {136: 1, 483: 1}, 'citi': {410: 1}, 'fake': {917: 1}, 'button': {210: 1}, 'allegedli': {141: 1}, 'caus': {335: 1}, 'unusu': {554: 1}, 'reduct': {265: 1}, 'rice': {1442: 1}, 'deliber': {138: 1}, 'ghana': {141: 1}, 'march': {178: 1}, 'audio': {396: 1}, 'item': {367: 1}, 'kenya': {380: 2}, 'link': {598: 1}, 'india': {138: 1, 402: 1}, 'covid': {55: 1, 56: 1}, 'think': {191: 1}, 'markaz': {92: 1}, 'lankan': {335: 1}, 'infecti': {561: 1}, 'surgic': {1363: 1, 1392: 1}, 'bubbl': {1205: 1}, 'lick': {208: 1, 209: 1, 319: 1}, 'suggest': {119: 1, 917: 1}, 'dead': {73: 1}, 'terrac': {541: 1}, 'breed': {883: 1}, 'increas': {246: 1, 765: 1}, 'want': {1392: 1}, 'high': {387: 1, 1339: 2}, 'three': {396: 1, 413: 1}, 'paper': {883: 1}, 'australian': {178: 1}, 'human-to-human': {554: 1}, 'steam': {1322: 1}, 'nationwid': {265: 1}, 'therefor': {73: 1}, 'countri': {73: 1, 103: 1, 338: 1, 387: 1, 1339: 1}}\n"
     ]
    }
   ],
   "source": [
    "import pandas as pd\n",
    "from claimretrieval import claim_index\n",
    "from claimretrieval.retriever import Retriever\n",
    "\n",
    "# Construct term: frequency index of all claims (for the given category)\n",
    "transmission_index = claim_index.category_index(\"Virus transmission\", \"./claimretrieval/IndexClaimCategory.csv\")\n",
    "\n",
    "print(transmission_index)"
   ]
  },
  {
   "cell_type": "code",
   "execution_count": 5,
   "metadata": {},
   "outputs": [
    {
     "name": "stdout",
     "output_type": "stream",
     "text": [
      "Claim Indices: [56, 55, 1153, 1147, 1151, 1146]\n"
     ]
    }
   ],
   "source": [
    "retriever = Retriever(transmission_index)\n",
    "\n",
    "query = {\"wuhan\": 2, \"china\": 1, \"covid\": 3, \"virus\": 1}  # Construct from tweet\n",
    "\n",
    "shortlist = retriever.shortlist(query)  # Retrieve IDs of most relevant claims\n",
    "print(\"Claim Indices:\", shortlist)"
   ]
  },
  {
   "cell_type": "code",
   "execution_count": 6,
   "metadata": {},
   "outputs": [
    {
     "data": {
      "text/plain": [
       "['Covid is spread through respiratory droplets or contact with contaminated surfaces.',\n",
       " 'Pets can contract Covid',\n",
       " 'Hair Weaves And Lace Front Wigs Made In China Likely To Contain coronavirus.\\t\\t',\n",
       " 'A post says “hair weave and lace fronts manufactured in China may contain the coronavirus.”\\t\\t',\n",
       " 'A post say “hair weave and lace fronts manufactured in China may contain the coronavirus.”\\t\\t',\n",
       " '“Hair weave and lace fronts manufactured in China may contain the coronavirus.”\\t\\t']"
      ]
     },
     "execution_count": 6,
     "metadata": {},
     "output_type": "execute_result"
    }
   ],
   "source": [
    "df = pd.read_csv(\"./claimretrieval/IndexClaimCategory.csv\")\n",
    "df.dropna(axis='columns', how='all', inplace=True)  # Drop any columns that are all N/A\n",
    "df.dropna(axis='index', how='any', inplace=True)  # Drop any rows that have at least one N/A\n",
    "\n",
    "# Get the claim strings for the shortlisted IDs\n",
    "claims = [row['Claim'] for i, row in df.iterrows() if int(row['Index']) in shortlist]\n",
    "\n",
    "claims"
   ]
  },
  {
   "cell_type": "code",
   "execution_count": null,
   "metadata": {},
   "outputs": [],
   "source": []
  }
 ],
 "metadata": {
  "kernelspec": {
   "display_name": "Python 3",
   "language": "python",
   "name": "python3"
  },
  "language_info": {
   "codemirror_mode": {
    "name": "ipython",
    "version": 3
   },
   "file_extension": ".py",
   "mimetype": "text/x-python",
   "name": "python",
   "nbconvert_exporter": "python",
   "pygments_lexer": "ipython3",
   "version": "3.8.3"
  }
 },
 "nbformat": 4,
 "nbformat_minor": 4
}
