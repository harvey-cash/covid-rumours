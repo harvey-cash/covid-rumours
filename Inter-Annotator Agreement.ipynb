{
 "cells": [
  {
   "cell_type": "code",
   "execution_count": 1,
   "metadata": {},
   "outputs": [
    {
     "data": {
      "text/plain": [
       "0.4285714285714286"
      ]
     },
     "execution_count": 1,
     "metadata": {},
     "output_type": "execute_result"
    }
   ],
   "source": [
    "from sklearn.metrics import cohen_kappa_score\n",
    "labeler1 = [2, 0, 2, 2, 0, 1]\n",
    "labeler2 = [0, 0, 2, 2, 0, 2]\n",
    "cohen_kappa_score(labeler1, labeler2)"
   ]
  },
  {
   "cell_type": "code",
   "execution_count": 39,
   "metadata": {
    "collapsed": true
   },
   "outputs": [],
   "source": [
    "cats = {\n",
    "    'Public authority actions, policy, and communications' : 0,\n",
    "    'Community spread and impact' : 1,\n",
    "    'Medical advice and self-treatments' : 2,\n",
    "    'Claims about prominent actors' : 3, \n",
    "    'Conspiracy theories': 4,\n",
    "    'Virus transmission' : 5,\n",
    "    'Virus origin and properties' : 6, \n",
    "    'Public preparedness, protests, and civil disobedience' : 7,\n",
    "    'Vaccines, medical treatments, and tests' : 8,\n",
    "    'Other' : 9,\n",
    "}"
   ]
  },
  {
   "cell_type": "code",
   "execution_count": 40,
   "metadata": {},
   "outputs": [],
   "source": [
    "import pandas as pd\n",
    "df = pd.read_excel('./RumourDatabaseAnnotated.xlsx', sheet_name=None)\n",
    "xls = pd.ExcelFile('./RumourDatabaseAnnotated.xlsx')\n",
    "df1 = pd.read_excel(xls, 'Rux CA')\n",
    "df2 = pd.read_excel(xls, 'Harvey CA')\n",
    "df3 = pd.read_excel(xls, 'Jay CA')\n",
    "df4 = pd.read_excel(xls, 'Palash CA')"
   ]
  },
  {
   "cell_type": "code",
   "execution_count": 44,
   "metadata": {},
   "outputs": [
    {
     "data": {
      "text/plain": [
       "[[6, 6, 6, 2, 8, 0, 2, 2, 2, 1, 4, 1, 1, 6, 3, 1, 4, 2, 2],\n",
       " [2, 6, 1, 5, 8, 0, 2, 2, 8, 1, 3, 3, 1, 6, 3, 3, 9, 0, 2],\n",
       " [2, 6, 6, 2, 2, 3, 2, 6, 8, 1, 3, 0, 1, 6, 3, 0, 7, 6, 2],\n",
       " [2, 6, 2, 5, 8, 0, 2, 2, 8, 1, 3, 3, 1, 2, 3, 3, 1, 0, 2]]"
      ]
     },
     "execution_count": 44,
     "metadata": {},
     "output_type": "execute_result"
    }
   ],
   "source": [
    "arr = [[cats[m] for m in df_n['Annotations'] ] for df_n in [df1, df2, df3, df4] ]\n",
    "arr"
   ]
  },
  {
   "cell_type": "code",
   "execution_count": 43,
   "metadata": {},
   "outputs": [
    {
     "data": {
      "text/plain": [
       "0.40902158610980766"
      ]
     },
     "execution_count": 43,
     "metadata": {},
     "output_type": "execute_result"
    }
   ],
   "source": [
    "import krippendorff\n",
    "res = krippendorff.alpha(arr)\n",
    "res"
   ]
  },
  {
   "cell_type": "code",
   "execution_count": null,
   "metadata": {
    "collapsed": true
   },
   "outputs": [],
   "source": []
  }
 ],
 "metadata": {
  "kernelspec": {
   "display_name": "Python 3",
   "language": "python",
   "name": "python3"
  },
  "language_info": {
   "codemirror_mode": {
    "name": "ipython",
    "version": 3
   },
   "file_extension": ".py",
   "mimetype": "text/x-python",
   "name": "python",
   "nbconvert_exporter": "python",
   "pygments_lexer": "ipython3",
   "version": "3.6.3"
  }
 },
 "nbformat": 4,
 "nbformat_minor": 2
}
