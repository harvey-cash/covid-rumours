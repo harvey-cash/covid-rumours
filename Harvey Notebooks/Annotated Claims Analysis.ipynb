{
 "cells": [
  {
   "cell_type": "markdown",
   "metadata": {},
   "source": [
    "# What Annotated Claims do we have?\n",
    "## How many are true, false, what is the topic distribution, inter-annotator agreement?\n",
    "Etc."
   ]
  },
  {
   "cell_type": "code",
   "execution_count": 3,
   "metadata": {},
   "outputs": [
    {
     "data": {
      "text/html": [
       "<div>\n",
       "<style scoped>\n",
       "    .dataframe tbody tr th:only-of-type {\n",
       "        vertical-align: middle;\n",
       "    }\n",
       "\n",
       "    .dataframe tbody tr th {\n",
       "        vertical-align: top;\n",
       "    }\n",
       "\n",
       "    .dataframe thead th {\n",
       "        text-align: right;\n",
       "    }\n",
       "</style>\n",
       "<table border=\"1\" class=\"dataframe\">\n",
       "  <thead>\n",
       "    <tr style=\"text-align: right;\">\n",
       "      <th></th>\n",
       "      <th>Category</th>\n",
       "      <th>Claim</th>\n",
       "      <th>Debunk_Date</th>\n",
       "      <th>Label</th>\n",
       "      <th>Source</th>\n",
       "    </tr>\n",
       "  </thead>\n",
       "  <tbody>\n",
       "    <tr>\n",
       "      <th>1247</th>\n",
       "      <td>Public authority actions, policy, and communic...</td>\n",
       "      <td>japan has sent a       man medical team to wuh...</td>\n",
       "      <td>2/4/2020</td>\n",
       "      <td>False</td>\n",
       "      <td>VERA Files</td>\n",
       "    </tr>\n",
       "    <tr>\n",
       "      <th>842</th>\n",
       "      <td>Claims about prominent actors</td>\n",
       "      <td>photo purportedly showing tom hanks holding a ...</td>\n",
       "      <td>3/13/2020</td>\n",
       "      <td>False</td>\n",
       "      <td>AFP</td>\n",
       "    </tr>\n",
       "    <tr>\n",
       "      <th>576</th>\n",
       "      <td>Public authority actions, policy, and communic...</td>\n",
       "      <td>russia unleashed more than     lions on its st...</td>\n",
       "      <td>3/24/2020</td>\n",
       "      <td>False</td>\n",
       "      <td>PolitiFact</td>\n",
       "    </tr>\n",
       "    <tr>\n",
       "      <th>1135</th>\n",
       "      <td>Public authority actions, policy, and communic...</td>\n",
       "      <td>a large amount of sulfur dioxide was observed ...</td>\n",
       "      <td>2/15/2020</td>\n",
       "      <td>False</td>\n",
       "      <td>BuzzFeed Japan</td>\n",
       "    </tr>\n",
       "    <tr>\n",
       "      <th>227</th>\n",
       "      <td>Vaccines, medical treatments, and tests</td>\n",
       "      <td>a post shared repeatedly on whatsapp and faceb...</td>\n",
       "      <td>3/30/2020</td>\n",
       "      <td>False</td>\n",
       "      <td>AFP</td>\n",
       "    </tr>\n",
       "  </tbody>\n",
       "</table>\n",
       "</div>"
      ],
      "text/plain": [
       "                                               Category  \\\n",
       "1247  Public authority actions, policy, and communic...   \n",
       "842                       Claims about prominent actors   \n",
       "576   Public authority actions, policy, and communic...   \n",
       "1135  Public authority actions, policy, and communic...   \n",
       "227             Vaccines, medical treatments, and tests   \n",
       "\n",
       "                                                  Claim Debunk_Date  Label  \\\n",
       "1247  japan has sent a       man medical team to wuh...    2/4/2020  False   \n",
       "842   photo purportedly showing tom hanks holding a ...   3/13/2020  False   \n",
       "576   russia unleashed more than     lions on its st...   3/24/2020  False   \n",
       "1135  a large amount of sulfur dioxide was observed ...   2/15/2020  False   \n",
       "227   a post shared repeatedly on whatsapp and faceb...   3/30/2020  False   \n",
       "\n",
       "              Source  \n",
       "1247      VERA Files  \n",
       "842              AFP  \n",
       "576       PolitiFact  \n",
       "1135  BuzzFeed Japan  \n",
       "227              AFP  "
      ]
     },
     "execution_count": 3,
     "metadata": {},
     "output_type": "execute_result"
    }
   ],
   "source": [
    "import pandas as pd\n",
    "import numpy as np\n",
    "\n",
    "np.random.seed(1234)\n",
    "df = pd.read_csv('../RumourDatabase.csv', encoding='utf-8')\n",
    "df.drop(['Unnamed: 0', 'Duplicate indexes (add the index of the first entry)', 'Idx', 'Unnamed: 8', 'Topics'], axis=1, inplace=True)\n",
    "df_new = df.copy()\n",
    "df_new.drop_duplicates(subset=\"Claim\", keep=False, inplace=True)\n",
    "df_new['Claim'] = df_new['Claim'].str.replace(r'[_\\W\\d]',' ')\n",
    "df_new['Claim'] = df_new['Claim'].str.lower()\n",
    "df_new['Category'] = df_new['Category'].fillna('Other')\n",
    "df_new.reset_index(drop=True, inplace=True)\n",
    "\n",
    "df_new.sample(5)"
   ]
  },
  {
   "cell_type": "code",
   "execution_count": 87,
   "metadata": {},
   "outputs": [
    {
     "name": "stdout",
     "output_type": "stream",
     "text": [
      "62 1341\n"
     ]
    },
    {
     "data": {
      "image/png": "[encoded data removed]",
      "text/plain": [
       "<Figure size 432x288 with 1 Axes>"
      ]
     },
     "metadata": {
      "needs_background": "light"
     },
     "output_type": "display_data"
    }
   ],
   "source": [
    "# How many true and how many false?\n",
    "\n",
    "from matplotlib import pyplot as plt\n",
    "\n",
    "true_count = len(df_new[df_new['Label'] == True])\n",
    "false_count = len(df_new[df_new['Label'] == False])\n",
    "print(true_count, false_count)\n",
    "plt.title(\"Claim Veracities\\nTrue: {}    False: {}\".format(true_count, false_count))\n",
    "plt.bar([\"True\", \"False\"], [true_count, false_count])\n",
    "plt.show()"
   ]
  },
  {
   "cell_type": "code",
   "execution_count": 19,
   "metadata": {},
   "outputs": [
    {
     "data": {
      "text/plain": [
       "{'Claims about prominent actors',\n",
       " 'Community spread and impact',\n",
       " 'Conspiracy theories',\n",
       " 'Medical advice and self-treatments',\n",
       " 'Other',\n",
       " 'Public authority actions, policy, and communications',\n",
       " 'Public preparedness, protests, and civil disobedience',\n",
       " 'Vaccines, medical treatments, and tests',\n",
       " 'Virus origin and properties',\n",
       " 'Virus transmission'}"
      ]
     },
     "execution_count": 19,
     "metadata": {},
     "output_type": "execute_result"
    }
   ],
   "source": [
    "categories = set(df_new['Category'])\n",
    "categories"
   ]
  },
  {
   "cell_type": "code",
   "execution_count": 90,
   "metadata": {},
   "outputs": [
    {
     "name": "stderr",
     "output_type": "stream",
     "text": [
      "<ipython-input-90-4f38aa5853cf>:17: UserWarning: FixedFormatter should only be used together with FixedLocator\n",
      "  plt.gca().set_xticklabels([key.replace(\" \", \"\\n\") for key in category_freqs.keys()])\n"
     ]
    },
    {
     "data": {
      "image/png": "[encoded data removed]",
      "text/plain": [
       "<Figure size 1080x432 with 1 Axes>"
      ]
     },
     "metadata": {
      "needs_background": "light"
     },
     "output_type": "display_data"
    }
   ],
   "source": [
    "def sort_dict(dictionary, descending=True):\n",
    "    \"\"\"\n",
    "    :param dictionary: of format {key: numerical value}\n",
    "    :return: sorted list of (key, value) tuples\n",
    "    \"\"\"\n",
    "    return sorted(list(dictionary.items()), key=lambda pair: pair[1], reverse=descending)\n",
    "\n",
    "\n",
    "category_freqs = {}\n",
    "for category in categories:\n",
    "    category_freqs[category] = len(df_new[df_new['Category'] == category])\n",
    "\n",
    "plt.figure(figsize=(15,6))\n",
    "plt.title(\"Distribution of Annotated Claim Categories\")\n",
    "plt.bar(category_freqs.keys(), category_freqs.values())\n",
    "\n",
    "plt.gca().set_xticklabels([key.replace(\" \", \"\\n\") for key in category_freqs.keys()])\n",
    "for i, v in enumerate(category_freqs.values()):\n",
    "    plt.gca().text(i - 0.1, v + 5, str(v))\n",
    "    \n",
    "plt.xlabel(\"Category\")\n",
    "plt.ylabel(\"Frequency\")\n",
    "plt.show()"
   ]
  }
 ],
 "metadata": {
  "kernelspec": {
   "display_name": "Python 3",
   "language": "python",
   "name": "python3"
  },
  "language_info": {
   "codemirror_mode": {
    "name": "ipython",
    "version": 3
   },
   "file_extension": ".py",
   "mimetype": "text/x-python",
   "name": "python",
   "nbconvert_exporter": "python",
   "pygments_lexer": "ipython3",
   "version": "3.6.3"
  }
 },
 "nbformat": 4,
 "nbformat_minor": 4
}
