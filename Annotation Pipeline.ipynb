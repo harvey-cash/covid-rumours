{
 "cells": [
  {
   "cell_type": "markdown",
   "metadata": {},
   "source": [
    "# Annotation Pipeline\n",
    "## User interface, from running queries on elastic, all the way through to producing annotation forms"
   ]
  },
  {
   "cell_type": "markdown",
   "metadata": {},
   "source": [
    "# 1. Query Elastic"
   ]
  },
  {
   "cell_type": "code",
   "execution_count": null,
   "metadata": {},
   "outputs": [],
   "source": [
    "from querytweets import queries\n",
    "\n",
    "categories = [\n",
    "    \"Public authority actions, policy, and communications\",\n",
    "    \"Community spread and impact\",\n",
    "    \"Medical advice and self-treatments\",\n",
    "    \"Claims about prominent actors\",\n",
    "    \"Conspiracy theories\",\n",
    "    \"Virus transmission\",\n",
    "    \"Virus origin and properties\",\n",
    "    \"Public preparedness, protests, and civil disobedience\",\n",
    "    \"Vaccines, medical treatments, and tests\"\n",
    "]\n",
    "\n",
    "amount = 10\n",
    "\n",
    "tweets = []\n",
    "for category in categories:\n",
    "    tweet_ids = queries.random_rumours(amount, [category])\n",
    "    tweet_texts = queries.text_from_id(tweet_ids)\n",
    "    tweets = tweets + [{\"id\": tweet_id, \"text\": tweet_texts[i], \"category\": category} for i, tweet_id in enumerate(tweet_ids)]\n",
    "\n",
    "print(tweets)"
   ]
  },
  {
   "cell_type": "markdown",
   "metadata": {},
   "source": [
    "## For testing"
   ]
  },
  {
   "cell_type": "raw",
   "metadata": {},
   "source": [
    "tweets = [{\"id\": i, \"text\": \"coronavirus more like smoronavirus amirite guys lol\", \"category\": category}\n",
    "          for i, category in enumerate(categories)]"
   ]
  },
  {
   "cell_type": "markdown",
   "metadata": {},
   "source": [
    "# 2. Turns tweets into term-frequency dictionaries"
   ]
  },
  {
   "cell_type": "code",
   "execution_count": 3,
   "metadata": {},
   "outputs": [
    {
     "name": "stdout",
     "output_type": "stream",
     "text": [
      "[{'id': 0, 'query': {'coronaviru': 1, 'like': 1, 'smoronaviru': 1, 'amirit': 1}, 'text': 'coronavirus more like smoronavirus amirite guys lol', 'category': 'Public authority actions, policy, and communications'}, {'id': 1, 'query': {'coronaviru': 1, 'like': 1, 'smoronaviru': 1, 'amirit': 1}, 'text': 'coronavirus more like smoronavirus amirite guys lol', 'category': 'Community spread and impact'}, {'id': 2, 'query': {'coronaviru': 1, 'like': 1, 'smoronaviru': 1, 'amirit': 1}, 'text': 'coronavirus more like smoronavirus amirite guys lol', 'category': 'Medical advice and self-treatments'}, {'id': 3, 'query': {'coronaviru': 1, 'like': 1, 'smoronaviru': 1, 'amirit': 1}, 'text': 'coronavirus more like smoronavirus amirite guys lol', 'category': 'Claims about prominent actors'}, {'id': 4, 'query': {'coronaviru': 1, 'like': 1, 'smoronaviru': 1, 'amirit': 1}, 'text': 'coronavirus more like smoronavirus amirite guys lol', 'category': 'Conspiracy theories'}, {'id': 5, 'query': {'coronaviru': 1, 'like': 1, 'smoronaviru': 1, 'amirit': 1}, 'text': 'coronavirus more like smoronavirus amirite guys lol', 'category': 'Virus transmission'}, {'id': 6, 'query': {'coronaviru': 1, 'like': 1, 'smoronaviru': 1, 'amirit': 1}, 'text': 'coronavirus more like smoronavirus amirite guys lol', 'category': 'Virus origin and properties'}, {'id': 7, 'query': {'coronaviru': 1, 'like': 1, 'smoronaviru': 1, 'amirit': 1}, 'text': 'coronavirus more like smoronavirus amirite guys lol', 'category': 'Public preparedness, protests, and civil disobedience'}, {'id': 8, 'query': {'coronaviru': 1, 'like': 1, 'smoronaviru': 1, 'amirit': 1}, 'text': 'coronavirus more like smoronavirus amirite guys lol', 'category': 'Vaccines, medical treatments, and tests'}]\n"
     ]
    }
   ],
   "source": [
    "from claimretrieval import tweet_query\n",
    "\n",
    "tweet_queries = [{\n",
    "    \"id\": tweet[\"id\"],\n",
    "    \"query\": tweet_query.construct_query(tweet[\"text\"]), \n",
    "    \"text\": tweet[\"text\"],\n",
    "    \"category\": tweet[\"category\"]\n",
    "} for tweet in tweets]\n",
    "\n",
    "print(tweet_queries)"
   ]
  },
  {
   "cell_type": "markdown",
   "metadata": {},
   "source": [
    "# 3. Create claim retrievers"
   ]
  },
  {
   "cell_type": "code",
   "execution_count": 4,
   "metadata": {},
   "outputs": [
    {
     "name": "stdout",
     "output_type": "stream",
     "text": [
      "{'Public authority actions, policy, and communications': <claimretrieval.retriever.Retriever object at 0x000002094EE19A90>, 'Community spread and impact': <claimretrieval.retriever.Retriever object at 0x000002094EE19A00>, 'Medical advice and self-treatments': <claimretrieval.retriever.Retriever object at 0x0000020956A5BAF0>, 'Claims about prominent actors': <claimretrieval.retriever.Retriever object at 0x0000020956A3C3D0>, 'Conspiracy theories': <claimretrieval.retriever.Retriever object at 0x0000020956A3C370>, 'Virus transmission': <claimretrieval.retriever.Retriever object at 0x0000020956A3C880>, 'Virus origin and properties': <claimretrieval.retriever.Retriever object at 0x0000020956A63FA0>, 'Public preparedness, protests, and civil disobedience': <claimretrieval.retriever.Retriever object at 0x0000020956A63E80>, 'Vaccines, medical treatments, and tests': <claimretrieval.retriever.Retriever object at 0x0000020956A63F40>}\n"
     ]
    }
   ],
   "source": [
    "from claimretrieval import claim_index\n",
    "from claimretrieval.retriever import Retriever\n",
    "\n",
    "# Dictionary of { category: index } where each index is { word: {doc_id: frequency} }\n",
    "category_indices = claim_index.construct_indices(categories, \"./claimretrieval/IndexClaimCategory.csv\")\n",
    "\n",
    "category_retrievers = {category: Retriever(category_indices[category]) for category in categories}\n",
    "\n",
    "print(category_retrievers)"
   ]
  },
  {
   "cell_type": "markdown",
   "metadata": {},
   "source": [
    "# 4. Retrieve claim shortlist for each tweet, for each category"
   ]
  },
  {
   "cell_type": "code",
   "execution_count": 8,
   "metadata": {},
   "outputs": [],
   "source": [
    "import pandas as pd\n",
    "\n",
    "claim_df = pd.read_csv(\"./claimretrieval/IndexClaimCategory.csv\")\n",
    "claim_df.dropna(axis='columns', how='all', inplace=True)  # Drop any columns that are all N/A\n",
    "claim_df.dropna(axis='index', how='any', inplace=True)  # Drop any rows that have at least one N/A\n",
    "\n",
    "def claim_text_from_ids(claim_ids):\n",
    "    return [row['Claim'] for i, row in claim_df.iterrows() if int(row['Index']) in claim_ids]"
   ]
  },
  {
   "cell_type": "code",
   "execution_count": 9,
   "metadata": {},
   "outputs": [],
   "source": [
    "def shortlist_claims(query):\n",
    "    shortlist = []\n",
    "    for category in categories:\n",
    "        claim_indices = category_retrievers[category].shortlist(query)\n",
    "        claim_texts = claim_text_from_ids(claim_indices)\n",
    "        shortlist = shortlist + [{\"rumourID\": claim_id, \"category\": category, \"description\": claim_text}\n",
    "                                for (claim_id, claim_text) in zip(claim_indices, claim_texts)]\n",
    "    return shortlist"
   ]
  },
  {
   "cell_type": "code",
   "execution_count": 13,
   "metadata": {},
   "outputs": [
    {
     "name": "stdout",
     "output_type": "stream",
     "text": [
      "{'98': {'rumourID': 98, 'category': 'Public authority actions, policy, and communications', 'description': 'A Dutch minister said that “giving money to Portuguese politicians is like putting a cat in a sardines basket”.\\t\\t'}, '981': {'rumourID': 981, 'category': 'Public authority actions, policy, and communications', 'description': 'If Florida banned alcohol sales due to coronavirus.\\t\\t'}, '1291': {'rumourID': 1291, 'category': 'Public authority actions, policy, and communications', 'description': 'NY banned cigarette sales because of the coronavirus.\\t\\t'}, '994': {'rumourID': 994, 'category': 'Public authority actions, policy, and communications', 'description': 'Coronavirus patients were being arrested in Punjab, India.\\t\\t'}, '757': {'rumourID': 757, 'category': 'Public authority actions, policy, and communications', 'description': 'Video shows Chinese police crackdown on coronavirus patients.\\t\\t'}, '389': {'rumourID': 389, 'category': 'Public authority actions, policy, and communications', 'description': 'The WHO coronavirus test “was a bad test.”\\t\\t'}, '1158': {'rumourID': 1158, 'category': 'Public authority actions, policy, and communications', 'description': '“(Former U.S. President Barack Obama) set up anti-pandemic programs in 47 vulnerable countries as a way to protect against something like the coronavirus. Do you know that Trump closed 37 of them?”\\t\\t'}, '1272': {'rumourID': 1272, 'category': 'Public authority actions, policy, and communications', 'description': 'An image has been shared in multiple posts on Facebook and Twitter alongside a claim that it shows China administering the “world’s first new coronavirus vaccine” after the global outbreak of the novel coronavirus, COVID-19.\\t\\t'}, '735': {'rumourID': 735, 'category': 'Public authority actions, policy, and communications', 'description': 'China needs coronavirus SWAT (special weapons and tactics) police teams to arrest this coronavirus victim.\\t\\t'}, '750': {'rumourID': 750, 'category': 'Public authority actions, policy, and communications', 'description': 'A woman infected with the coronavirus was killed by Chinese police.\\t\\t'}, '382': {'rumourID': 382, 'category': 'Public authority actions, policy, and communications', 'description': 'China is planning to kill coronavirus patients.\\t\\t'}, '1359': {'rumourID': 1359, 'category': 'Community spread and impact', 'description': 'The video shows Italians praying to get rid of the coronavirus.\\t\\t'}, '983': {'rumourID': 983, 'category': 'Community spread and impact', 'description': 'Photo shows coffins from coronavirus outbreak in Italy.\\t\\t'}, '1465': {'rumourID': 1465, 'category': 'Community spread and impact', 'description': 'For coronavirus cases “in the U.S. 38% of those hospitalized are under 35.”\\t\\t'}, '1038': {'rumourID': 1038, 'category': 'Community spread and impact', 'description': '“An entire family” in Santolan, Pasig, is “confirmed to be infected” with the novel coronavirus, according to what looked like a breaking news graphic from GMA News.\\t\\t'}, '682': {'rumourID': 682, 'category': 'Community spread and impact', 'description': '10 coronavirus cases confirmed in Ecuador.\\t\\t'}, '599': {'rumourID': 599, 'category': 'Community spread and impact', 'description': 'There is a patent for the new coronavirus.\\t\\t'}, '1289': {'rumourID': 1289, 'category': 'Community spread and impact', 'description': '“You’re more likely to die of influenza right now” than the 2019 coronavirus.\\t\\t'}, '342': {'rumourID': 342, 'category': 'Community spread and impact', 'description': 'Picture of the first new Wuhan coronavirus hospital.\\t\\t'}, '1435': {'rumourID': 1435, 'category': 'Community spread and impact', 'description': 'This is the picture of the first new Wuhan coronavirus hospital.\\t\\t'}, '1409': {'rumourID': 1409, 'category': 'Community spread and impact', 'description': '“Coronavirus, nasa Pilipinas na (coronavirus, already in the Philippines)” – (Jan. 28)\\t\\t'}, '1421': {'rumourID': 1421, 'category': 'Community spread and impact', 'description': 'Videos of people infected with the new coronavirus in China.\\t\\t'}, '466': {'rumourID': 466, 'category': 'Medical advice and self-treatments', 'description': 'Tea can cure coronavirus.\\t\\t'}, '1357': {'rumourID': 1357, 'category': 'Medical advice and self-treatments', 'description': 'Gargling with hot water can prevent coronavirus infection.\\t\\t'}, '1094': {'rumourID': 1094, 'category': 'Medical advice and self-treatments', 'description': 'Eating bananas prevents coronavirus.\\t\\t'}, '1271': {'rumourID': 1271, 'category': 'Medical advice and self-treatments', 'description': 'Alcohol kills the coronavirus.\\t\\t'}, '1270': {'rumourID': 1270, 'category': 'Medical advice and self-treatments', 'description': 'Cocaine kills the coronavirus.\\t\\t'}, '1344': {'rumourID': 1344, 'category': 'Medical advice and self-treatments', 'description': 'Weed kills the coronavirus.\\t\\t'}, '1239': {'rumourID': 1239, 'category': 'Medical advice and self-treatments', 'description': 'Can cannabis cure coronavirus?\\t\\t'}, '468': {'rumourID': 468, 'category': 'Medical advice and self-treatments', 'description': 'Garlic water can cure novel coronavirus.\\t\\t'}, '742': {'rumourID': 742, 'category': 'Medical advice and self-treatments', 'description': 'Cow urine cures coronavirus.\\t\\t'}, '1312': {'rumourID': 1312, 'category': 'Medical advice and self-treatments', 'description': 'Vitamin C can “stop” the new coronavirus.\\t\\t'}, '1206': {'rumourID': 1206, 'category': 'Medical advice and self-treatments', 'description': 'Garlic water can cure the new coronavirus.\\t\\t'}, '986': {'rumourID': 986, 'category': 'Claims about prominent actors', 'description': 'Actor Tom Hanks died due to coronavirus.\\t\\t'}, '464': {'rumourID': 464, 'category': 'Claims about prominent actors', 'description': 'Queen Elizabeth II is infected with the new coronavirus.\\t\\t'}, '1353': {'rumourID': 1353, 'category': 'Claims about prominent actors', 'description': 'If Queen Elizabeth II tested positive for coronavirus.\\t\\t'}, '597': {'rumourID': 597, 'category': 'Claims about prominent actors', 'description': 'President of Italy crying because of the coronavirus pandemic.\\t\\t'}, '274': {'rumourID': 274, 'category': 'Claims about prominent actors', 'description': 'Joe Biden tested positive for coronavirus.\\t\\t'}, '1119': {'rumourID': 1119, 'category': 'Claims about prominent actors', 'description': 'Donald Trump said about coronavirus, “People are dying who have never died before.”                '}, '1297': {'rumourID': 1297, 'category': 'Claims about prominent actors', 'description': '“Coronavirus — 22. Clintons — 39.”\\t\\t'}, '662': {'rumourID': 662, 'category': 'Claims about prominent actors', 'description': 'Pope Francis contacted coronavirus.\\t\\t'}, '340': {'rumourID': 340, 'category': 'Claims about prominent actors', 'description': 'Pope Francis is infected with coronavirus.\\t\\t'}, '388': {'rumourID': 388, 'category': 'Claims about prominent actors', 'description': 'Xi Jinping visits a mosque for coronavirus.\\t\\t'}, '1019': {'rumourID': 1019, 'category': 'Claims about prominent actors', 'description': 'Dettol can kill the new coronavirus.\\t\\t'}, '347': {'rumourID': 347, 'category': 'Conspiracy theories', 'description': 'Coronavirus is caused by 5G.\\t\\t'}, '1233': {'rumourID': 1233, 'category': 'Conspiracy theories', 'description': '5G technology caused the coronavirus.\\t\\t'}, '1173': {'rumourID': 1173, 'category': 'Conspiracy theories', 'description': '5G Technology Believed To Have Caused coronavirus\\t\\t'}, '710': {'rumourID': 710, 'category': 'Conspiracy theories', 'description': 'Clorox Already Knew About Coronavirus And Coronavirus Isn’t A New Virus.\\t\\t'}, '664': {'rumourID': 664, 'category': 'Conspiracy theories', 'description': 'The coronavirus outbreak is caused by 5G technology.\\t\\t'}, '1190': {'rumourID': 1190, 'category': 'Conspiracy theories', 'description': 'Coronavirus is a bioweapon leaked from a Wuhan lab.\\t\\t'}, '1027': {'rumourID': 1027, 'category': 'Conspiracy theories', 'description': 'Nostradamus predicted the coronavirus.\\t\\t'}, '1355': {'rumourID': 1355, 'category': 'Conspiracy theories', 'description': 'The Simpsons predicted the new coronavirus outbreak.\\t\\t'}, '1356': {'rumourID': 1356, 'category': 'Conspiracy theories', 'description': 'Coronavirus was created in a lab in Wuhan.\\t\\t'}, '1159': {'rumourID': 1159, 'category': 'Conspiracy theories', 'description': '“The coronavirus was engineered by scientists in a lab.”\\t\\t'}, '703': {'rumourID': 703, 'category': 'Conspiracy theories', 'description': 'Coronavirus contains “HIV insertions.”\\t\\t'}, '1146': {'rumourID': 1146, 'category': 'Virus transmission', 'description': 'Video suggesting that a man is spitting on bread to spread coronavirus.\\t\\t'}, '1431': {'rumourID': 1431, 'category': 'Virus transmission', 'description': 'A group of Muslim boys licking utensils to spread coronavirus.\\t\\t'}, '311': {'rumourID': 311, 'category': 'Virus transmission', 'description': 'Video claiming you can’t catch coronavirus.\\t\\t'}, '516': {'rumourID': 516, 'category': 'Virus transmission', 'description': 'Muslims are licking their plates to spread coronavirus and infect more people with the virus.\\t\\t'}, '818': {'rumourID': 818, 'category': 'Virus transmission', 'description': 'The CDC now says that the coronavirus can survive on surfaces for up to 17 days.\\t\\t'}, '598': {'rumourID': 598, 'category': 'Virus transmission', 'description': 'Coronavirus cases linked to 5G rollout.\\t\\t'}, '765': {'rumourID': 765, 'category': 'Virus transmission', 'description': 'Having a beard increases your chances of getting coronavirus.\\t\\t'}, '119': {'rumourID': 119, 'category': 'Virus transmission', 'description': 'A video shows how the coronavirus is transmitted between people\\t\\t'}, '319': {'rumourID': 319, 'category': 'Virus transmission', 'description': 'No coronavirus in Nigeria yet, according to pastor.\\t\\t'}, '840': {'rumourID': 840, 'category': 'Virus transmission', 'description': 'Hair Weaves And Lace Front Wigs Made In China Likely To Contain coronavirus.\\t\\t'}, '209': {'rumourID': 209, 'category': 'Virus transmission', 'description': 'Coronavirus was spread via bananas\\t\\t'}, '717': {'rumourID': 717, 'category': 'Virus origin and properties', 'description': '“China is to blame because the culture where people eat bats and snakes and dogs and things like that, these viruses are transmitted from the animal to the people and that’s why China has been the source of a lot of these viruses like SARS, like MERS, the Swine Flu and now the coronavirus.”                '}, '816': {'rumourID': 816, 'category': 'Virus origin and properties', 'description': 'The novel coronavirus is not new.\\t\\t'}, '1379': {'rumourID': 1379, 'category': 'Virus origin and properties', 'description': 'Coronavirus is just “the damn flu.”\\t\\t'}, '1335': {'rumourID': 1335, 'category': 'Virus origin and properties', 'description': 'Coronavirus is found in crab legs.\\t\\t'}, '987': {'rumourID': 987, 'category': 'Virus origin and properties', 'description': 'American CDC admitted that coronavirus originated in the U.S. Many COVID-19 patients were misdiagnosed as coronavirus.\\t\\t'}, '836': {'rumourID': 836, 'category': 'Virus origin and properties', 'description': 'This photo shows the novel coronavirus.\\t\\t'}, '941': {'rumourID': 941, 'category': 'Virus origin and properties', 'description': 'Coronavirus has infected broiler chicken.\\t\\t'}, '1480': {'rumourID': 1480, 'category': 'Virus origin and properties', 'description': 'Chickens cause coronavirus.\\t\\t'}, '1311': {'rumourID': 1311, 'category': 'Virus origin and properties', 'description': 'A video shows pigs buried in China because of the coronavirus.\\t\\t'}, '847': {'rumourID': 847, 'category': 'Virus origin and properties', 'description': 'The novel coronavirus is not a new virus.\\t\\t'}, '1348': {'rumourID': 1348, 'category': 'Virus origin and properties', 'description': 'Coronavirus is a type of rabies.\\t\\t'}, '1331': {'rumourID': 1331, 'category': 'Public preparedness, protests, and civil disobedience', 'description': 'American citizens have placed a nude statue of President Donald Trump in New York City because he failed to handle the coronavirus situation in USA.\\t\\t'}, '1148': {'rumourID': 1148, 'category': 'Public preparedness, protests, and civil disobedience', 'description': 'A claim has been shared on Facebook and several Sri Lankan news websites that Muslims at a mosque in Sri Lanka reacted violently after authorities told them their gathering was in violation of the country’s novel coronavirus curfew.\\t\\t'}, '1021': {'rumourID': 1021, 'category': 'Public preparedness, protests, and civil disobedience', 'description': 'A couple of videos shared this month on Facebook purportedly show recent lootings in shops in South Africa, while the country undergoes a 21-day lockdown to minimize the spread of the novel coronavirus.\\t\\t'}, '1169': {'rumourID': 1169, 'category': 'Public preparedness, protests, and civil disobedience', 'description': 'A video has been viewed thousands of times on Facebook, Instagram, Twitter and YouTube alongside a claim it shows people rioting and looting shops in England during the coronavirus lockdown.\\t\\t'}, '1231': {'rumourID': 1231, 'category': 'Public preparedness, protests, and civil disobedience', 'description': 'A video has been viewed hundreds of thousands of times on Facebook, Twitter and YouTube alongside a claim that it shows a drone launching fireworks at people who breached a curfew in Malaysia during a nationwide coronavirus lockdown.\\t\\t'}, '1232': {'rumourID': 1232, 'category': 'Public preparedness, protests, and civil disobedience', 'description': 'A Shaheen Bagh protest in India was claimed to have coronavirus.\\t\\t'}, '356': {'rumourID': 356, 'category': 'Public preparedness, protests, and civil disobedience', 'description': '“Coronavirus: Florida man arrested for robbery using cough as a weapon.”\\t\\t'}, '572': {'rumourID': 572, 'category': 'Public preparedness, protests, and civil disobedience', 'description': 'Shoppers in China storm supermarket after coronavirus outbreak.\\t\\t'}, '327': {'rumourID': 327, 'category': 'Public preparedness, protests, and civil disobedience', 'description': 'A residential building was set on fire in Wuhan to control spread of coronavirus.\\t\\t'}, '83': {'rumourID': 83, 'category': 'Public preparedness, protests, and civil disobedience', 'description': 'High-rise buildings have become human incinerators to combat the spread of the coronavirus.\\t\\t'}, '302': {'rumourID': 302, 'category': 'Public preparedness, protests, and civil disobedience', 'description': 'Video from China shows people fleeing from coronavirus quarantine.\\t\\t'}, '740': {'rumourID': 740, 'category': 'Vaccines, medical treatments, and tests', 'description': 'American scientists have developed a cure for the coronavirus.\\t\\t'}, '888': {'rumourID': 888, 'category': 'Vaccines, medical treatments, and tests', 'description': 'Lemon and bicarbonate can cure coronavirus.\\t\\t'}, '1199': {'rumourID': 1199, 'category': 'Vaccines, medical treatments, and tests', 'description': 'A post says that a vaccine for the new coronavirus will be available in a few days.\\t\\t'}, '575': {'rumourID': 575, 'category': 'Vaccines, medical treatments, and tests', 'description': 'A new vaccine to cure coronavirus has been developed by U.S. scientists.\\t\\t'}, '486': {'rumourID': 486, 'category': 'Vaccines, medical treatments, and tests', 'description': 'A WhatsApp forward claimed that a vaccine for coronavirus has been discovered and that the treatment for coronavirus is mentioned in an Intermediate Zoology book.\\t\\t'}, '1207': {'rumourID': 1207, 'category': 'Vaccines, medical treatments, and tests', 'description': 'A dog vaccine can be used against coronavirus in people.\\t\\t'}, '1035': {'rumourID': 1035, 'category': 'Vaccines, medical treatments, and tests', 'description': 'A vaccine for the 2019 novel coronavirus has been found and there will be no more deaths due to the coronavirus.\\t\\t'}, '497': {'rumourID': 497, 'category': 'Vaccines, medical treatments, and tests', 'description': 'If you donate blood, “they HAVE to test you” for coronavirus.\\t\\t'}, '918': {'rumourID': 918, 'category': 'Vaccines, medical treatments, and tests', 'description': 'Israel creates a vaccine for the coronavirus.\\t\\t'}, '238': {'rumourID': 238, 'category': 'Vaccines, medical treatments, and tests', 'description': 'India has developed a treatment for coronavirus.\\t\\t'}, '202': {'rumourID': 202, 'category': 'Vaccines, medical treatments, and tests', 'description': 'COVID-19 is the name of the vaccine against the novel coronavirus.\\t\\t'}}\n"
     ]
    }
   ],
   "source": [
    "known_claim_ids = []\n",
    "known_claims = {}\n",
    "\n",
    "for tweet_query in tweet_queries:\n",
    "    shortlist = shortlist_claims(tweet_query[\"query\"])\n",
    "    \n",
    "    for claim in shortlist:\n",
    "        if claim[\"rumourID\"] not in known_claim_ids:\n",
    "            known_claim_ids.append(claim[\"rumourID\"])\n",
    "            known_claims[str(claim[\"rumourID\"])] = claim\n",
    "    \n",
    "    tweet_query[\"shortlist\"] = [claim[\"rumourID\"] for claim in shortlist]\n",
    "\n",
    "print(known_claims)"
   ]
  },
  {
   "cell_type": "markdown",
   "metadata": {},
   "source": [
    "# 5. Produce JSONs for the annotation form generator"
   ]
  },
  {
   "cell_type": "code",
   "execution_count": 19,
   "metadata": {},
   "outputs": [
    {
     "name": "stdout",
     "output_type": "stream",
     "text": [
      "{\"tweetSample\": [{\"tweetID\": \"0\", \"text\": \"coronavirus more like smoronavirus amirite guys lol\", \"rumourShortlist\": [98, 981, 1291, 994, 757, 389, 1158, 1272, 735, 750, 382, 1359, 983, 1465, 1038, 682, 599, 1289, 342, 1435, 1409, 1421, 466, 1357, 1094, 1271, 1270, 1344, 1239, 468, 742, 1312, 1206, 986, 464, 1353, 597, 274, 1119, 1297, 662, 340, 388, 1019, 347, 1233, 1173, 710, 664, 1190, 1027, 1355, 1356, 1159, 703, 1146, 1431, 311, 516, 818, 598, 765, 119, 319, 840, 209, 717, 816, 1379, 1335, 987, 836, 941, 1480, 1311, 847, 1348, 1331, 1148, 1021, 1169, 1231, 1232, 356, 572, 327, 83, 302, 740, 888, 1199, 575, 486, 1207, 1035, 497, 918, 238, 202]}, {\"tweetID\": \"1\", \"text\": \"coronavirus more like smoronavirus amirite guys lol\", \"rumourShortlist\": [98, 981, 1291, 994, 757, 389, 1158, 1272, 735, 750, 382, 1359, 983, 1465, 1038, 682, 599, 1289, 342, 1435, 1409, 1421, 466, 1357, 1094, 1271, 1270, 1344, 1239, 468, 742, 1312, 1206, 986, 464, 1353, 597, 274, 1119, 1297, 662, 340, 388, 1019, 347, 1233, 1173, 710, 664, 1190, 1027, 1355, 1356, 1159, 703, 1146, 1431, 311, 516, 818, 598, 765, 119, 319, 840, 209, 717, 816, 1379, 1335, 987, 836, 941, 1480, 1311, 847, 1348, 1331, 1148, 1021, 1169, 1231, 1232, 356, 572, 327, 83, 302, 740, 888, 1199, 575, 486, 1207, 1035, 497, 918, 238, 202]}, {\"tweetID\": \"2\", \"text\": \"coronavirus more like smoronavirus amirite guys lol\", \"rumourShortlist\": [98, 981, 1291, 994, 757, 389, 1158, 1272, 735, 750, 382, 1359, 983, 1465, 1038, 682, 599, 1289, 342, 1435, 1409, 1421, 466, 1357, 1094, 1271, 1270, 1344, 1239, 468, 742, 1312, 1206, 986, 464, 1353, 597, 274, 1119, 1297, 662, 340, 388, 1019, 347, 1233, 1173, 710, 664, 1190, 1027, 1355, 1356, 1159, 703, 1146, 1431, 311, 516, 818, 598, 765, 119, 319, 840, 209, 717, 816, 1379, 1335, 987, 836, 941, 1480, 1311, 847, 1348, 1331, 1148, 1021, 1169, 1231, 1232, 356, 572, 327, 83, 302, 740, 888, 1199, 575, 486, 1207, 1035, 497, 918, 238, 202]}, {\"tweetID\": \"3\", \"text\": \"coronavirus more like smoronavirus amirite guys lol\", \"rumourShortlist\": [98, 981, 1291, 994, 757, 389, 1158, 1272, 735, 750, 382, 1359, 983, 1465, 1038, 682, 599, 1289, 342, 1435, 1409, 1421, 466, 1357, 1094, 1271, 1270, 1344, 1239, 468, 742, 1312, 1206, 986, 464, 1353, 597, 274, 1119, 1297, 662, 340, 388, 1019, 347, 1233, 1173, 710, 664, 1190, 1027, 1355, 1356, 1159, 703, 1146, 1431, 311, 516, 818, 598, 765, 119, 319, 840, 209, 717, 816, 1379, 1335, 987, 836, 941, 1480, 1311, 847, 1348, 1331, 1148, 1021, 1169, 1231, 1232, 356, 572, 327, 83, 302, 740, 888, 1199, 575, 486, 1207, 1035, 497, 918, 238, 202]}, {\"tweetID\": \"4\", \"text\": \"coronavirus more like smoronavirus amirite guys lol\", \"rumourShortlist\": [98, 981, 1291, 994, 757, 389, 1158, 1272, 735, 750, 382, 1359, 983, 1465, 1038, 682, 599, 1289, 342, 1435, 1409, 1421, 466, 1357, 1094, 1271, 1270, 1344, 1239, 468, 742, 1312, 1206, 986, 464, 1353, 597, 274, 1119, 1297, 662, 340, 388, 1019, 347, 1233, 1173, 710, 664, 1190, 1027, 1355, 1356, 1159, 703, 1146, 1431, 311, 516, 818, 598, 765, 119, 319, 840, 209, 717, 816, 1379, 1335, 987, 836, 941, 1480, 1311, 847, 1348, 1331, 1148, 1021, 1169, 1231, 1232, 356, 572, 327, 83, 302, 740, 888, 1199, 575, 486, 1207, 1035, 497, 918, 238, 202]}, {\"tweetID\": \"5\", \"text\": \"coronavirus more like smoronavirus amirite guys lol\", \"rumourShortlist\": [98, 981, 1291, 994, 757, 389, 1158, 1272, 735, 750, 382, 1359, 983, 1465, 1038, 682, 599, 1289, 342, 1435, 1409, 1421, 466, 1357, 1094, 1271, 1270, 1344, 1239, 468, 742, 1312, 1206, 986, 464, 1353, 597, 274, 1119, 1297, 662, 340, 388, 1019, 347, 1233, 1173, 710, 664, 1190, 1027, 1355, 1356, 1159, 703, 1146, 1431, 311, 516, 818, 598, 765, 119, 319, 840, 209, 717, 816, 1379, 1335, 987, 836, 941, 1480, 1311, 847, 1348, 1331, 1148, 1021, 1169, 1231, 1232, 356, 572, 327, 83, 302, 740, 888, 1199, 575, 486, 1207, 1035, 497, 918, 238, 202]}, {\"tweetID\": \"6\", \"text\": \"coronavirus more like smoronavirus amirite guys lol\", \"rumourShortlist\": [98, 981, 1291, 994, 757, 389, 1158, 1272, 735, 750, 382, 1359, 983, 1465, 1038, 682, 599, 1289, 342, 1435, 1409, 1421, 466, 1357, 1094, 1271, 1270, 1344, 1239, 468, 742, 1312, 1206, 986, 464, 1353, 597, 274, 1119, 1297, 662, 340, 388, 1019, 347, 1233, 1173, 710, 664, 1190, 1027, 1355, 1356, 1159, 703, 1146, 1431, 311, 516, 818, 598, 765, 119, 319, 840, 209, 717, 816, 1379, 1335, 987, 836, 941, 1480, 1311, 847, 1348, 1331, 1148, 1021, 1169, 1231, 1232, 356, 572, 327, 83, 302, 740, 888, 1199, 575, 486, 1207, 1035, 497, 918, 238, 202]}, {\"tweetID\": \"7\", \"text\": \"coronavirus more like smoronavirus amirite guys lol\", \"rumourShortlist\": [98, 981, 1291, 994, 757, 389, 1158, 1272, 735, 750, 382, 1359, 983, 1465, 1038, 682, 599, 1289, 342, 1435, 1409, 1421, 466, 1357, 1094, 1271, 1270, 1344, 1239, 468, 742, 1312, 1206, 986, 464, 1353, 597, 274, 1119, 1297, 662, 340, 388, 1019, 347, 1233, 1173, 710, 664, 1190, 1027, 1355, 1356, 1159, 703, 1146, 1431, 311, 516, 818, 598, 765, 119, 319, 840, 209, 717, 816, 1379, 1335, 987, 836, 941, 1480, 1311, 847, 1348, 1331, 1148, 1021, 1169, 1231, 1232, 356, 572, 327, 83, 302, 740, 888, 1199, 575, 486, 1207, 1035, 497, 918, 238, 202]}, {\"tweetID\": \"8\", \"text\": \"coronavirus more like smoronavirus amirite guys lol\", \"rumourShortlist\": [98, 981, 1291, 994, 757, 389, 1158, 1272, 735, 750, 382, 1359, 983, 1465, 1038, 682, 599, 1289, 342, 1435, 1409, 1421, 466, 1357, 1094, 1271, 1270, 1344, 1239, 468, 742, 1312, 1206, 986, 464, 1353, 597, 274, 1119, 1297, 662, 340, 388, 1019, 347, 1233, 1173, 710, 664, 1190, 1027, 1355, 1356, 1159, 703, 1146, 1431, 311, 516, 818, 598, 765, 119, 319, 840, 209, 717, 816, 1379, 1335, 987, 836, 941, 1480, 1311, 847, 1348, 1331, 1148, 1021, 1169, 1231, 1232, 356, 572, 327, 83, 302, 740, 888, 1199, 575, 486, 1207, 1035, 497, 918, 238, 202]}]}\n"
     ]
    }
   ],
   "source": [
    "import json\n",
    "\n",
    "tweet_sample = [{\"tweetID\": str(tweet_query[\"id\"]), \"text\": tweet_query[\"text\"], \"rumourShortlist\": tweet_query[\"shortlist\"]} \n",
    "                for tweet_query in tweet_queries]\n",
    "print(json.dumps({\"tweetSample\": tweet_sample}))"
   ]
  },
  {
   "cell_type": "code",
   "execution_count": 18,
   "metadata": {},
   "outputs": [
    {
     "name": "stdout",
     "output_type": "stream",
     "text": [
      "{\"98\": {\"rumourID\": 98, \"category\": \"Public authority actions, policy, and communications\", \"description\": \"A Dutch minister said that \\u201cgiving money to Portuguese politicians is like putting a cat in a sardines basket\\u201d.\\t\\t\"}, \"981\": {\"rumourID\": 981, \"category\": \"Public authority actions, policy, and communications\", \"description\": \"If Florida banned alcohol sales due to coronavirus.\\t\\t\"}, \"1291\": {\"rumourID\": 1291, \"category\": \"Public authority actions, policy, and communications\", \"description\": \"NY banned cigarette sales because of the coronavirus.\\t\\t\"}, \"994\": {\"rumourID\": 994, \"category\": \"Public authority actions, policy, and communications\", \"description\": \"Coronavirus patients were being arrested in Punjab, India.\\t\\t\"}, \"757\": {\"rumourID\": 757, \"category\": \"Public authority actions, policy, and communications\", \"description\": \"Video shows Chinese police crackdown on coronavirus patients.\\t\\t\"}, \"389\": {\"rumourID\": 389, \"category\": \"Public authority actions, policy, and communications\", \"description\": \"The WHO coronavirus test \\u201cwas a bad test.\\u201d\\t\\t\"}, \"1158\": {\"rumourID\": 1158, \"category\": \"Public authority actions, policy, and communications\", \"description\": \"\\u201c(Former U.S. President Barack Obama) set up anti-pandemic programs in 47 vulnerable countries as a way to protect against something like the coronavirus. Do you know that Trump closed 37 of them?\\u201d\\t\\t\"}, \"1272\": {\"rumourID\": 1272, \"category\": \"Public authority actions, policy, and communications\", \"description\": \"An image has been shared in multiple posts on Facebook and Twitter alongside a claim that it shows China administering the \\u201cworld\\u2019s first new coronavirus vaccine\\u201d after the global outbreak of the novel coronavirus, COVID-19.\\t\\t\"}, \"735\": {\"rumourID\": 735, \"category\": \"Public authority actions, policy, and communications\", \"description\": \"China needs coronavirus SWAT (special weapons and tactics) police teams to arrest this coronavirus victim.\\t\\t\"}, \"750\": {\"rumourID\": 750, \"category\": \"Public authority actions, policy, and communications\", \"description\": \"A woman infected with the coronavirus was killed by Chinese police.\\t\\t\"}, \"382\": {\"rumourID\": 382, \"category\": \"Public authority actions, policy, and communications\", \"description\": \"China is planning to kill coronavirus patients.\\t\\t\"}, \"1359\": {\"rumourID\": 1359, \"category\": \"Community spread and impact\", \"description\": \"The video shows Italians praying to get rid of the coronavirus.\\t\\t\"}, \"983\": {\"rumourID\": 983, \"category\": \"Community spread and impact\", \"description\": \"Photo shows coffins from coronavirus outbreak in Italy.\\t\\t\"}, \"1465\": {\"rumourID\": 1465, \"category\": \"Community spread and impact\", \"description\": \"For coronavirus cases \\u201cin the U.S. 38% of those hospitalized are under 35.\\u201d\\t\\t\"}, \"1038\": {\"rumourID\": 1038, \"category\": \"Community spread and impact\", \"description\": \"\\u201cAn entire family\\u201d in Santolan, Pasig, is \\u201cconfirmed to be infected\\u201d with the novel coronavirus, according to what looked like a breaking news graphic from GMA News.\\t\\t\"}, \"682\": {\"rumourID\": 682, \"category\": \"Community spread and impact\", \"description\": \"10 coronavirus cases confirmed in Ecuador.\\t\\t\"}, \"599\": {\"rumourID\": 599, \"category\": \"Community spread and impact\", \"description\": \"There is a patent for the new coronavirus.\\t\\t\"}, \"1289\": {\"rumourID\": 1289, \"category\": \"Community spread and impact\", \"description\": \"\\u201cYou\\u2019re more likely to die of influenza right now\\u201d than the 2019 coronavirus.\\t\\t\"}, \"342\": {\"rumourID\": 342, \"category\": \"Community spread and impact\", \"description\": \"Picture of the first new Wuhan coronavirus hospital.\\t\\t\"}, \"1435\": {\"rumourID\": 1435, \"category\": \"Community spread and impact\", \"description\": \"This is the picture of the first new Wuhan coronavirus hospital.\\t\\t\"}, \"1409\": {\"rumourID\": 1409, \"category\": \"Community spread and impact\", \"description\": \"\\u201cCoronavirus, nasa Pilipinas na (coronavirus, already in the Philippines)\\u201d \\u2013 (Jan. 28)\\t\\t\"}, \"1421\": {\"rumourID\": 1421, \"category\": \"Community spread and impact\", \"description\": \"Videos of people infected with the new coronavirus in China.\\t\\t\"}, \"466\": {\"rumourID\": 466, \"category\": \"Medical advice and self-treatments\", \"description\": \"Tea can cure coronavirus.\\t\\t\"}, \"1357\": {\"rumourID\": 1357, \"category\": \"Medical advice and self-treatments\", \"description\": \"Gargling with hot water can prevent coronavirus infection.\\t\\t\"}, \"1094\": {\"rumourID\": 1094, \"category\": \"Medical advice and self-treatments\", \"description\": \"Eating bananas prevents coronavirus.\\t\\t\"}, \"1271\": {\"rumourID\": 1271, \"category\": \"Medical advice and self-treatments\", \"description\": \"Alcohol kills the coronavirus.\\t\\t\"}, \"1270\": {\"rumourID\": 1270, \"category\": \"Medical advice and self-treatments\", \"description\": \"Cocaine kills the coronavirus.\\t\\t\"}, \"1344\": {\"rumourID\": 1344, \"category\": \"Medical advice and self-treatments\", \"description\": \"Weed kills the coronavirus.\\t\\t\"}, \"1239\": {\"rumourID\": 1239, \"category\": \"Medical advice and self-treatments\", \"description\": \"Can cannabis cure coronavirus?\\t\\t\"}, \"468\": {\"rumourID\": 468, \"category\": \"Medical advice and self-treatments\", \"description\": \"Garlic water can cure novel coronavirus.\\t\\t\"}, \"742\": {\"rumourID\": 742, \"category\": \"Medical advice and self-treatments\", \"description\": \"Cow urine cures coronavirus.\\t\\t\"}, \"1312\": {\"rumourID\": 1312, \"category\": \"Medical advice and self-treatments\", \"description\": \"Vitamin C can \\u201cstop\\u201d the new coronavirus.\\t\\t\"}, \"1206\": {\"rumourID\": 1206, \"category\": \"Medical advice and self-treatments\", \"description\": \"Garlic water can cure the new coronavirus.\\t\\t\"}, \"986\": {\"rumourID\": 986, \"category\": \"Claims about prominent actors\", \"description\": \"Actor Tom Hanks died due to coronavirus.\\t\\t\"}, \"464\": {\"rumourID\": 464, \"category\": \"Claims about prominent actors\", \"description\": \"Queen Elizabeth II is infected with the new coronavirus.\\t\\t\"}, \"1353\": {\"rumourID\": 1353, \"category\": \"Claims about prominent actors\", \"description\": \"If Queen Elizabeth II tested positive for coronavirus.\\t\\t\"}, \"597\": {\"rumourID\": 597, \"category\": \"Claims about prominent actors\", \"description\": \"President of Italy crying because of the coronavirus pandemic.\\t\\t\"}, \"274\": {\"rumourID\": 274, \"category\": \"Claims about prominent actors\", \"description\": \"Joe Biden tested positive for coronavirus.\\t\\t\"}, \"1119\": {\"rumourID\": 1119, \"category\": \"Claims about prominent actors\", \"description\": \"Donald Trump said about coronavirus, \\u201cPeople are dying who have never died before.\\u201d                \"}, \"1297\": {\"rumourID\": 1297, \"category\": \"Claims about prominent actors\", \"description\": \"\\u201cCoronavirus \\u2014 22. Clintons \\u2014 39.\\u201d\\t\\t\"}, \"662\": {\"rumourID\": 662, \"category\": \"Claims about prominent actors\", \"description\": \"Pope Francis contacted coronavirus.\\t\\t\"}, \"340\": {\"rumourID\": 340, \"category\": \"Claims about prominent actors\", \"description\": \"Pope Francis is infected with coronavirus.\\t\\t\"}, \"388\": {\"rumourID\": 388, \"category\": \"Claims about prominent actors\", \"description\": \"Xi Jinping visits a mosque for coronavirus.\\t\\t\"}, \"1019\": {\"rumourID\": 1019, \"category\": \"Claims about prominent actors\", \"description\": \"Dettol can kill the new coronavirus.\\t\\t\"}, \"347\": {\"rumourID\": 347, \"category\": \"Conspiracy theories\", \"description\": \"Coronavirus is caused by 5G.\\t\\t\"}, \"1233\": {\"rumourID\": 1233, \"category\": \"Conspiracy theories\", \"description\": \"5G technology caused the coronavirus.\\t\\t\"}, \"1173\": {\"rumourID\": 1173, \"category\": \"Conspiracy theories\", \"description\": \"5G Technology Believed To Have Caused coronavirus\\t\\t\"}, \"710\": {\"rumourID\": 710, \"category\": \"Conspiracy theories\", \"description\": \"Clorox Already Knew About Coronavirus And Coronavirus Isn\\u2019t A New Virus.\\t\\t\"}, \"664\": {\"rumourID\": 664, \"category\": \"Conspiracy theories\", \"description\": \"The coronavirus outbreak is caused by 5G technology.\\t\\t\"}, \"1190\": {\"rumourID\": 1190, \"category\": \"Conspiracy theories\", \"description\": \"Coronavirus is a bioweapon leaked from a Wuhan lab.\\t\\t\"}, \"1027\": {\"rumourID\": 1027, \"category\": \"Conspiracy theories\", \"description\": \"Nostradamus predicted the coronavirus.\\t\\t\"}, \"1355\": {\"rumourID\": 1355, \"category\": \"Conspiracy theories\", \"description\": \"The Simpsons predicted the new coronavirus outbreak.\\t\\t\"}, \"1356\": {\"rumourID\": 1356, \"category\": \"Conspiracy theories\", \"description\": \"Coronavirus was created in a lab in Wuhan.\\t\\t\"}, \"1159\": {\"rumourID\": 1159, \"category\": \"Conspiracy theories\", \"description\": \"\\u201cThe coronavirus was engineered by scientists in a lab.\\u201d\\t\\t\"}, \"703\": {\"rumourID\": 703, \"category\": \"Conspiracy theories\", \"description\": \"Coronavirus contains \\u201cHIV insertions.\\u201d\\t\\t\"}, \"1146\": {\"rumourID\": 1146, \"category\": \"Virus transmission\", \"description\": \"Video suggesting that a man is spitting on bread to spread coronavirus.\\t\\t\"}, \"1431\": {\"rumourID\": 1431, \"category\": \"Virus transmission\", \"description\": \"A group of Muslim boys licking utensils to spread coronavirus.\\t\\t\"}, \"311\": {\"rumourID\": 311, \"category\": \"Virus transmission\", \"description\": \"Video claiming you can\\u2019t catch coronavirus.\\t\\t\"}, \"516\": {\"rumourID\": 516, \"category\": \"Virus transmission\", \"description\": \"Muslims are licking their plates to spread coronavirus and infect more people with the virus.\\t\\t\"}, \"818\": {\"rumourID\": 818, \"category\": \"Virus transmission\", \"description\": \"The CDC now says that the coronavirus can survive on surfaces for up to 17 days.\\t\\t\"}, \"598\": {\"rumourID\": 598, \"category\": \"Virus transmission\", \"description\": \"Coronavirus cases linked to 5G rollout.\\t\\t\"}, \"765\": {\"rumourID\": 765, \"category\": \"Virus transmission\", \"description\": \"Having a beard increases your chances of getting coronavirus.\\t\\t\"}, \"119\": {\"rumourID\": 119, \"category\": \"Virus transmission\", \"description\": \"A video shows how the coronavirus is transmitted between people\\t\\t\"}, \"319\": {\"rumourID\": 319, \"category\": \"Virus transmission\", \"description\": \"No coronavirus in Nigeria yet, according to pastor.\\t\\t\"}, \"840\": {\"rumourID\": 840, \"category\": \"Virus transmission\", \"description\": \"Hair Weaves And Lace Front Wigs Made In China Likely To Contain coronavirus.\\t\\t\"}, \"209\": {\"rumourID\": 209, \"category\": \"Virus transmission\", \"description\": \"Coronavirus was spread via bananas\\t\\t\"}, \"717\": {\"rumourID\": 717, \"category\": \"Virus origin and properties\", \"description\": \"\\u201cChina is to blame because the culture where people eat bats and snakes and dogs and things like that, these viruses are transmitted from the animal to the people and that\\u2019s why China has been the source of a lot of these viruses like SARS, like MERS, the Swine Flu and now the coronavirus.\\u201d                \"}, \"816\": {\"rumourID\": 816, \"category\": \"Virus origin and properties\", \"description\": \"The novel coronavirus is not new.\\t\\t\"}, \"1379\": {\"rumourID\": 1379, \"category\": \"Virus origin and properties\", \"description\": \"Coronavirus is just \\u201cthe damn flu.\\u201d\\t\\t\"}, \"1335\": {\"rumourID\": 1335, \"category\": \"Virus origin and properties\", \"description\": \"Coronavirus is found in crab legs.\\t\\t\"}, \"987\": {\"rumourID\": 987, \"category\": \"Virus origin and properties\", \"description\": \"American CDC admitted that coronavirus originated in the U.S. Many COVID-19 patients were misdiagnosed as coronavirus.\\t\\t\"}, \"836\": {\"rumourID\": 836, \"category\": \"Virus origin and properties\", \"description\": \"This photo shows the novel coronavirus.\\t\\t\"}, \"941\": {\"rumourID\": 941, \"category\": \"Virus origin and properties\", \"description\": \"Coronavirus has infected broiler chicken.\\t\\t\"}, \"1480\": {\"rumourID\": 1480, \"category\": \"Virus origin and properties\", \"description\": \"Chickens cause coronavirus.\\t\\t\"}, \"1311\": {\"rumourID\": 1311, \"category\": \"Virus origin and properties\", \"description\": \"A video shows pigs buried in China because of the coronavirus.\\t\\t\"}, \"847\": {\"rumourID\": 847, \"category\": \"Virus origin and properties\", \"description\": \"The novel coronavirus is not a new virus.\\t\\t\"}, \"1348\": {\"rumourID\": 1348, \"category\": \"Virus origin and properties\", \"description\": \"Coronavirus is a type of rabies.\\t\\t\"}, \"1331\": {\"rumourID\": 1331, \"category\": \"Public preparedness, protests, and civil disobedience\", \"description\": \"American citizens have placed a nude statue of President Donald Trump in New York City because he failed to handle the coronavirus situation in USA.\\t\\t\"}, \"1148\": {\"rumourID\": 1148, \"category\": \"Public preparedness, protests, and civil disobedience\", \"description\": \"A claim has been shared on Facebook and several Sri Lankan news websites that Muslims at a mosque in Sri Lanka reacted violently after authorities told them their gathering was in violation of the country\\u2019s novel coronavirus curfew.\\t\\t\"}, \"1021\": {\"rumourID\": 1021, \"category\": \"Public preparedness, protests, and civil disobedience\", \"description\": \"A couple of videos shared this month on Facebook purportedly show recent lootings in shops in South Africa, while the country undergoes a 21-day lockdown to minimize the spread of the novel coronavirus.\\t\\t\"}, \"1169\": {\"rumourID\": 1169, \"category\": \"Public preparedness, protests, and civil disobedience\", \"description\": \"A video has been viewed thousands of times on Facebook, Instagram, Twitter and YouTube alongside a claim it shows people rioting and looting shops in England during the coronavirus lockdown.\\t\\t\"}, \"1231\": {\"rumourID\": 1231, \"category\": \"Public preparedness, protests, and civil disobedience\", \"description\": \"A video has been viewed hundreds of thousands of times on Facebook, Twitter and YouTube alongside a claim that it shows a drone launching fireworks at people who breached a curfew in Malaysia during a nationwide coronavirus lockdown.\\t\\t\"}, \"1232\": {\"rumourID\": 1232, \"category\": \"Public preparedness, protests, and civil disobedience\", \"description\": \"A Shaheen Bagh protest in India was claimed to have coronavirus.\\t\\t\"}, \"356\": {\"rumourID\": 356, \"category\": \"Public preparedness, protests, and civil disobedience\", \"description\": \"\\u201cCoronavirus: Florida man arrested for robbery using cough as a weapon.\\u201d\\t\\t\"}, \"572\": {\"rumourID\": 572, \"category\": \"Public preparedness, protests, and civil disobedience\", \"description\": \"Shoppers in China storm supermarket after coronavirus outbreak.\\t\\t\"}, \"327\": {\"rumourID\": 327, \"category\": \"Public preparedness, protests, and civil disobedience\", \"description\": \"A residential building was set on fire in Wuhan to control spread of coronavirus.\\t\\t\"}, \"83\": {\"rumourID\": 83, \"category\": \"Public preparedness, protests, and civil disobedience\", \"description\": \"High-rise buildings have become human incinerators to combat the spread of the coronavirus.\\t\\t\"}, \"302\": {\"rumourID\": 302, \"category\": \"Public preparedness, protests, and civil disobedience\", \"description\": \"Video from China shows people fleeing from coronavirus quarantine.\\t\\t\"}, \"740\": {\"rumourID\": 740, \"category\": \"Vaccines, medical treatments, and tests\", \"description\": \"American scientists have developed a cure for the coronavirus.\\t\\t\"}, \"888\": {\"rumourID\": 888, \"category\": \"Vaccines, medical treatments, and tests\", \"description\": \"Lemon and bicarbonate can cure coronavirus.\\t\\t\"}, \"1199\": {\"rumourID\": 1199, \"category\": \"Vaccines, medical treatments, and tests\", \"description\": \"A post says that a vaccine for the new coronavirus will be available in a few days.\\t\\t\"}, \"575\": {\"rumourID\": 575, \"category\": \"Vaccines, medical treatments, and tests\", \"description\": \"A new vaccine to cure coronavirus has been developed by U.S. scientists.\\t\\t\"}, \"486\": {\"rumourID\": 486, \"category\": \"Vaccines, medical treatments, and tests\", \"description\": \"A WhatsApp forward claimed that a vaccine for coronavirus has been discovered and that the treatment for coronavirus is mentioned in an Intermediate Zoology book.\\t\\t\"}, \"1207\": {\"rumourID\": 1207, \"category\": \"Vaccines, medical treatments, and tests\", \"description\": \"A dog vaccine can be used against coronavirus in people.\\t\\t\"}, \"1035\": {\"rumourID\": 1035, \"category\": \"Vaccines, medical treatments, and tests\", \"description\": \"A vaccine for the 2019 novel coronavirus has been found and there will be no more deaths due to the coronavirus.\\t\\t\"}, \"497\": {\"rumourID\": 497, \"category\": \"Vaccines, medical treatments, and tests\", \"description\": \"If you donate blood, \\u201cthey HAVE to test you\\u201d for coronavirus.\\t\\t\"}, \"918\": {\"rumourID\": 918, \"category\": \"Vaccines, medical treatments, and tests\", \"description\": \"Israel creates a vaccine for the coronavirus.\\t\\t\"}, \"238\": {\"rumourID\": 238, \"category\": \"Vaccines, medical treatments, and tests\", \"description\": \"India has developed a treatment for coronavirus.\\t\\t\"}, \"202\": {\"rumourID\": 202, \"category\": \"Vaccines, medical treatments, and tests\", \"description\": \"COVID-19 is the name of the vaccine against the novel coronavirus.\\t\\t\"}}\n"
     ]
    }
   ],
   "source": [
    "print(json.dumps(known_claims))"
   ]
  },
  {
   "cell_type": "markdown",
   "metadata": {},
   "source": [
    "# 6. Use the annotation form generator\n"
   ]
  },
  {
   "cell_type": "markdown",
   "metadata": {},
   "source": [
    "Copy the JSONs from the above cell outputs into the form generator here: https://script.google.com/a/macros/sheffield.ac.uk/s/AKfycbwms3pmFMBCbTJlf_FzdSv_RjsbI6aulesUKMZiRI7nxeFqet7EbCxfSPVR01sSRzT1/exec"
   ]
  }
 ],
 "metadata": {
  "kernelspec": {
   "display_name": "Python 3",
   "language": "python",
   "name": "python3"
  },
  "language_info": {
   "codemirror_mode": {
    "name": "ipython",
    "version": 3
   },
   "file_extension": ".py",
   "mimetype": "text/x-python",
   "name": "python",
   "nbconvert_exporter": "python",
   "pygments_lexer": "ipython3",
   "version": "3.8.3"
  }
 },
 "nbformat": 4,
 "nbformat_minor": 4
}
