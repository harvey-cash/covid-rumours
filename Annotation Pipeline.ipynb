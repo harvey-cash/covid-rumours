{
 "cells": [
  {
   "cell_type": "markdown",
   "metadata": {},
   "source": [
    "# Annotation Pipeline\n",
    "## User interface, from running queries on elastic, all the way through to producing annotation forms"
   ]
  },
  {
   "cell_type": "markdown",
   "metadata": {},
   "source": [
    "# Construct queries from claims"
   ]
  },
  {
   "cell_type": "code",
   "execution_count": 1,
   "metadata": {},
   "outputs": [
    {
     "name": "stdout",
     "output_type": "stream",
     "text": [
      "[{'id': '1281648596266348546', 'text': 'Is there any other country who throws a party on the street after a new law comes in - 10pm curfew #London #lockdown #COVIDIOTS', 'category': 'Public authority actions, policy, and communications'}, {'id': '1264481945905516544', 'text': 'Covid Toes among kids: New symptom of novel coronavirus infection - Coronavirus Outbreak News https://t.co/pru83qS46Q\\n\\n#Covid_19 #coronaupdatesindia #FightAgainstCoronavirus #coronasymptoms', 'category': 'Public authority actions, policy, and communications'}, {'id': '1247820227469029377', 'text': '🇱🇰 🕌Misleading claim circulates that Muslims ignored COVID-19 curfew at Sri Lankan mosque https://t.co/0d9QkUWNTz\\n\\n#CoronavirusFacts', 'category': 'Public authority actions, policy, and communications'}, {'id': '1267005377553543168', 'text': '#Pakistan need strick 15 days curfew to stop ⛔ #Covid_19 spread #Lockdown will not help #CoronainPakistan #CoronaPandemic #COVID19Pakistan #COVIDIOTS #COVID19Pakistan', 'category': 'Public authority actions, policy, and communications'}, {'id': '1269139738180620288', 'text': '#plandemic? Coronavirus conspiracy? #Covid-19 was ‘adapted to infect humans’ shock claim https://t.co/3aJH6yuViP', 'category': 'Public authority actions, policy, and communications'}, {'id': '1289972834463133697', 'text': 'Fucking #Curfew I thought is was a lockdown for a Virus #Scamdemic', 'category': 'Public authority actions, policy, and communications'}, {'id': '1310301660724559873', 'text': \"#endthecurfew &amp; #endthelockdown expose hypocrisy.\\nThe side that supported the lockdown doesn't support the curfew.\\nThe side that supports the curfew doesn't support the lockdown.\", 'category': 'Public authority actions, policy, and communications'}, {'id': '1253642007572078592', 'text': 'People Are Growing Weary of Lockdowns: Serbians Riot Against Curfew\\n#Covid #CCPVirus #Lockdown #Curfew \\nhttps://t.co/FWjaZRvyuw', 'category': 'Public authority actions, policy, and communications'}, {'id': '1268015356523806725', 'text': \"sudden 'triple lockdown' in trivandrum. total curfew 24x7 for one week. #wuhanvirus\", 'category': 'Public authority actions, policy, and communications'}, {'id': '1279803327715237888', 'text': \"Australia's Victoria declares disaster, sets curfew to curb COVID-19\\n\\nNight curfew in Melbourne.\\n\\n#ChinaLiedPeopleDied #COVID \\n@ScottMorrisonMP\", 'category': 'Public authority actions, policy, and communications'}, {'id': '1264481945905516544', 'text': '#Gaza in Lockdown to Try Contain Its First #COVID-19 Outbreak: https://t.co/0rvFN4d1y3 #COVID19 #coronavirus #pandemic #ChinaVirus #WuhanVirus', 'category': 'Community spread and impact'}, {'id': '1298268240011907072', 'text': '#Plandemic #TRUTH #mentalhealth\\nMultiple Experts, Including Nobel Laureate, Claim Lockdown is More Dangerous Than COVID-19 https://t.co/wMUStn97s2', 'category': 'Community spread and impact'}, {'id': '1253642007572078592', 'text': 'Covid Toes among kids: New symptom of novel coronavirus infection - Coronavirus Outbreak News https://t.co/pru83qS46Q\\n\\n#Covid_19 #coronaupdatesindia #FightAgainstCoronavirus #coronasymptoms', 'category': 'Community spread and impact'}, {'id': '1259245925517664261', 'text': 'So Covid kills kids. Better stop lockdown, open schools and get them conga-ing in the street. #COVIDIOTS', 'category': 'Community spread and impact'}, {'id': '1268303222432768000', 'text': 'Wuhan, the epicentre of the novel coronavirus outbreak in China, reported on Monday its first cluster of infections since a lockdown on the city was lifted a month ago, stoking concerns of a wider resurgence of the disease. \\n\\n#China #WuhanVirus \\n\\nArticle: https://t.co/RURrI5HmJo', 'category': 'Community spread and impact'}, {'id': '1259884007250001920', 'text': 'Free coffin with every first-class booking.⚰️ #COVIDIOTS \\nhttps://t.co/Dghc1sKGil', 'category': 'Community spread and impact'}, {'id': '1269710217207590917', 'text': '#plandemic? Coronavirus conspiracy? #Covid-19 was ‘adapted to infect humans’ shock claim https://t.co/3aJH6yuViP', 'category': 'Community spread and impact'}, {'id': '1275474626756444163', 'text': 'Another victim of the Lockdown #covid19 #lockdown #endthelockdown #verdunluv #montreal https://t.co/YCG1LfFPXT', 'category': 'Community spread and impact'}, {'id': '1306651337308999683', 'text': '[🔴 NEWS] Conspiracy theorists say 5G causes novel coronavirus, so now they’re harassing and attacking UK telecoms engineers https://t.co/5OlqLaSIma #5G #Coronavirus #Street #Virus #Arson #TheVerge #Telephone #SocialMedia #Openreach #Pandemic #Lockdown #ConspiracyTheory', 'category': 'Community spread and impact'}, {'id': '1261810647450476545', 'text': 'German region RETURNS TO LOCKDOWN over Covid-19 outbreak at meat factory https://t.co/2GlO0LrRU9 #COVIDIOTS', 'category': 'Community spread and impact'}, {'id': '1248744406305341442', 'text': 'Covid-19: EXPOSED (OFFICIAL MOVIE) https://t.co/1C6u6zd2wZ \\n\\nGreat watch, highly recommend #pLandemic', 'category': 'Medical advice and self-treatments'}, {'id': '1295901904422215681', 'text': 'Irony is: Promise to protect your sisters from all harm, infect them with a little bit of the covid by meeting them. \\n\\nCovid does not take a day off! #COVIDIOTS \\n#RakshaBandhan2020 #Covid_19', 'category': 'Medical advice and self-treatments'}, {'id': '1290234301850636288', 'text': 'Don’t you just love the term, ‘Novel Coronavirus?’ Novel...as in FICTION. #Coronavirus #COVIDー19 #ChineseVirus #WuhanVirus @realDonaldTrump @DonaldJTrumpJr @RealJamesWoods', 'category': 'Medical advice and self-treatments'}, {'id': '1300549714631294977', 'text': 'Fact Check: President Trump Did NOT Suggest Americans Drink Disinfectant To Protect Against COVID-19 https://t.co/xRr53wK4fd #CoronaVirusFacts #DatosCoronaVirus', 'category': 'Medical advice and self-treatments'}, {'id': '1276135016037117952', 'text': 'Fact Check: Top German Doctor Did NOT Seriously Recommend Whiskey to Protect Against COVID-19 https://t.co/OgtZJrXql0 #CoronaVirusFacts #DatosCoronaVirus', 'category': 'Medical advice and self-treatments'}, {'id': '1280869238056423424', 'text': 'The #WHO &amp; #CDC now recommend we all wear blindfolds along with out mask to protect us from seeing what’s really going on. #COVID19 #COVID #scamdemic #hoax #realstory #Corruption #kentucky #TyrantAndy', 'category': 'Medical advice and self-treatments'}, {'id': '1258351434699100160', 'text': 'The #WHO &amp; #CDC now recommend we all wear blindfolds along with our mask to protect us from seeing what’s really going on. #COVID19 #COVID #scamdemic #hoax #realstory #Corruption #kentucky #TyrantAndy', 'category': 'Medical advice and self-treatments'}, {'id': '1258351606292197376', 'text': 'Medical Groups Do Not Recommend #Hydroxychloroquine against Covid-19 \\n\\n#Brazil\\n\\nhttps://t.co/kZMCUvmGXQ', 'category': 'Medical advice and self-treatments'}, {'id': '1263720292691652608', 'text': 'MAGAs would rather drink bleach to protect from corona than wear a mask. #COVIDIOTS', 'category': 'Medical advice and self-treatments'}, {'id': '1320810408182165512', 'text': 'Get Over It! \\n\\nCOVID-19\\n\\nDrink:.    Gin&amp;Tonic\\n\\n#hydroxychloroquine', 'category': 'Medical advice and self-treatments'}, {'id': '1264481945905516544', 'text': 'Donald Trump tested positive for #covid-19 #WuhanVirus #WuhanCoronavirus', 'category': 'Claims about prominent actors'}, {'id': '1311917821551693825', 'text': 'Jack Maxey is right- \"Donald Trump\\'s recovery has shown us that the Democrats\\' #CCPVirus fear-mongering is a scam\".\\n\\nDonald Trump survives everything the world throws at him.\\n\\nDemocrats today posit using the 25th Amendment.\\n\\nDems. are scared s***-less🥊', 'category': 'Claims about prominent actors'}, {'id': '1253642007572078592', 'text': 'Barnard castle braces itself for a visit by Donald Trump #TrumpHasCovid  #COVID19 #COVIDIOTS #FridayThoughts', 'category': 'Claims about prominent actors'}, {'id': '1251946861771935744', 'text': 'Covid Toes among kids: New symptom of novel coronavirus infection - Coronavirus Outbreak News https://t.co/pru83qS46Q\\n\\n#Covid_19 #coronaupdatesindia #FightAgainstCoronavirus #coronasymptoms', 'category': 'Claims about prominent actors'}, {'id': '1314340583599558656', 'text': '65 percent of U.S. adults say Donald Trump was too slow to respond to COVID-19 outbreak: poll #COVID19 #coronavirus #WuhanVirus https://t.co/3esc2P4s6u', 'category': 'Claims about prominent actors'}, {'id': '1262624008899616768', 'text': 'Taking a drug that is not proven to fight #covid-19 / #coronavirus. Is there an outbreak of #malaria in #Washington DC? Donald Trump / @realDonaldTrump #hydroxychloroquine', 'category': 'Claims about prominent actors'}, {'id': '1262180615719399432', 'text': 'Hackers Claim to Have ‘Dirty Laundry’ About Donald Trump - WIRED #5G #Security  CC:@Ronald_vanLoon https://t.co/vdHd27wzK8', 'category': 'Claims about prominent actors'}, {'id': '1261946574617194499', 'text': 'Hackers Claim to Have ‘Dirty Laundry’ About Donald Trump - WIRED #5G #Security  CC:@Ronald_vanLoon https://t.co/vdHd27eYly', 'category': 'Claims about prominent actors'}, {'id': '1275093355429539841', 'text': '#plandemic? Coronavirus conspiracy? #Covid-19 was ‘adapted to infect humans’ shock claim https://t.co/3aJH6yuViP', 'category': 'Claims about prominent actors'}, {'id': '1311902942899789824', 'text': '#kungflu Donald Trump Calls #Coronavirus \"Kung Flu\", Blames China For Outbreak - NDTV https://t.co/qCCQFjSCTR', 'category': 'Claims about prominent actors'}, {'id': '1274488582959517696', 'text': 'Fact Check: The CDC Did NOT Predict An Outbreak Of AFM Cases To Cover Up Anticipated Future Vaccine Injuries https://t.co/JdvWXDdY7N #CoronaVirusFacts #DatosCoronaVirus', 'category': 'Conspiracy theories'}, {'id': '1274750451519553537', 'text': 'Did George Carlin predict COVID-19 outcome? Can you imagine his COVID inspired set? https://t.co/uVJ2pBTP8F #standupcomedy #COVIDIOTS', 'category': 'Conspiracy theories'}, {'id': '1302238705458053124', 'text': \"#China Releases Timeline to Back Its Outbreak 'Transparency' Claim, But It’s Full of Holes. #ChinaLiedAndPeopleDied\\n\\nhttps://t.co/qBaHjEEXiz\", 'category': 'Conspiracy theories'}, {'id': '1252648208099971072', 'text': 'Live @PedroIsraelOrta #JeremyDys #GenPaulVallely #GraceWatson #FirstLibertyInstitute #ChineseVirus #PresidentDonaldTrump #AMAC #VoterFraud #VENICEBEACH #CaliforniaPolicyCenter #HolyWeek  #Easter #ClimateAlarmism #TrumpEconomy #COVID-19 #Coronavirus #Pandem https://t.co/IoTXvI9eT9', 'category': 'Conspiracy theories'}, {'id': '1295464030409236481', 'text': 'Scientists predict Corona Virus Will Claim Up to 200 Thousand Lives in the US\\n\\nhttps://t.co/8nHaOuPeBu #COVID19 #COVIDIOTS #CoronaHoax #CincoAtHome #Covid19usa #China #CHANYEOL #ChinaVirus #5GCoronavirus #CoronavirusPandemic #CoronavirusOutbreak #CoronavirusInSA', 'category': 'Conspiracy theories'}, {'id': '1260943243279249408', 'text': 'Let’s play a game☺️ Who can predict the most infectious environments #COVIDー19 #COVIDIOTS #coronavirus #COVID19', 'category': 'Conspiracy theories'}, {'id': '1247873202707144704', 'text': 'McConnell’s claim that Obama left behind no ‘game plan’ for the coronavirus outbreak #CoronaVirusFacts https://t.co/72QAhPgnde', 'category': 'Conspiracy theories'}, {'id': '1258154437966614533', 'text': \"SO CALLED ‘EXPERTS’ COULDN’T PREDICT A HORSE RACE. Imperial College model Britain used to justify lockdown a 'buggy mess', 'total unreliable', experts claim. #SelfInducedEconomicComa #EndTheShutdown #EndTheLockdown \\n\\nhttps://t.co/66zWR9fmWZ\", 'category': 'Conspiracy theories'}, {'id': '1261859517362397184', 'text': 'I predict that the next Covid-19 spike/outbreak will happen 2 or 3 days before in whatever City the Trump campaign picks for his next rally.\\n\\n#COVIDIOTS \\n#WakeUpWorld', 'category': 'Conspiracy theories'}, {'id': '1260314287245086722', 'text': 'I predict Trump will claim Very Bad People scared the crowds away from his Nuremberg rally. #TulsaDeathRally #COVIDIOTS', 'category': 'Conspiracy theories'}, {'id': '1264480105365032965', 'text': '#Hollywood Covidiots not only helped spread covid within their parties but also encouraged regular covidiots to throw parties and spread covid in other communities \\n#covid #COVIDIOTS #hollywoodcovidiots', 'category': 'Virus transmission'}, {'id': '1290311643956731906', 'text': 'COVID-19 is the new SPREAD\\n#COVIDIOTS', 'category': 'Virus transmission'}, {'id': '1261707898847141889', 'text': 'I expect the future claim will be that Covid19 is spread through sexual contact but only among heterosexual\\n\\n#depopulatiin #plandemic', 'category': 'Virus transmission'}, {'id': '1295647066467831809', 'text': 'Spread a little cheer, spread a lot more Covid 😷 #covid #COVIDIOTS #coviduk #Covid_19 https://t.co/oY93Bs4BVp', 'category': 'Virus transmission'}, {'id': '1258849297682051075', 'text': '#CoronaFacts\\nClaim:\\xa0Drinking alcohol protects you from COVID-19\\n\\nFact:\\xa0Drinking alcohol does not protect you against COVID-19. Drinking alcohol can be dangerous. The harmful use of alcohol lowers your immunity Help us spread facts, not rumours!https://t.co/f8KLaidrN6', 'category': 'Virus transmission'}, {'id': '1320361747023265792', 'text': 'US charges 2 with terror crimes after they allegedly claim to trying to spread #CCPVirus #COVID19 \\nhttps://t.co/8U1yUN9ZkA', 'category': 'Virus transmission'}, {'id': '1288386035685048321', 'text': 'You can put your tin foil hats away now...\"The #Plandemic) video makes the false claim that billionaires aided in the spread of the coronavirus to further the spread of vaccines and baseless and dangerous claim that wearings masks is harmful...\" https://t.co/xn06ZgBOeG', 'category': 'Virus transmission'}, {'id': '1248284057940701185', 'text': 'False claim: ‘Plandemic’ video on COVID-19\\n\\nhttps://t.co/LHkWf99DWk\\n\\n#Plandemic', 'category': 'Virus transmission'}, {'id': '1322911423635329027', 'text': \"What's wrong with #china.\\nThey claim whole south China #Sea.\\nThey claim #taiwan.\\nThey claim #Indian territories.\\nThey spread #ChineseVirus.\\nThey try to crush #HongKongProtests.\\nI think one day they will claim whole #earth as their own territory.\\n#CCPVirus,#Taiwan,#HongKong,#india\", 'category': 'Virus transmission'}, {'id': '1317565045958651904', 'text': \"#COVID doesn't spread, it is spread by irresponsible #COVIDIOTS.\\nPERIOD!\\n#covid_19 #COVID19India #Covid19KarnatakaUpdate #COVID19Bangalore\", 'category': 'Virus transmission'}, {'id': '1253642007572078592', 'text': '#CCPVIRUS RASHES\\nExperts reveal Rashes may now be most common Covid symptom - here are the eight types to watch for https://t.co/xFOE2o5wSc', 'category': 'Virus origin and properties'}, {'id': '1289949538157907969', 'text': 'Fatigue and headache most common Covid symptoms in children.  \\n\\nResearchers call for age-based symptom checklists as virus presents differently in children. @timspector @KingsCollegeLon \\n\\nhttps://t.co/WoD1rwRtcr #covidsymptoms', 'category': 'Virus origin and properties'}, {'id': '1315365258035372032', 'text': 'Fatigue and headache most common Covid symptoms in children.  \\n\\nResearchers call for age-based symptom checklists as virus presents differently in children. @QUBelfast @doctorsanjay @SotonChildHosp @rcgp @MartinRCGP\\n\\nhttps://t.co/Ng9B2O2mYH #covidsymptoms', 'category': 'Virus origin and properties'}, {'id': '1304015509642502144', 'text': 'The real virus is China, covid is just a symptom #ChinaLiedPeopleDied', 'category': 'Virus origin and properties'}, {'id': '1304377897969430531', 'text': 'Covid Toes among kids: New symptom of novel coronavirus infection - Coronavirus Outbreak News https://t.co/pru83qS46Q\\n\\n#Covid_19 #coronaupdatesindia #FightAgainstCoronavirus #coronasymptoms', 'category': 'Virus origin and properties'}, {'id': '1282695760258240512', 'text': 'THE COMMON COLD VIRUS IS A CORONAVIRUS. The media is preying on people’s ignorance by calling it “NOVEL”. #COVIDー19 #COVID19 #COVIDIOTS #Covid_19 #MediaVirus #hoaxvirus #coronavirus #CoronaVirusSA #CoronaHoax #Plandemic #scamdemic', 'category': 'Virus origin and properties'}, {'id': '1254675215759663104', 'text': 'Just mistook the quake tremors for a menacing covid symptom. #WuhanVirus', 'category': 'Virus origin and properties'}, {'id': '1279046852965351424', 'text': 'The COVID Symptom Study reveals six distinct ‘types’ of COVID-19\\n#COVID #Covid_19 #COVIDSymptomStudy\\n#COVIDsymptoms\\nhttps://t.co/9dnK4MG1hw', 'category': 'Virus origin and properties'}, {'id': '1284489984268017664', 'text': '#5G \"Novel research reveals that blocking exposure to electromagnetic fields (#EMF) produces significant symptom changes in 90% of patients with autoimmune disease.\" https://t.co/ejZ7oAOVED', 'category': 'Virus origin and properties'}, {'id': '1260314102490107904', 'text': 'Dry cough is a common symptom of COVID-19 \\n\\nhttps://t.co/b91bt64DjB \\n\\n#COVIDsymptoms #coronavirus #COVID19 #cough #iVyasa #TOI @ivyasaa #health', 'category': 'Virus origin and properties'}, {'id': '1268368400528498688', 'text': \"how true is #jio  #5G  claim? interesting read on multiple gaps in India's biggest #Telecom claim about 5g.  - https://t.co/qG7hfbzq2Q\", 'category': 'Public preparedness, protests, and civil disobedience'}, {'id': '1249135379439067136', 'text': 'Any possibility that also connect Thai peopl &amp; Indian People?🤔 #nnevy #ChinaLiedAndPeopleDied', 'category': 'Public preparedness, protests, and civil disobedience'}, {'id': '1264702735418564608', 'text': 'China asked the WHO to cover up the coronavir... | Taiwan News https://t.co/rfmlakFnlX #China #CCPVirus #ChinaMustExplain', 'category': 'Public preparedness, protests, and civil disobedience'}, {'id': '1265298494136426499', 'text': 'China asked the WHO to cover up the coronavir... | Taiwan News #CCPVirus #WarRoomPandemic  https://t.co/TOVCIl0RfL', 'category': 'Public preparedness, protests, and civil disobedience'}, {'id': '1264480105365032965', 'text': '#China’s claim on #DalaiLama reincarnation institution is as fake as their claim that #WuhanVirus originated in USA', 'category': 'Public preparedness, protests, and civil disobedience'}, {'id': '1259287719437643780', 'text': \"What's wrong with #china.\\nThey claim whole south China #Sea.\\nThey claim #taiwan.\\nThey claim #Indian territories.\\nThey spread #ChineseVirus.\\nThey try to crush #HongKongProtests.\\nI think one day they will claim whole #earth as their own territory.\\n#CCPVirus,#Taiwan,#HongKong,#india\", 'category': 'Public preparedness, protests, and civil disobedience'}, {'id': '1259209070940090369', 'text': 'Peopl simply do not respect science.❌\\n\\n#Climate #ClimateChange #ClimateCrisis #coronavirus #COVID19 #5G', 'category': 'Public preparedness, protests, and civil disobedience'}, {'id': '1264581887126888448', 'text': \"Sorry I don't claim Toronto anymore #COVIDIOTS\", 'category': 'Public preparedness, protests, and civil disobedience'}, {'id': '1295897936476348418', 'text': 'China wants to claim everything \\n\\nExcept #ChineseVirus \\n\\n#ChinaIndiaFaceoff', 'category': 'Public preparedness, protests, and civil disobedience'}, {'id': '1272950364384292865', 'text': 'China would claim Taiwan!\\nChina would claim the South East Asian Sea!\\nChina would claim the Indian Territory!\\nChina would claim all the waters in the #Mekong river\\nChina wants to claim everything EXCEPT THE CORONA Virus aka #CCPVirus!!!\\nhttps://t.co/GzLOv5io34', 'category': 'Public preparedness, protests, and civil disobedience'}, {'id': '1310897531690377216', 'text': 'https://t.co/CXN9ysRS3y\\n\\n#CoronaVirus #Vaccin #Totalitarianism  #Plandemic mandatory #Vaccines are #HumanRightsViolations', 'category': 'Vaccines, medical treatments, and tests'}, {'id': '1298984599297511428', 'text': 'The truth about #vaccines #vaccins #vaccin #Covid_19 #COVIDIOTS \\nhttps://t.co/GXhpi1NI0e', 'category': 'Vaccines, medical treatments, and tests'}, {'id': '1260505833009487875', 'text': 'Looking at that RNC audience, I keep wondering how many will develop covid. #COVIDIOTS', 'category': 'Vaccines, medical treatments, and tests'}, {'id': '1254750201207611392', 'text': 'https://t.co/I5fwzkKWOa\\n⚠️⚠️⚠️\\nCOVID VACCIN ARN \\nDANGER MODIFICATION ADN\\n@FrammeryChloe \\n@silvano_trotta \\n@EmaKrusi \\n@realDonaldTrump \\n#COVIDIOTS', 'category': 'Vaccines, medical treatments, and tests'}, {'id': '1295615893674885120', 'text': 'First #ccp infects you  with #covid19 #chinesevirus then they want you to buy their controversial \"vaccin\" which is not really a #vaccin... #sinopharm #nothanks  https://t.co/3KO3yW8E0f', 'category': 'Vaccines, medical treatments, and tests'}, {'id': '1260863311714947072', 'text': '#vaccin covid-19 + la #5G = ☣️☢️\\U0001f92f\\U0001faa6⚰️', 'category': 'Vaccines, medical treatments, and tests'}, {'id': '1255021431328354307', 'text': 'As scientists work to develop a COVID-19 vaccine, posts shared in USA, Canada and Australia claim to offer a legal way to refuse vaccination. The claims are false. #FakeNews #coronavirus #lockdown #CoronaVirusFacts #Covid_19\\n\\nhttps://t.co/zraE1NG4te', 'category': 'Vaccines, medical treatments, and tests'}, {'id': '1290268658208407553', 'text': 'As scientists work to develop a COVID-19 vaccine, posts shared in USA, Canada and Australia claim to offer a legal way to refuse vaccination. The claims are false. #FakeNews #coronavirus #lockdown #CoronaVirusFacts #Covid_19 #antivaxxers\\n\\nhttps://t.co/k0QKGi11LK', 'category': 'Vaccines, medical treatments, and tests'}, {'id': '1325857997336293377', 'text': \"https://t.co/LeZ51GfLvk\\nFirst 5 mins and had to share before it's taken down. #COVIDー19 #COVID19 #coronavirus #Plandemic #VaccinesWork #Vaccin #vaccinesArePoison\", 'category': 'Vaccines, medical treatments, and tests'}, {'id': '1299168187477417984', 'text': '/////// Big Pharma Will Vaccine You ///////\\n\\n#Coronavirus #Vaccine #COVIDー19 #BigBrother #BigPharma #BigPharmagate #Confinement #Deconfinement #Lockdown #StayHome #EndTheLockdown #Vaccin #Sanofi #SocialDistancing #Masks4All #Chloroquine #Pandemic', 'category': 'Vaccines, medical treatments, and tests'}]\n"
     ]
    }
   ],
   "source": [
    "import pandas as pd\n",
    "from querytweets import queries\n",
    "from claimretrieval import tweet_query\n",
    "\n",
    "claim_df = pd.read_csv(\"./claimretrieval/IndexClaimCategory.csv\")\n",
    "claim_df.dropna(axis='columns', how='all', inplace=True)  # Drop any columns that are all N/A\n",
    "claim_df.dropna(axis='index', how='any', inplace=True)  # Drop any rows that have at least one N/A\n",
    "\n",
    "# ToDo: For random sample of claims of different categories?\n",
    "row_index = 5\n",
    "\n",
    "# Get query\n",
    "claim_id = claim_df.iloc[row_index]['Index']\n",
    "claim_category = claim_df.iloc[row_index]['Category']\n",
    "claim_text = claim_df.iloc[row_index]['Claim']\n",
    "\n",
    "#claim_text = \"president Donald Trump white house drink hydroxychloroquine inject bleach treat coronavirus signed bill vaccine 5G\"\n",
    "claim_text = \"Queen Elizabeth tests positive for COVID-19\"\n",
    "\n",
    "claim_query = tweet_query.construct_query(claim_text) # Term frequency dict\n",
    "print(claim_query)"
   ]
  },
  {
   "cell_type": "code",
   "execution_count": null,
   "metadata": {
    "collapsed": true
   },
   "outputs": [],
   "source": [
    "claim_text"
   ]
  },
  {
   "cell_type": "markdown",
   "metadata": {},
   "source": [
    "# 1. Query Elastic"
   ]
  },
  {
   "cell_type": "code",
   "execution_count": null,
   "metadata": {
    "collapsed": true
   },
   "outputs": [],
   "source": [
    "# Query elastic for tweets based on claims\n",
    "# ToDo: Multiple claims\n",
    "ids_and_scores = queries.search_for_terms(100, claim_query)\n",
    "\n",
    "scores = [score for twid, score in ids_and_scores]\n",
    "tweet_ids = [twid for twid, score in ids_and_scores]\n",
    "\n",
    "tweet_texts = queries.text_from_id(tweet_ids)\n",
    "\n",
    "all_tweets = [{\"id\": tweet_id, \"text\": tweet_text} for tweet_id, tweet_text in zip(tweet_ids, tweet_texts)]"
   ]
  },
  {
   "cell_type": "code",
   "execution_count": null,
   "metadata": {
    "collapsed": true
   },
   "outputs": [],
   "source": [
    "from matplotlib import pyplot as plt\n",
    "\n",
    "plt.plot(range(len(scores)), scores)\n",
    "plt.tight_layout()\n",
    "plt.show()"
   ]
  },
  {
   "cell_type": "code",
   "execution_count": null,
   "metadata": {
    "collapsed": true
   },
   "outputs": [],
   "source": [
    "# Filter repeats\n",
    "# ToDo: Account for high similarity...\n",
    "unique_texts = []\n",
    "tweets = []\n",
    "for tweet in all_tweets:\n",
    "    if tweet[\"text\"] not in unique_texts:\n",
    "        unique_texts.append(tweet[\"text\"])\n",
    "        tweets.append(tweet)\n",
    "\n",
    "print(tweets)"
   ]
  },
  {
   "cell_type": "markdown",
   "metadata": {},
   "source": [
    "# 2. Turns tweets into term-frequency dictionaries"
   ]
  },
  {
   "cell_type": "code",
   "execution_count": 2,
   "metadata": {},
   "outputs": [
    {
     "ename": "FileNotFoundError",
     "evalue": "File b'../RumourDatabase.csv' does not exist",
     "output_type": "error",
     "traceback": [
      "\u001b[1;31m---------------------------------------------------------------------------\u001b[0m",
      "\u001b[1;31mFileNotFoundError\u001b[0m                         Traceback (most recent call last)",
      "\u001b[1;32m<ipython-input-2-65d094de016b>\u001b[0m in \u001b[0;36m<module>\u001b[1;34m()\u001b[0m\n\u001b[1;32m----> 1\u001b[1;33m \u001b[1;32mfrom\u001b[0m \u001b[0mclaimretrieval\u001b[0m \u001b[1;32mimport\u001b[0m \u001b[0mtweet_query\u001b[0m\u001b[1;33m\u001b[0m\u001b[0m\n\u001b[0m\u001b[0;32m      2\u001b[0m \u001b[1;33m\u001b[0m\u001b[0m\n\u001b[0;32m      3\u001b[0m tweet_queries = [{\n\u001b[0;32m      4\u001b[0m     \u001b[1;34m\"id\"\u001b[0m\u001b[1;33m:\u001b[0m \u001b[0mtweet\u001b[0m\u001b[1;33m[\u001b[0m\u001b[1;34m\"id\"\u001b[0m\u001b[1;33m]\u001b[0m\u001b[1;33m,\u001b[0m\u001b[1;33m\u001b[0m\u001b[0m\n\u001b[0;32m      5\u001b[0m     \u001b[1;34m\"query\"\u001b[0m\u001b[1;33m:\u001b[0m \u001b[0mtweet_query\u001b[0m\u001b[1;33m.\u001b[0m\u001b[0mconstruct_query\u001b[0m\u001b[1;33m(\u001b[0m\u001b[0mtweet\u001b[0m\u001b[1;33m[\u001b[0m\u001b[1;34m\"text\"\u001b[0m\u001b[1;33m]\u001b[0m\u001b[1;33m)\u001b[0m\u001b[1;33m,\u001b[0m\u001b[1;33m\u001b[0m\u001b[0m\n",
      "\u001b[1;32m~\\covid-rumours\\claimretrieval\\tweet_query.py\u001b[0m in \u001b[0;36m<module>\u001b[1;34m()\u001b[0m\n\u001b[0;32m      1\u001b[0m \u001b[1;33m\u001b[0m\u001b[0m\n\u001b[1;32m----> 2\u001b[1;33m \u001b[1;32mfrom\u001b[0m \u001b[0mutils\u001b[0m \u001b[1;32mimport\u001b[0m \u001b[0mpreprocess_text\u001b[0m\u001b[1;33m\u001b[0m\u001b[0m\n\u001b[0m\u001b[0;32m      3\u001b[0m \u001b[1;33m\u001b[0m\u001b[0m\n\u001b[0;32m      4\u001b[0m \u001b[1;33m\u001b[0m\u001b[0m\n\u001b[0;32m      5\u001b[0m \u001b[1;32mdef\u001b[0m \u001b[0mconstruct_query\u001b[0m\u001b[1;33m(\u001b[0m\u001b[0mtweet_string\u001b[0m\u001b[1;33m)\u001b[0m\u001b[1;33m:\u001b[0m\u001b[1;33m\u001b[0m\u001b[0m\n",
      "\u001b[1;32m~\\covid-rumours\\utils\\preprocess_text.py\u001b[0m in \u001b[0;36m<module>\u001b[1;34m()\u001b[0m\n\u001b[0;32m     63\u001b[0m \u001b[1;33m\u001b[0m\u001b[0m\n\u001b[0;32m     64\u001b[0m \u001b[0mstop_words\u001b[0m \u001b[1;33m=\u001b[0m \u001b[0mset\u001b[0m\u001b[1;33m(\u001b[0m\u001b[0mstopwords\u001b[0m\u001b[1;33m.\u001b[0m\u001b[0mwords\u001b[0m\u001b[1;33m(\u001b[0m\u001b[1;34m'english'\u001b[0m\u001b[1;33m)\u001b[0m\u001b[1;33m)\u001b[0m\u001b[1;33m\u001b[0m\u001b[0m\n\u001b[1;32m---> 65\u001b[1;33m \u001b[0mdf\u001b[0m \u001b[1;33m=\u001b[0m \u001b[0mpd\u001b[0m\u001b[1;33m.\u001b[0m\u001b[0mread_csv\u001b[0m\u001b[1;33m(\u001b[0m\u001b[1;34m'../RumourDatabase.csv'\u001b[0m\u001b[1;33m,\u001b[0m\u001b[0mencoding\u001b[0m\u001b[1;33m=\u001b[0m\u001b[1;34m'utf8'\u001b[0m\u001b[1;33m)\u001b[0m\u001b[1;33m\u001b[0m\u001b[0m\n\u001b[0m\u001b[0;32m     66\u001b[0m \u001b[0mclean_content\u001b[0m \u001b[1;33m=\u001b[0m \u001b[0mclean_str\u001b[0m\u001b[1;33m(\u001b[0m\u001b[0mdf\u001b[0m\u001b[1;33m[\u001b[0m\u001b[1;34m'Claim'\u001b[0m\u001b[1;33m]\u001b[0m\u001b[1;33m[\u001b[0m\u001b[1;36m0\u001b[0m\u001b[1;33m]\u001b[0m\u001b[1;33m,\u001b[0m \u001b[0mstop_words\u001b[0m \u001b[1;33m=\u001b[0m \u001b[0mstop_words\u001b[0m\u001b[1;33m,\u001b[0m \u001b[0mlemmatize\u001b[0m\u001b[1;33m=\u001b[0m\u001b[1;32mFalse\u001b[0m\u001b[1;33m,\u001b[0m \u001b[0mporter_stem\u001b[0m\u001b[1;33m=\u001b[0m\u001b[1;32mTrue\u001b[0m\u001b[1;33m)\u001b[0m\u001b[1;33m\u001b[0m\u001b[0m\n\u001b[0;32m     67\u001b[0m \u001b[0mprint\u001b[0m\u001b[1;33m(\u001b[0m\u001b[0mclean_content\u001b[0m\u001b[1;33m)\u001b[0m\u001b[1;33m\u001b[0m\u001b[0m\n",
      "\u001b[1;32m~\\Anaconda3\\lib\\site-packages\\pandas\\io\\parsers.py\u001b[0m in \u001b[0;36mparser_f\u001b[1;34m(filepath_or_buffer, sep, delimiter, header, names, index_col, usecols, squeeze, prefix, mangle_dupe_cols, dtype, engine, converters, true_values, false_values, skipinitialspace, skiprows, nrows, na_values, keep_default_na, na_filter, verbose, skip_blank_lines, parse_dates, infer_datetime_format, keep_date_col, date_parser, dayfirst, iterator, chunksize, compression, thousands, decimal, lineterminator, quotechar, quoting, escapechar, comment, encoding, dialect, tupleize_cols, error_bad_lines, warn_bad_lines, skipfooter, skip_footer, doublequote, delim_whitespace, as_recarray, compact_ints, use_unsigned, low_memory, buffer_lines, memory_map, float_precision)\u001b[0m\n\u001b[0;32m    653\u001b[0m                     skip_blank_lines=skip_blank_lines)\n\u001b[0;32m    654\u001b[0m \u001b[1;33m\u001b[0m\u001b[0m\n\u001b[1;32m--> 655\u001b[1;33m         \u001b[1;32mreturn\u001b[0m \u001b[0m_read\u001b[0m\u001b[1;33m(\u001b[0m\u001b[0mfilepath_or_buffer\u001b[0m\u001b[1;33m,\u001b[0m \u001b[0mkwds\u001b[0m\u001b[1;33m)\u001b[0m\u001b[1;33m\u001b[0m\u001b[0m\n\u001b[0m\u001b[0;32m    656\u001b[0m \u001b[1;33m\u001b[0m\u001b[0m\n\u001b[0;32m    657\u001b[0m     \u001b[0mparser_f\u001b[0m\u001b[1;33m.\u001b[0m\u001b[0m__name__\u001b[0m \u001b[1;33m=\u001b[0m \u001b[0mname\u001b[0m\u001b[1;33m\u001b[0m\u001b[0m\n",
      "\u001b[1;32m~\\Anaconda3\\lib\\site-packages\\pandas\\io\\parsers.py\u001b[0m in \u001b[0;36m_read\u001b[1;34m(filepath_or_buffer, kwds)\u001b[0m\n\u001b[0;32m    403\u001b[0m \u001b[1;33m\u001b[0m\u001b[0m\n\u001b[0;32m    404\u001b[0m     \u001b[1;31m# Create the parser.\u001b[0m\u001b[1;33m\u001b[0m\u001b[1;33m\u001b[0m\u001b[0m\n\u001b[1;32m--> 405\u001b[1;33m     \u001b[0mparser\u001b[0m \u001b[1;33m=\u001b[0m \u001b[0mTextFileReader\u001b[0m\u001b[1;33m(\u001b[0m\u001b[0mfilepath_or_buffer\u001b[0m\u001b[1;33m,\u001b[0m \u001b[1;33m**\u001b[0m\u001b[0mkwds\u001b[0m\u001b[1;33m)\u001b[0m\u001b[1;33m\u001b[0m\u001b[0m\n\u001b[0m\u001b[0;32m    406\u001b[0m \u001b[1;33m\u001b[0m\u001b[0m\n\u001b[0;32m    407\u001b[0m     \u001b[1;32mif\u001b[0m \u001b[0mchunksize\u001b[0m \u001b[1;32mor\u001b[0m \u001b[0miterator\u001b[0m\u001b[1;33m:\u001b[0m\u001b[1;33m\u001b[0m\u001b[0m\n",
      "\u001b[1;32m~\\Anaconda3\\lib\\site-packages\\pandas\\io\\parsers.py\u001b[0m in \u001b[0;36m__init__\u001b[1;34m(self, f, engine, **kwds)\u001b[0m\n\u001b[0;32m    762\u001b[0m             \u001b[0mself\u001b[0m\u001b[1;33m.\u001b[0m\u001b[0moptions\u001b[0m\u001b[1;33m[\u001b[0m\u001b[1;34m'has_index_names'\u001b[0m\u001b[1;33m]\u001b[0m \u001b[1;33m=\u001b[0m \u001b[0mkwds\u001b[0m\u001b[1;33m[\u001b[0m\u001b[1;34m'has_index_names'\u001b[0m\u001b[1;33m]\u001b[0m\u001b[1;33m\u001b[0m\u001b[0m\n\u001b[0;32m    763\u001b[0m \u001b[1;33m\u001b[0m\u001b[0m\n\u001b[1;32m--> 764\u001b[1;33m         \u001b[0mself\u001b[0m\u001b[1;33m.\u001b[0m\u001b[0m_make_engine\u001b[0m\u001b[1;33m(\u001b[0m\u001b[0mself\u001b[0m\u001b[1;33m.\u001b[0m\u001b[0mengine\u001b[0m\u001b[1;33m)\u001b[0m\u001b[1;33m\u001b[0m\u001b[0m\n\u001b[0m\u001b[0;32m    765\u001b[0m \u001b[1;33m\u001b[0m\u001b[0m\n\u001b[0;32m    766\u001b[0m     \u001b[1;32mdef\u001b[0m \u001b[0mclose\u001b[0m\u001b[1;33m(\u001b[0m\u001b[0mself\u001b[0m\u001b[1;33m)\u001b[0m\u001b[1;33m:\u001b[0m\u001b[1;33m\u001b[0m\u001b[0m\n",
      "\u001b[1;32m~\\Anaconda3\\lib\\site-packages\\pandas\\io\\parsers.py\u001b[0m in \u001b[0;36m_make_engine\u001b[1;34m(self, engine)\u001b[0m\n\u001b[0;32m    983\u001b[0m     \u001b[1;32mdef\u001b[0m \u001b[0m_make_engine\u001b[0m\u001b[1;33m(\u001b[0m\u001b[0mself\u001b[0m\u001b[1;33m,\u001b[0m \u001b[0mengine\u001b[0m\u001b[1;33m=\u001b[0m\u001b[1;34m'c'\u001b[0m\u001b[1;33m)\u001b[0m\u001b[1;33m:\u001b[0m\u001b[1;33m\u001b[0m\u001b[0m\n\u001b[0;32m    984\u001b[0m         \u001b[1;32mif\u001b[0m \u001b[0mengine\u001b[0m \u001b[1;33m==\u001b[0m \u001b[1;34m'c'\u001b[0m\u001b[1;33m:\u001b[0m\u001b[1;33m\u001b[0m\u001b[0m\n\u001b[1;32m--> 985\u001b[1;33m             \u001b[0mself\u001b[0m\u001b[1;33m.\u001b[0m\u001b[0m_engine\u001b[0m \u001b[1;33m=\u001b[0m \u001b[0mCParserWrapper\u001b[0m\u001b[1;33m(\u001b[0m\u001b[0mself\u001b[0m\u001b[1;33m.\u001b[0m\u001b[0mf\u001b[0m\u001b[1;33m,\u001b[0m \u001b[1;33m**\u001b[0m\u001b[0mself\u001b[0m\u001b[1;33m.\u001b[0m\u001b[0moptions\u001b[0m\u001b[1;33m)\u001b[0m\u001b[1;33m\u001b[0m\u001b[0m\n\u001b[0m\u001b[0;32m    986\u001b[0m         \u001b[1;32melse\u001b[0m\u001b[1;33m:\u001b[0m\u001b[1;33m\u001b[0m\u001b[0m\n\u001b[0;32m    987\u001b[0m             \u001b[1;32mif\u001b[0m \u001b[0mengine\u001b[0m \u001b[1;33m==\u001b[0m \u001b[1;34m'python'\u001b[0m\u001b[1;33m:\u001b[0m\u001b[1;33m\u001b[0m\u001b[0m\n",
      "\u001b[1;32m~\\Anaconda3\\lib\\site-packages\\pandas\\io\\parsers.py\u001b[0m in \u001b[0;36m__init__\u001b[1;34m(self, src, **kwds)\u001b[0m\n\u001b[0;32m   1603\u001b[0m         \u001b[0mkwds\u001b[0m\u001b[1;33m[\u001b[0m\u001b[1;34m'allow_leading_cols'\u001b[0m\u001b[1;33m]\u001b[0m \u001b[1;33m=\u001b[0m \u001b[0mself\u001b[0m\u001b[1;33m.\u001b[0m\u001b[0mindex_col\u001b[0m \u001b[1;32mis\u001b[0m \u001b[1;32mnot\u001b[0m \u001b[1;32mFalse\u001b[0m\u001b[1;33m\u001b[0m\u001b[0m\n\u001b[0;32m   1604\u001b[0m \u001b[1;33m\u001b[0m\u001b[0m\n\u001b[1;32m-> 1605\u001b[1;33m         \u001b[0mself\u001b[0m\u001b[1;33m.\u001b[0m\u001b[0m_reader\u001b[0m \u001b[1;33m=\u001b[0m \u001b[0mparsers\u001b[0m\u001b[1;33m.\u001b[0m\u001b[0mTextReader\u001b[0m\u001b[1;33m(\u001b[0m\u001b[0msrc\u001b[0m\u001b[1;33m,\u001b[0m \u001b[1;33m**\u001b[0m\u001b[0mkwds\u001b[0m\u001b[1;33m)\u001b[0m\u001b[1;33m\u001b[0m\u001b[0m\n\u001b[0m\u001b[0;32m   1606\u001b[0m \u001b[1;33m\u001b[0m\u001b[0m\n\u001b[0;32m   1607\u001b[0m         \u001b[1;31m# XXX\u001b[0m\u001b[1;33m\u001b[0m\u001b[1;33m\u001b[0m\u001b[0m\n",
      "\u001b[1;32mpandas/_libs/parsers.pyx\u001b[0m in \u001b[0;36mpandas._libs.parsers.TextReader.__cinit__ (pandas\\_libs\\parsers.c:4209)\u001b[1;34m()\u001b[0m\n",
      "\u001b[1;32mpandas/_libs/parsers.pyx\u001b[0m in \u001b[0;36mpandas._libs.parsers.TextReader._setup_parser_source (pandas\\_libs\\parsers.c:8873)\u001b[1;34m()\u001b[0m\n",
      "\u001b[1;31mFileNotFoundError\u001b[0m: File b'../RumourDatabase.csv' does not exist"
     ]
    }
   ],
   "source": [
    "from claimretrieval import tweet_query\n",
    "\n",
    "tweet_queries = [{\n",
    "    \"id\": tweet[\"id\"],\n",
    "    \"query\": tweet_query.construct_query(tweet[\"text\"]), \n",
    "    \"text\": tweet[\"text\"]\n",
    "} for tweet in tweets]\n",
    "\n",
    "print(tweet_queries)"
   ]
  },
  {
   "cell_type": "code",
   "execution_count": null,
   "metadata": {
    "collapsed": true
   },
   "outputs": [],
   "source": [
    "print(len(tweet_queries))"
   ]
  },
  {
   "cell_type": "markdown",
   "metadata": {},
   "source": [
    "# 3. Create claim retrievers"
   ]
  },
  {
   "cell_type": "code",
   "execution_count": null,
   "metadata": {
    "collapsed": true
   },
   "outputs": [],
   "source": [
    "from claimretrieval import claim_index\n",
    "from claimretrieval.retriever import Retriever\n",
    "\n",
    "index = claim_index.construct_index(file_path=\"./claimretrieval/IndexClaimCategory.csv\")\n",
    "\n",
    "retriever = Retriever(category_index)\n",
    "\n",
    "print(index)"
   ]
  },
  {
   "cell_type": "markdown",
   "metadata": {},
   "source": [
    "# 4. Retrieve claim shortlist for each tweet, for each category"
   ]
  },
  {
   "cell_type": "code",
   "execution_count": null,
   "metadata": {
    "collapsed": true
   },
   "outputs": [],
   "source": [
    "import pandas as pd\n",
    "\n",
    "claim_df = pd.read_csv(\"./claimretrieval/IndexClaimCategory.csv\")\n",
    "claim_df.dropna(axis='columns', how='all', inplace=True)  # Drop any columns that are all N/A\n",
    "claim_df.dropna(axis='index', how='any', inplace=True)  # Drop any rows that have at least one N/A"
   ]
  },
  {
   "cell_type": "code",
   "execution_count": null,
   "metadata": {
    "collapsed": true
   },
   "outputs": [],
   "source": [
    "known_claim_ids = []\n",
    "known_claims = {}\n",
    "\n",
    "for tweet_query in tweet_queries:\n",
    "    claim_indices = category_retriever.shortlist(tweet_query[\"query\"])\n",
    "    shortlist = [{\"rumourID\": int(row['Index']), \"category\": row['Category'], \"description\": row['Claim']}\n",
    "        for i, row in claim_df.iterrows() if int(row['Index']) in claim_indices]\n",
    "    \n",
    "    # Add original claim to front of shortlist\n",
    "    shortlist.insert(0, {\"rumourID\": int(claim_id), \"category\": claim_category, \"description\": claim_text})\n",
    "    \n",
    "    for claim in shortlist:\n",
    "        if claim[\"rumourID\"] not in known_claim_ids:\n",
    "            known_claim_ids.append(claim[\"rumourID\"])\n",
    "            known_claims[str(claim[\"rumourID\"])] = claim\n",
    "    \n",
    "    tweet_query[\"shortlist\"] = [claim[\"rumourID\"] for claim in shortlist]"
   ]
  },
  {
   "cell_type": "code",
   "execution_count": null,
   "metadata": {
    "collapsed": true
   },
   "outputs": [],
   "source": [
    "print(len(known_claims))"
   ]
  },
  {
   "cell_type": "markdown",
   "metadata": {},
   "source": [
    "# 5. Produce JSONs for the annotation form generator"
   ]
  },
  {
   "cell_type": "code",
   "execution_count": null,
   "metadata": {
    "collapsed": true
   },
   "outputs": [],
   "source": [
    "import json\n",
    "\n",
    "tweet_sample = [{\"tweetID\": str(tweet_query[\"id\"]), \"text\": tweet_query[\"text\"], \"rumourShortlist\": tweet_query[\"shortlist\"]} \n",
    "                for tweet_query in tweet_queries]\n",
    "print(json.dumps({\"tweetSample\": tweet_sample}))"
   ]
  },
  {
   "cell_type": "code",
   "execution_count": null,
   "metadata": {
    "collapsed": true
   },
   "outputs": [],
   "source": [
    "print(json.dumps(known_claims))"
   ]
  },
  {
   "cell_type": "markdown",
   "metadata": {},
   "source": [
    "# 6. Use the annotation form generator\n"
   ]
  },
  {
   "cell_type": "markdown",
   "metadata": {},
   "source": [
    "Copy the JSONs from the above cell outputs into the form generator here: https://script.google.com/a/macros/sheffield.ac.uk/s/AKfycbyVFaLRlZrgQYsZTGPbBirRA6maY5WD1CGSZOHPS31l5ThHxQxoDtgIQssYXUSTVl3r/exec"
   ]
  }
 ],
 "metadata": {
  "kernelspec": {
   "display_name": "Python 3",
   "language": "python",
   "name": "python3"
  },
  "language_info": {
   "codemirror_mode": {
    "name": "ipython",
    "version": 3
   },
   "file_extension": ".py",
   "mimetype": "text/x-python",
   "name": "python",
   "nbconvert_exporter": "python",
   "pygments_lexer": "ipython3",
   "version": "3.6.3"
  }
 },
 "nbformat": 4,
 "nbformat_minor": 4
}
