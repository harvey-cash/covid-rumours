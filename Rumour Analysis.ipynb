{
 "cells": [
  {
   "cell_type": "code",
   "execution_count": null,
   "metadata": {
    "collapsed": true
   },
   "outputs": [],
   "source": []
  },
  {
   "cell_type": "code",
   "execution_count": 1,
   "metadata": {
    "collapsed": true
   },
   "outputs": [],
   "source": [
    "top_20_median = [(34.64672, 673.0), (33.2039185, 644.0), (32.70846, 51.0), (32.655786, 212.0), (31.7744935, 494.0), (31.485426, 656.0), (31.485426, 687.0), (31.485426, 688.0), (31.220772, 751.0), (30.723377, 105.0), (30.671291, 146.0), (30.671291, 579.0), (30.599202, 994.0), (30.016037, 175.0), (29.938318, 639.0), (29.669577, 140.0), (29.669577, 371.0), (29.669577, 374.0), (29.4584715, 469.0), (27.905577, 563.0)]\n",
    "top_20_mean = [(35.109816620000004, 673.0), (34.13331814, 644.0), (33.30713318, 51.0), (33.22862808, 494.0), (32.07007306, 212.0), (31.931849120000003, 656.0), (31.931849120000003, 687.0), (31.931849120000003, 688.0), (31.76913274, 994.0), (31.75993412, 175.0), (31.5500617, 105.0), (31.42320878, 236.0), (31.35900574, 751.0), (31.10624868, 140.0), (31.10624868, 371.0), (31.10624868, 374.0), (30.84826642, 146.0), (30.84826642, 579.0), (30.46877688, 639.0), (30.45435548, 376.0)]"
   ]
  },
  {
   "cell_type": "code",
   "execution_count": 2,
   "metadata": {
    "collapsed": true
   },
   "outputs": [],
   "source": [
    "import pandas as pd\n",
    "claim_df = pd.read_csv(\"./claimretrieval/IndexClaimCategory.csv\")\n",
    "claim_df.dropna(axis='columns', how='all', inplace=True)  # Drop any columns that are all N/A\n",
    "claim_df.dropna(axis='index', how='any', inplace=True) "
   ]
  },
  {
   "cell_type": "code",
   "execution_count": 3,
   "metadata": {},
   "outputs": [
    {
     "data": {
      "text/plain": [
       "648     A post claims that there are no cases of the n...\n",
       "142     A photo of a man and woman embracing has been ...\n",
       "660     Image claims to show dozens of coffins of Ital...\n",
       "148     A video of food packets deposited on a street ...\n",
       "677     Tanzanian club spokesman Haji S. Manara was in...\n",
       "691     Javier Ortega Smith, from VOX, has said that h...\n",
       "692     Goats in Ajmer, Rajasthan were found to be COV...\n",
       "177     A video has been viewed thousands of times in ...\n",
       "51      remdesivir, hydroxychloroquine, lopinavir/rito...\n",
       "566     A viral WhatsApp voice note in Nigeria claims ...\n",
       "582     IPhoto shows people falling dead on Italian st...\n",
       "214     Boil weed and ginger for COVID-19 victims, and...\n",
       "471     A purported news report claims that Philippine...\n",
       "1002    Chinese President Xi Jinping visited Muslims t...\n",
       "107     The WHO has issued a protocol for lockdown ext...\n",
       "238       Lemon and bicarbonate can cure coronavirus.\\t\\t\n",
       "496     The names of coronavirus victims have been pub...\n",
       "759     “People are going door to door in Colorado Spr...\n",
       "373     COVID-19 not being blamed for deaths due to un...\n",
       "376     Multiple posts shared hundreds of times on Fac...\n",
       "378     Viral post along with a pictures claims civili...\n",
       "643     President Rodrigo Duterte said COVID-19, the d...\n",
       "Name: Claim, dtype: object"
      ]
     },
     "execution_count": 3,
     "metadata": {},
     "output_type": "execute_result"
    }
   ],
   "source": [
    "top_20_median.extend( top_20_mean )\n",
    "top_20_claims = list(set([claim for (score, claim) in top_20_median]))\n",
    "claim_text = claim_df.iloc[top_20_claims]['Claim']\n",
    "claim_text"
   ]
  },
  {
   "cell_type": "code",
   "execution_count": 4,
   "metadata": {},
   "outputs": [
    {
     "data": {
      "text/plain": [
       "'Image claims to show dozens of coffins of Italians who have died from COVID-19.\\t\\t'"
      ]
     },
     "execution_count": 4,
     "metadata": {},
     "output_type": "execute_result"
    }
   ],
   "source": [
    "claim_text.iloc[2]"
   ]
  },
  {
   "cell_type": "markdown",
   "metadata": {},
   "source": [
    "# Query Elastic"
   ]
  },
  {
   "cell_type": "code",
   "execution_count": 42,
   "metadata": {
    "collapsed": true
   },
   "outputs": [],
   "source": [
    "from elasticsearch import Elasticsearch\n",
    "import elasticsearch\n",
    "import elasticsearch.helpers\n",
    "\n",
    "import json\n",
    "elastic_client = Elasticsearch(hosts=[\"http://143.167.8.152:9300\"], http_auth=('students', 'foxtrot'))\n",
    "elastic_client.indices.put_settings(body= {\"index\" : {\n",
    "                                \"max_result_window\" : 50000\n",
    "                              }})\n",
    "\n",
    "def search_for_terms(amount, claim_dict, duplicate_ids=[]):\n",
    "    \"\"\"\n",
    "    Search using a term_frequency dictionary\n",
    "    :param amount: integer number of tweets to return\n",
    "    :param claim_dict: dictionary of {term: frequency}s\n",
    "    :return: array of tweet IDs\n",
    "    \"\"\"\n",
    "\n",
    "    must_array = [{\"match\": {\"is_a_retweet\": \"false\"}}, {\"match\": {\"is_a_quote\": \"false\"}}]\n",
    "    should_array = [{\"match\": {\"tweet_text\": \"*\" + term + \"*\"}} for term, frequency in claim_dict.items()]\n",
    "    query_body = {\n",
    "        \"size\": 100,\n",
    "        \"query\": {\n",
    "            \"bool\": {\n",
    "                \"must\": must_array,\n",
    "                \"must_not\": [\n",
    "                    {\"match\": {\"hashtags\": \"obamagate\"}},\n",
    "                    {\"exists\": {\"field\": \"in_reply_to_user_id\"}},\n",
    "                    {\"exists\": {\"field\": \"in_reply_to_status_id\"}},\n",
    "                    {\"exists\": {\"field\": \"in_reply_to_screen_name\"}},\n",
    "                    {\"match\": {\"message\": \"*media_url*\"}}\n",
    "                ],\n",
    "                \"should\": should_array\n",
    "            }\n",
    "        },\n",
    "        \"track_total_hits\": True\n",
    "    }\n",
    "\n",
    "   # result = elasticsearch.helpers.scan(client=elastic_client, index=\"covid19_misinfo_index\", query=query_body, \n",
    "   #                                     scroll=\"1m\", \n",
    "   #                                     request_timeout=999999, \n",
    "   #                                     _source=\"tweet_id\", )  #\n",
    "    \n",
    "    # make a search() request to get all docs in the index\n",
    "    resp = elastic_client.search(\n",
    "        body = query_body,\n",
    "        scroll = '1m' # length of time to keep search context\n",
    "    )\n",
    "    print(len(resp['hits']['hits']))\n",
    "    # keep track of pass scroll _id\n",
    "    old_scroll_id = resp['_scroll_id']\n",
    "    while len(resp['hits']['hits']):\n",
    "        resp = client.scroll(\n",
    "                    scroll_id = old_scroll_id,\n",
    "                    scroll = '1m' # length of time to keep search context\n",
    "                )\n",
    "        print(len(resp['hits']['hits']))\n",
    "\n",
    "    return [item[\"_source\"][\"tweet_id\"] for item in result]\n",
    "\n",
    "def text_from_id(ids):\n",
    "    should_array = []\n",
    "\n",
    "    for x in ids:\n",
    "        should_array.append({\"match\": {\"tweet_id\": x}})\n",
    "    query_body = {\n",
    "        \"query\": {\n",
    "            \"bool\": {\n",
    "                 \"should\": should_array\n",
    "            }\n",
    "        },\n",
    "        \"collapse\": {\n",
    "            \"field\": \"tweet_id.keyword\"\n",
    "        }\n",
    "    }\n",
    "\n",
    "    result = elastic_client.search(index=\"covid19_misinfo_index\", body=query_body, request_timeout=999999, size=len(ids))\n",
    "\n",
    "    all_hits = result['hits']['hits']\n",
    "    res = []\n",
    "    for num, doc in enumerate(all_hits):\n",
    "        res.append([ doc[\"_source\"][\"tweet_text\"], doc[\"_source\"][\"tweet_created_at\"] ])\n",
    "    \n",
    "    \n",
    "    return res"
   ]
  },
  {
   "cell_type": "code",
   "execution_count": 6,
   "metadata": {},
   "outputs": [
    {
     "name": "stdout",
     "output_type": "stream",
     "text": [
      "remdesivir, hydroxychloroquine, lopinavir/ritonavir and interferon regimens are not efficient treatments \n",
      "{'remdesivir': 1, 'hydroxychloroquine': 1, 'lopinavir/ritonavir': 1, 'interferon': 1, 'regimen': 1, 'efficient': 1, 'treatment': 1}\n"
     ]
    }
   ],
   "source": [
    "import pandas as pd\n",
    "from querytweets import queries\n",
    "from claimretrieval import tweet_query\n",
    "\n",
    "claim_query = tweet_query.construct_query(claim_text[51]) # Term frequency dict\n",
    "print(claim_text[51])\n",
    "print(claim_query)"
   ]
  },
  {
   "cell_type": "code",
   "execution_count": 43,
   "metadata": {},
   "outputs": [
    {
     "name": "stderr",
     "output_type": "stream",
     "text": [
      "WARNING:elasticsearch:POST http://143.167.8.152:9300/_search?scroll=1m [status:N/A request:10.004s]\n",
      "Traceback (most recent call last):\n",
      "  File \"C:\\Users\\Ruxandra\\Anaconda3\\lib\\site-packages\\urllib3\\connectionpool.py\", line 384, in _make_request\n",
      "    six.raise_from(e, None)\n",
      "  File \"<string>\", line 2, in raise_from\n",
      "  File \"C:\\Users\\Ruxandra\\Anaconda3\\lib\\site-packages\\urllib3\\connectionpool.py\", line 380, in _make_request\n",
      "    httplib_response = conn.getresponse()\n",
      "  File \"C:\\Users\\Ruxandra\\Anaconda3\\lib\\http\\client.py\", line 1331, in getresponse\n",
      "    response.begin()\n",
      "  File \"C:\\Users\\Ruxandra\\Anaconda3\\lib\\http\\client.py\", line 297, in begin\n",
      "    version, status, reason = self._read_status()\n",
      "  File \"C:\\Users\\Ruxandra\\Anaconda3\\lib\\http\\client.py\", line 258, in _read_status\n",
      "    line = str(self.fp.readline(_MAXLINE + 1), \"iso-8859-1\")\n",
      "  File \"C:\\Users\\Ruxandra\\Anaconda3\\lib\\socket.py\", line 586, in readinto\n",
      "    return self._sock.recv_into(b)\n",
      "socket.timeout: timed out\n",
      "\n",
      "During handling of the above exception, another exception occurred:\n",
      "\n",
      "Traceback (most recent call last):\n",
      "  File \"C:\\Users\\Ruxandra\\Anaconda3\\lib\\site-packages\\elasticsearch\\connection\\http_urllib3.py\", line 246, in perform_request\n",
      "    method, url, body, retries=Retry(False), headers=request_headers, **kw\n",
      "  File \"C:\\Users\\Ruxandra\\Anaconda3\\lib\\site-packages\\urllib3\\connectionpool.py\", line 638, in urlopen\n",
      "    _stacktrace=sys.exc_info()[2])\n",
      "  File \"C:\\Users\\Ruxandra\\Anaconda3\\lib\\site-packages\\urllib3\\util\\retry.py\", line 344, in increment\n",
      "    raise six.reraise(type(error), error, _stacktrace)\n",
      "  File \"C:\\Users\\Ruxandra\\Anaconda3\\lib\\site-packages\\urllib3\\packages\\six.py\", line 686, in reraise\n",
      "    raise value\n",
      "  File \"C:\\Users\\Ruxandra\\Anaconda3\\lib\\site-packages\\urllib3\\connectionpool.py\", line 600, in urlopen\n",
      "    chunked=chunked)\n",
      "  File \"C:\\Users\\Ruxandra\\Anaconda3\\lib\\site-packages\\urllib3\\connectionpool.py\", line 386, in _make_request\n",
      "    self._raise_timeout(err=e, url=url, timeout_value=read_timeout)\n",
      "  File \"C:\\Users\\Ruxandra\\Anaconda3\\lib\\site-packages\\urllib3\\connectionpool.py\", line 306, in _raise_timeout\n",
      "    raise ReadTimeoutError(self, url, \"Read timed out. (read timeout=%s)\" % timeout_value)\n",
      "urllib3.exceptions.ReadTimeoutError: HTTPConnectionPool(host='143.167.8.152', port=9300): Read timed out. (read timeout=10)\n"
     ]
    },
    {
     "ename": "ConnectionTimeout",
     "evalue": "ConnectionTimeout caused by - ReadTimeoutError(HTTPConnectionPool(host='143.167.8.152', port=9300): Read timed out. (read timeout=10))",
     "output_type": "error",
     "traceback": [
      "\u001b[1;31m---------------------------------------------------------------------------\u001b[0m",
      "\u001b[1;31mtimeout\u001b[0m                                   Traceback (most recent call last)",
      "\u001b[1;32m~\\Anaconda3\\lib\\site-packages\\urllib3\\connectionpool.py\u001b[0m in \u001b[0;36m_make_request\u001b[1;34m(self, conn, method, url, timeout, chunked, **httplib_request_kw)\u001b[0m\n\u001b[0;32m    383\u001b[0m                     \u001b[1;31m# otherwise it looks like a programming error was the cause.\u001b[0m\u001b[1;33m\u001b[0m\u001b[1;33m\u001b[0m\u001b[0m\n\u001b[1;32m--> 384\u001b[1;33m                     \u001b[0msix\u001b[0m\u001b[1;33m.\u001b[0m\u001b[0mraise_from\u001b[0m\u001b[1;33m(\u001b[0m\u001b[0me\u001b[0m\u001b[1;33m,\u001b[0m \u001b[1;32mNone\u001b[0m\u001b[1;33m)\u001b[0m\u001b[1;33m\u001b[0m\u001b[0m\n\u001b[0m\u001b[0;32m    385\u001b[0m         \u001b[1;32mexcept\u001b[0m \u001b[1;33m(\u001b[0m\u001b[0mSocketTimeout\u001b[0m\u001b[1;33m,\u001b[0m \u001b[0mBaseSSLError\u001b[0m\u001b[1;33m,\u001b[0m \u001b[0mSocketError\u001b[0m\u001b[1;33m)\u001b[0m \u001b[1;32mas\u001b[0m \u001b[0me\u001b[0m\u001b[1;33m:\u001b[0m\u001b[1;33m\u001b[0m\u001b[0m\n",
      "\u001b[1;32m~\\Anaconda3\\lib\\site-packages\\urllib3\\packages\\six.py\u001b[0m in \u001b[0;36mraise_from\u001b[1;34m(value, from_value)\u001b[0m\n",
      "\u001b[1;32m~\\Anaconda3\\lib\\site-packages\\urllib3\\connectionpool.py\u001b[0m in \u001b[0;36m_make_request\u001b[1;34m(self, conn, method, url, timeout, chunked, **httplib_request_kw)\u001b[0m\n\u001b[0;32m    379\u001b[0m                 \u001b[1;32mtry\u001b[0m\u001b[1;33m:\u001b[0m\u001b[1;33m\u001b[0m\u001b[0m\n\u001b[1;32m--> 380\u001b[1;33m                     \u001b[0mhttplib_response\u001b[0m \u001b[1;33m=\u001b[0m \u001b[0mconn\u001b[0m\u001b[1;33m.\u001b[0m\u001b[0mgetresponse\u001b[0m\u001b[1;33m(\u001b[0m\u001b[1;33m)\u001b[0m\u001b[1;33m\u001b[0m\u001b[0m\n\u001b[0m\u001b[0;32m    381\u001b[0m                 \u001b[1;32mexcept\u001b[0m \u001b[0mException\u001b[0m \u001b[1;32mas\u001b[0m \u001b[0me\u001b[0m\u001b[1;33m:\u001b[0m\u001b[1;33m\u001b[0m\u001b[0m\n",
      "\u001b[1;32m~\\Anaconda3\\lib\\http\\client.py\u001b[0m in \u001b[0;36mgetresponse\u001b[1;34m(self)\u001b[0m\n\u001b[0;32m   1330\u001b[0m             \u001b[1;32mtry\u001b[0m\u001b[1;33m:\u001b[0m\u001b[1;33m\u001b[0m\u001b[0m\n\u001b[1;32m-> 1331\u001b[1;33m                 \u001b[0mresponse\u001b[0m\u001b[1;33m.\u001b[0m\u001b[0mbegin\u001b[0m\u001b[1;33m(\u001b[0m\u001b[1;33m)\u001b[0m\u001b[1;33m\u001b[0m\u001b[0m\n\u001b[0m\u001b[0;32m   1332\u001b[0m             \u001b[1;32mexcept\u001b[0m \u001b[0mConnectionError\u001b[0m\u001b[1;33m:\u001b[0m\u001b[1;33m\u001b[0m\u001b[0m\n",
      "\u001b[1;32m~\\Anaconda3\\lib\\http\\client.py\u001b[0m in \u001b[0;36mbegin\u001b[1;34m(self)\u001b[0m\n\u001b[0;32m    296\u001b[0m         \u001b[1;32mwhile\u001b[0m \u001b[1;32mTrue\u001b[0m\u001b[1;33m:\u001b[0m\u001b[1;33m\u001b[0m\u001b[0m\n\u001b[1;32m--> 297\u001b[1;33m             \u001b[0mversion\u001b[0m\u001b[1;33m,\u001b[0m \u001b[0mstatus\u001b[0m\u001b[1;33m,\u001b[0m \u001b[0mreason\u001b[0m \u001b[1;33m=\u001b[0m \u001b[0mself\u001b[0m\u001b[1;33m.\u001b[0m\u001b[0m_read_status\u001b[0m\u001b[1;33m(\u001b[0m\u001b[1;33m)\u001b[0m\u001b[1;33m\u001b[0m\u001b[0m\n\u001b[0m\u001b[0;32m    298\u001b[0m             \u001b[1;32mif\u001b[0m \u001b[0mstatus\u001b[0m \u001b[1;33m!=\u001b[0m \u001b[0mCONTINUE\u001b[0m\u001b[1;33m:\u001b[0m\u001b[1;33m\u001b[0m\u001b[0m\n",
      "\u001b[1;32m~\\Anaconda3\\lib\\http\\client.py\u001b[0m in \u001b[0;36m_read_status\u001b[1;34m(self)\u001b[0m\n\u001b[0;32m    257\u001b[0m     \u001b[1;32mdef\u001b[0m \u001b[0m_read_status\u001b[0m\u001b[1;33m(\u001b[0m\u001b[0mself\u001b[0m\u001b[1;33m)\u001b[0m\u001b[1;33m:\u001b[0m\u001b[1;33m\u001b[0m\u001b[0m\n\u001b[1;32m--> 258\u001b[1;33m         \u001b[0mline\u001b[0m \u001b[1;33m=\u001b[0m \u001b[0mstr\u001b[0m\u001b[1;33m(\u001b[0m\u001b[0mself\u001b[0m\u001b[1;33m.\u001b[0m\u001b[0mfp\u001b[0m\u001b[1;33m.\u001b[0m\u001b[0mreadline\u001b[0m\u001b[1;33m(\u001b[0m\u001b[0m_MAXLINE\u001b[0m \u001b[1;33m+\u001b[0m \u001b[1;36m1\u001b[0m\u001b[1;33m)\u001b[0m\u001b[1;33m,\u001b[0m \u001b[1;34m\"iso-8859-1\"\u001b[0m\u001b[1;33m)\u001b[0m\u001b[1;33m\u001b[0m\u001b[0m\n\u001b[0m\u001b[0;32m    259\u001b[0m         \u001b[1;32mif\u001b[0m \u001b[0mlen\u001b[0m\u001b[1;33m(\u001b[0m\u001b[0mline\u001b[0m\u001b[1;33m)\u001b[0m \u001b[1;33m>\u001b[0m \u001b[0m_MAXLINE\u001b[0m\u001b[1;33m:\u001b[0m\u001b[1;33m\u001b[0m\u001b[0m\n",
      "\u001b[1;32m~\\Anaconda3\\lib\\socket.py\u001b[0m in \u001b[0;36mreadinto\u001b[1;34m(self, b)\u001b[0m\n\u001b[0;32m    585\u001b[0m             \u001b[1;32mtry\u001b[0m\u001b[1;33m:\u001b[0m\u001b[1;33m\u001b[0m\u001b[0m\n\u001b[1;32m--> 586\u001b[1;33m                 \u001b[1;32mreturn\u001b[0m \u001b[0mself\u001b[0m\u001b[1;33m.\u001b[0m\u001b[0m_sock\u001b[0m\u001b[1;33m.\u001b[0m\u001b[0mrecv_into\u001b[0m\u001b[1;33m(\u001b[0m\u001b[0mb\u001b[0m\u001b[1;33m)\u001b[0m\u001b[1;33m\u001b[0m\u001b[0m\n\u001b[0m\u001b[0;32m    587\u001b[0m             \u001b[1;32mexcept\u001b[0m \u001b[0mtimeout\u001b[0m\u001b[1;33m:\u001b[0m\u001b[1;33m\u001b[0m\u001b[0m\n",
      "\u001b[1;31mtimeout\u001b[0m: timed out",
      "\nDuring handling of the above exception, another exception occurred:\n",
      "\u001b[1;31mReadTimeoutError\u001b[0m                          Traceback (most recent call last)",
      "\u001b[1;32m~\\Anaconda3\\lib\\site-packages\\elasticsearch\\connection\\http_urllib3.py\u001b[0m in \u001b[0;36mperform_request\u001b[1;34m(self, method, url, params, body, timeout, ignore, headers)\u001b[0m\n\u001b[0;32m    245\u001b[0m             response = self.pool.urlopen(\n\u001b[1;32m--> 246\u001b[1;33m                 \u001b[0mmethod\u001b[0m\u001b[1;33m,\u001b[0m \u001b[0murl\u001b[0m\u001b[1;33m,\u001b[0m \u001b[0mbody\u001b[0m\u001b[1;33m,\u001b[0m \u001b[0mretries\u001b[0m\u001b[1;33m=\u001b[0m\u001b[0mRetry\u001b[0m\u001b[1;33m(\u001b[0m\u001b[1;32mFalse\u001b[0m\u001b[1;33m)\u001b[0m\u001b[1;33m,\u001b[0m \u001b[0mheaders\u001b[0m\u001b[1;33m=\u001b[0m\u001b[0mrequest_headers\u001b[0m\u001b[1;33m,\u001b[0m \u001b[1;33m**\u001b[0m\u001b[0mkw\u001b[0m\u001b[1;33m\u001b[0m\u001b[0m\n\u001b[0m\u001b[0;32m    247\u001b[0m             )\n",
      "\u001b[1;32m~\\Anaconda3\\lib\\site-packages\\urllib3\\connectionpool.py\u001b[0m in \u001b[0;36murlopen\u001b[1;34m(self, method, url, body, headers, retries, redirect, assert_same_host, timeout, pool_timeout, release_conn, chunked, body_pos, **response_kw)\u001b[0m\n\u001b[0;32m    637\u001b[0m             retries = retries.increment(method, url, error=e, _pool=self,\n\u001b[1;32m--> 638\u001b[1;33m                                         _stacktrace=sys.exc_info()[2])\n\u001b[0m\u001b[0;32m    639\u001b[0m             \u001b[0mretries\u001b[0m\u001b[1;33m.\u001b[0m\u001b[0msleep\u001b[0m\u001b[1;33m(\u001b[0m\u001b[1;33m)\u001b[0m\u001b[1;33m\u001b[0m\u001b[0m\n",
      "\u001b[1;32m~\\Anaconda3\\lib\\site-packages\\urllib3\\util\\retry.py\u001b[0m in \u001b[0;36mincrement\u001b[1;34m(self, method, url, response, error, _pool, _stacktrace)\u001b[0m\n\u001b[0;32m    343\u001b[0m             \u001b[1;31m# Disabled, indicate to re-raise the error.\u001b[0m\u001b[1;33m\u001b[0m\u001b[1;33m\u001b[0m\u001b[0m\n\u001b[1;32m--> 344\u001b[1;33m             \u001b[1;32mraise\u001b[0m \u001b[0msix\u001b[0m\u001b[1;33m.\u001b[0m\u001b[0mreraise\u001b[0m\u001b[1;33m(\u001b[0m\u001b[0mtype\u001b[0m\u001b[1;33m(\u001b[0m\u001b[0merror\u001b[0m\u001b[1;33m)\u001b[0m\u001b[1;33m,\u001b[0m \u001b[0merror\u001b[0m\u001b[1;33m,\u001b[0m \u001b[0m_stacktrace\u001b[0m\u001b[1;33m)\u001b[0m\u001b[1;33m\u001b[0m\u001b[0m\n\u001b[0m\u001b[0;32m    345\u001b[0m \u001b[1;33m\u001b[0m\u001b[0m\n",
      "\u001b[1;32m~\\Anaconda3\\lib\\site-packages\\urllib3\\packages\\six.py\u001b[0m in \u001b[0;36mreraise\u001b[1;34m(tp, value, tb)\u001b[0m\n\u001b[0;32m    685\u001b[0m             \u001b[1;32mraise\u001b[0m \u001b[0mvalue\u001b[0m\u001b[1;33m.\u001b[0m\u001b[0mwith_traceback\u001b[0m\u001b[1;33m(\u001b[0m\u001b[0mtb\u001b[0m\u001b[1;33m)\u001b[0m\u001b[1;33m\u001b[0m\u001b[0m\n\u001b[1;32m--> 686\u001b[1;33m         \u001b[1;32mraise\u001b[0m \u001b[0mvalue\u001b[0m\u001b[1;33m\u001b[0m\u001b[0m\n\u001b[0m\u001b[0;32m    687\u001b[0m \u001b[1;33m\u001b[0m\u001b[0m\n",
      "\u001b[1;32m~\\Anaconda3\\lib\\site-packages\\urllib3\\connectionpool.py\u001b[0m in \u001b[0;36murlopen\u001b[1;34m(self, method, url, body, headers, retries, redirect, assert_same_host, timeout, pool_timeout, release_conn, chunked, body_pos, **response_kw)\u001b[0m\n\u001b[0;32m    599\u001b[0m                                                   \u001b[0mbody\u001b[0m\u001b[1;33m=\u001b[0m\u001b[0mbody\u001b[0m\u001b[1;33m,\u001b[0m \u001b[0mheaders\u001b[0m\u001b[1;33m=\u001b[0m\u001b[0mheaders\u001b[0m\u001b[1;33m,\u001b[0m\u001b[1;33m\u001b[0m\u001b[0m\n\u001b[1;32m--> 600\u001b[1;33m                                                   chunked=chunked)\n\u001b[0m\u001b[0;32m    601\u001b[0m \u001b[1;33m\u001b[0m\u001b[0m\n",
      "\u001b[1;32m~\\Anaconda3\\lib\\site-packages\\urllib3\\connectionpool.py\u001b[0m in \u001b[0;36m_make_request\u001b[1;34m(self, conn, method, url, timeout, chunked, **httplib_request_kw)\u001b[0m\n\u001b[0;32m    385\u001b[0m         \u001b[1;32mexcept\u001b[0m \u001b[1;33m(\u001b[0m\u001b[0mSocketTimeout\u001b[0m\u001b[1;33m,\u001b[0m \u001b[0mBaseSSLError\u001b[0m\u001b[1;33m,\u001b[0m \u001b[0mSocketError\u001b[0m\u001b[1;33m)\u001b[0m \u001b[1;32mas\u001b[0m \u001b[0me\u001b[0m\u001b[1;33m:\u001b[0m\u001b[1;33m\u001b[0m\u001b[0m\n\u001b[1;32m--> 386\u001b[1;33m             \u001b[0mself\u001b[0m\u001b[1;33m.\u001b[0m\u001b[0m_raise_timeout\u001b[0m\u001b[1;33m(\u001b[0m\u001b[0merr\u001b[0m\u001b[1;33m=\u001b[0m\u001b[0me\u001b[0m\u001b[1;33m,\u001b[0m \u001b[0murl\u001b[0m\u001b[1;33m=\u001b[0m\u001b[0murl\u001b[0m\u001b[1;33m,\u001b[0m \u001b[0mtimeout_value\u001b[0m\u001b[1;33m=\u001b[0m\u001b[0mread_timeout\u001b[0m\u001b[1;33m)\u001b[0m\u001b[1;33m\u001b[0m\u001b[0m\n\u001b[0m\u001b[0;32m    387\u001b[0m             \u001b[1;32mraise\u001b[0m\u001b[1;33m\u001b[0m\u001b[0m\n",
      "\u001b[1;32m~\\Anaconda3\\lib\\site-packages\\urllib3\\connectionpool.py\u001b[0m in \u001b[0;36m_raise_timeout\u001b[1;34m(self, err, url, timeout_value)\u001b[0m\n\u001b[0;32m    305\u001b[0m         \u001b[1;32mif\u001b[0m \u001b[0misinstance\u001b[0m\u001b[1;33m(\u001b[0m\u001b[0merr\u001b[0m\u001b[1;33m,\u001b[0m \u001b[0mSocketTimeout\u001b[0m\u001b[1;33m)\u001b[0m\u001b[1;33m:\u001b[0m\u001b[1;33m\u001b[0m\u001b[0m\n\u001b[1;32m--> 306\u001b[1;33m             \u001b[1;32mraise\u001b[0m \u001b[0mReadTimeoutError\u001b[0m\u001b[1;33m(\u001b[0m\u001b[0mself\u001b[0m\u001b[1;33m,\u001b[0m \u001b[0murl\u001b[0m\u001b[1;33m,\u001b[0m \u001b[1;34m\"Read timed out. (read timeout=%s)\"\u001b[0m \u001b[1;33m%\u001b[0m \u001b[0mtimeout_value\u001b[0m\u001b[1;33m)\u001b[0m\u001b[1;33m\u001b[0m\u001b[0m\n\u001b[0m\u001b[0;32m    307\u001b[0m \u001b[1;33m\u001b[0m\u001b[0m\n",
      "\u001b[1;31mReadTimeoutError\u001b[0m: HTTPConnectionPool(host='143.167.8.152', port=9300): Read timed out. (read timeout=10)",
      "\nDuring handling of the above exception, another exception occurred:\n",
      "\u001b[1;31mConnectionTimeout\u001b[0m                         Traceback (most recent call last)",
      "\u001b[1;32m<ipython-input-43-8dfb681768ef>\u001b[0m in \u001b[0;36m<module>\u001b[1;34m()\u001b[0m\n\u001b[0;32m     13\u001b[0m \u001b[1;31m#tweet_ids = [twid for twid, score in ids_and_scores]\u001b[0m\u001b[1;33m\u001b[0m\u001b[1;33m\u001b[0m\u001b[0m\n\u001b[0;32m     14\u001b[0m \u001b[1;33m\u001b[0m\u001b[0m\n\u001b[1;32m---> 15\u001b[1;33m \u001b[0mtweet_ids\u001b[0m \u001b[1;33m=\u001b[0m \u001b[0msearch_for_terms\u001b[0m\u001b[1;33m(\u001b[0m\u001b[1;36m12000\u001b[0m\u001b[1;33m,\u001b[0m \u001b[0mclaim_query\u001b[0m\u001b[1;33m)\u001b[0m\u001b[1;33m\u001b[0m\u001b[0m\n\u001b[0m",
      "\u001b[1;32m<ipython-input-42-d11c1550d6f9>\u001b[0m in \u001b[0;36msearch_for_terms\u001b[1;34m(amount, claim_dict, duplicate_ids)\u001b[0m\n\u001b[0;32m     45\u001b[0m     resp = elastic_client.search(\n\u001b[0;32m     46\u001b[0m         \u001b[0mbody\u001b[0m \u001b[1;33m=\u001b[0m \u001b[0mquery_body\u001b[0m\u001b[1;33m,\u001b[0m\u001b[1;33m\u001b[0m\u001b[0m\n\u001b[1;32m---> 47\u001b[1;33m         \u001b[0mscroll\u001b[0m \u001b[1;33m=\u001b[0m \u001b[1;34m'1m'\u001b[0m \u001b[1;31m# length of time to keep search context\u001b[0m\u001b[1;33m\u001b[0m\u001b[0m\n\u001b[0m\u001b[0;32m     48\u001b[0m     )\n\u001b[0;32m     49\u001b[0m     \u001b[0mprint\u001b[0m\u001b[1;33m(\u001b[0m\u001b[0mlen\u001b[0m\u001b[1;33m(\u001b[0m\u001b[0mresp\u001b[0m\u001b[1;33m[\u001b[0m\u001b[1;34m'hits'\u001b[0m\u001b[1;33m]\u001b[0m\u001b[1;33m[\u001b[0m\u001b[1;34m'hits'\u001b[0m\u001b[1;33m]\u001b[0m\u001b[1;33m)\u001b[0m\u001b[1;33m)\u001b[0m\u001b[1;33m\u001b[0m\u001b[0m\n",
      "\u001b[1;32m~\\Anaconda3\\lib\\site-packages\\elasticsearch\\client\\utils.py\u001b[0m in \u001b[0;36m_wrapped\u001b[1;34m(*args, **kwargs)\u001b[0m\n\u001b[0;32m    150\u001b[0m                 \u001b[1;32mif\u001b[0m \u001b[0mp\u001b[0m \u001b[1;32min\u001b[0m \u001b[0mkwargs\u001b[0m\u001b[1;33m:\u001b[0m\u001b[1;33m\u001b[0m\u001b[0m\n\u001b[0;32m    151\u001b[0m                     \u001b[0mparams\u001b[0m\u001b[1;33m[\u001b[0m\u001b[0mp\u001b[0m\u001b[1;33m]\u001b[0m \u001b[1;33m=\u001b[0m \u001b[0mkwargs\u001b[0m\u001b[1;33m.\u001b[0m\u001b[0mpop\u001b[0m\u001b[1;33m(\u001b[0m\u001b[0mp\u001b[0m\u001b[1;33m)\u001b[0m\u001b[1;33m\u001b[0m\u001b[0m\n\u001b[1;32m--> 152\u001b[1;33m             \u001b[1;32mreturn\u001b[0m \u001b[0mfunc\u001b[0m\u001b[1;33m(\u001b[0m\u001b[1;33m*\u001b[0m\u001b[0margs\u001b[0m\u001b[1;33m,\u001b[0m \u001b[0mparams\u001b[0m\u001b[1;33m=\u001b[0m\u001b[0mparams\u001b[0m\u001b[1;33m,\u001b[0m \u001b[0mheaders\u001b[0m\u001b[1;33m=\u001b[0m\u001b[0mheaders\u001b[0m\u001b[1;33m,\u001b[0m \u001b[1;33m**\u001b[0m\u001b[0mkwargs\u001b[0m\u001b[1;33m)\u001b[0m\u001b[1;33m\u001b[0m\u001b[0m\n\u001b[0m\u001b[0;32m    153\u001b[0m \u001b[1;33m\u001b[0m\u001b[0m\n\u001b[0;32m    154\u001b[0m         \u001b[1;32mreturn\u001b[0m \u001b[0m_wrapped\u001b[0m\u001b[1;33m\u001b[0m\u001b[0m\n",
      "\u001b[1;32m~\\Anaconda3\\lib\\site-packages\\elasticsearch\\client\\__init__.py\u001b[0m in \u001b[0;36msearch\u001b[1;34m(self, body, index, doc_type, params, headers)\u001b[0m\n\u001b[0;32m   1661\u001b[0m             \u001b[0mparams\u001b[0m\u001b[1;33m=\u001b[0m\u001b[0mparams\u001b[0m\u001b[1;33m,\u001b[0m\u001b[1;33m\u001b[0m\u001b[0m\n\u001b[0;32m   1662\u001b[0m             \u001b[0mheaders\u001b[0m\u001b[1;33m=\u001b[0m\u001b[0mheaders\u001b[0m\u001b[1;33m,\u001b[0m\u001b[1;33m\u001b[0m\u001b[0m\n\u001b[1;32m-> 1663\u001b[1;33m             \u001b[0mbody\u001b[0m\u001b[1;33m=\u001b[0m\u001b[0mbody\u001b[0m\u001b[1;33m,\u001b[0m\u001b[1;33m\u001b[0m\u001b[0m\n\u001b[0m\u001b[0;32m   1664\u001b[0m         )\n\u001b[0;32m   1665\u001b[0m \u001b[1;33m\u001b[0m\u001b[0m\n",
      "\u001b[1;32m~\\Anaconda3\\lib\\site-packages\\elasticsearch\\transport.py\u001b[0m in \u001b[0;36mperform_request\u001b[1;34m(self, method, url, headers, params, body)\u001b[0m\n\u001b[0;32m    390\u001b[0m                         \u001b[1;32mraise\u001b[0m \u001b[0me\u001b[0m\u001b[1;33m\u001b[0m\u001b[0m\n\u001b[0;32m    391\u001b[0m                 \u001b[1;32melse\u001b[0m\u001b[1;33m:\u001b[0m\u001b[1;33m\u001b[0m\u001b[0m\n\u001b[1;32m--> 392\u001b[1;33m                     \u001b[1;32mraise\u001b[0m \u001b[0me\u001b[0m\u001b[1;33m\u001b[0m\u001b[0m\n\u001b[0m\u001b[0;32m    393\u001b[0m \u001b[1;33m\u001b[0m\u001b[0m\n\u001b[0;32m    394\u001b[0m             \u001b[1;32melse\u001b[0m\u001b[1;33m:\u001b[0m\u001b[1;33m\u001b[0m\u001b[0m\n",
      "\u001b[1;32m~\\Anaconda3\\lib\\site-packages\\elasticsearch\\transport.py\u001b[0m in \u001b[0;36mperform_request\u001b[1;34m(self, method, url, headers, params, body)\u001b[0m\n\u001b[0;32m    363\u001b[0m                     \u001b[0mheaders\u001b[0m\u001b[1;33m=\u001b[0m\u001b[0mheaders\u001b[0m\u001b[1;33m,\u001b[0m\u001b[1;33m\u001b[0m\u001b[0m\n\u001b[0;32m    364\u001b[0m                     \u001b[0mignore\u001b[0m\u001b[1;33m=\u001b[0m\u001b[0mignore\u001b[0m\u001b[1;33m,\u001b[0m\u001b[1;33m\u001b[0m\u001b[0m\n\u001b[1;32m--> 365\u001b[1;33m                     \u001b[0mtimeout\u001b[0m\u001b[1;33m=\u001b[0m\u001b[0mtimeout\u001b[0m\u001b[1;33m,\u001b[0m\u001b[1;33m\u001b[0m\u001b[0m\n\u001b[0m\u001b[0;32m    366\u001b[0m                 )\n\u001b[0;32m    367\u001b[0m \u001b[1;33m\u001b[0m\u001b[0m\n",
      "\u001b[1;32m~\\Anaconda3\\lib\\site-packages\\elasticsearch\\connection\\http_urllib3.py\u001b[0m in \u001b[0;36mperform_request\u001b[1;34m(self, method, url, params, body, timeout, ignore, headers)\u001b[0m\n\u001b[0;32m    255\u001b[0m                 \u001b[1;32mraise\u001b[0m \u001b[0mSSLError\u001b[0m\u001b[1;33m(\u001b[0m\u001b[1;34m\"N/A\"\u001b[0m\u001b[1;33m,\u001b[0m \u001b[0mstr\u001b[0m\u001b[1;33m(\u001b[0m\u001b[0me\u001b[0m\u001b[1;33m)\u001b[0m\u001b[1;33m,\u001b[0m \u001b[0me\u001b[0m\u001b[1;33m)\u001b[0m\u001b[1;33m\u001b[0m\u001b[0m\n\u001b[0;32m    256\u001b[0m             \u001b[1;32mif\u001b[0m \u001b[0misinstance\u001b[0m\u001b[1;33m(\u001b[0m\u001b[0me\u001b[0m\u001b[1;33m,\u001b[0m \u001b[0mReadTimeoutError\u001b[0m\u001b[1;33m)\u001b[0m\u001b[1;33m:\u001b[0m\u001b[1;33m\u001b[0m\u001b[0m\n\u001b[1;32m--> 257\u001b[1;33m                 \u001b[1;32mraise\u001b[0m \u001b[0mConnectionTimeout\u001b[0m\u001b[1;33m(\u001b[0m\u001b[1;34m\"TIMEOUT\"\u001b[0m\u001b[1;33m,\u001b[0m \u001b[0mstr\u001b[0m\u001b[1;33m(\u001b[0m\u001b[0me\u001b[0m\u001b[1;33m)\u001b[0m\u001b[1;33m,\u001b[0m \u001b[0me\u001b[0m\u001b[1;33m)\u001b[0m\u001b[1;33m\u001b[0m\u001b[0m\n\u001b[0m\u001b[0;32m    258\u001b[0m             \u001b[1;32mraise\u001b[0m \u001b[0mConnectionError\u001b[0m\u001b[1;33m(\u001b[0m\u001b[1;34m\"N/A\"\u001b[0m\u001b[1;33m,\u001b[0m \u001b[0mstr\u001b[0m\u001b[1;33m(\u001b[0m\u001b[0me\u001b[0m\u001b[1;33m)\u001b[0m\u001b[1;33m,\u001b[0m \u001b[0me\u001b[0m\u001b[1;33m)\u001b[0m\u001b[1;33m\u001b[0m\u001b[0m\n\u001b[0;32m    259\u001b[0m \u001b[1;33m\u001b[0m\u001b[0m\n",
      "\u001b[1;31mConnectionTimeout\u001b[0m: ConnectionTimeout caused by - ReadTimeoutError(HTTPConnectionPool(host='143.167.8.152', port=9300): Read timed out. (read timeout=10))"
     ]
    }
   ],
   "source": [
    "# Query elastic for tweets based on claims\n",
    "# ToDo: Multiple claims\n",
    "ids_and_scores = []\n",
    "'''\n",
    "duplicate_ids = []\n",
    "for i in range( 0, 10 ):   \n",
    "    new_terms = search_for_terms(1000, claim_query, duplicate_ids)\n",
    "    ids_and_scores.extend(new_terms)\n",
    "    duplicate_ids = list(set([twid for twid, score in new_terms]))\n",
    "'''\n",
    "#ids_and_scores = queries.search_for_terms(12000, claim_query)\n",
    "#scores = [score for twid, score in ids_and_scores]\n",
    "#tweet_ids = [twid for twid, score in ids_and_scores]\n",
    "\n",
    "tweet_ids = search_for_terms(12000, claim_query)\n"
   ]
  },
  {
   "cell_type": "code",
   "execution_count": null,
   "metadata": {
    "collapsed": true
   },
   "outputs": [],
   "source": [
    "len(tweet_ids)"
   ]
  },
  {
   "cell_type": "code",
   "execution_count": 14,
   "metadata": {},
   "outputs": [
    {
     "data": {
      "text/html": [
       "<div>\n",
       "<style>\n",
       "    .dataframe thead tr:only-child th {\n",
       "        text-align: right;\n",
       "    }\n",
       "\n",
       "    .dataframe thead th {\n",
       "        text-align: left;\n",
       "    }\n",
       "\n",
       "    .dataframe tbody tr th {\n",
       "        vertical-align: top;\n",
       "    }\n",
       "</style>\n",
       "<table border=\"1\" class=\"dataframe\">\n",
       "  <thead>\n",
       "    <tr style=\"text-align: right;\">\n",
       "      <th></th>\n",
       "      <th>index</th>\n",
       "      <th>date</th>\n",
       "      <th>full_date</th>\n",
       "      <th>id</th>\n",
       "      <th>text</th>\n",
       "      <th>time</th>\n",
       "    </tr>\n",
       "  </thead>\n",
       "  <tbody>\n",
       "    <tr>\n",
       "      <th>0</th>\n",
       "      <td>0</td>\n",
       "      <td>2020-11-09</td>\n",
       "      <td>2020-11-09 23:45:06</td>\n",
       "      <td>1318572096277139462</td>\n",
       "      <td>A comparison of four re-purposed antiviral dru...</td>\n",
       "      <td>23:45:06</td>\n",
       "    </tr>\n",
       "    <tr>\n",
       "      <th>1</th>\n",
       "      <td>1</td>\n",
       "      <td>2020-11-04</td>\n",
       "      <td>2020-11-04 18:47:57</td>\n",
       "      <td>1317360631452897280</td>\n",
       "      <td>Coronavirus treatment: Do #Remdesivir and #Hyd...</td>\n",
       "      <td>18:47:57</td>\n",
       "    </tr>\n",
       "    <tr>\n",
       "      <th>2</th>\n",
       "      <td>2</td>\n",
       "      <td>2020-11-02</td>\n",
       "      <td>2020-11-02 17:56:28</td>\n",
       "      <td>1317175283234070533</td>\n",
       "      <td>#Remdesivir Study Accidentally Proves #Hydroxy...</td>\n",
       "      <td>17:56:28</td>\n",
       "    </tr>\n",
       "    <tr>\n",
       "      <th>3</th>\n",
       "      <td>3</td>\n",
       "      <td>2020-11-01</td>\n",
       "      <td>2020-11-01 11:35:03</td>\n",
       "      <td>1317056251881283584</td>\n",
       "      <td>Early #treatment with #hydroxychloroquine: a c...</td>\n",
       "      <td>11:35:03</td>\n",
       "    </tr>\n",
       "    <tr>\n",
       "      <th>4</th>\n",
       "      <td>4</td>\n",
       "      <td>2020-11-01</td>\n",
       "      <td>2020-11-01 17:32:04</td>\n",
       "      <td>1317236840768954368</td>\n",
       "      <td>Early intervention and treatment of high-risk ...</td>\n",
       "      <td>17:32:04</td>\n",
       "    </tr>\n",
       "  </tbody>\n",
       "</table>\n",
       "</div>"
      ],
      "text/plain": [
       "   index        date           full_date                   id  \\\n",
       "0      0  2020-11-09 2020-11-09 23:45:06  1318572096277139462   \n",
       "1      1  2020-11-04 2020-11-04 18:47:57  1317360631452897280   \n",
       "2      2  2020-11-02 2020-11-02 17:56:28  1317175283234070533   \n",
       "3      3  2020-11-01 2020-11-01 11:35:03  1317056251881283584   \n",
       "4      4  2020-11-01 2020-11-01 17:32:04  1317236840768954368   \n",
       "\n",
       "                                                text      time  \n",
       "0  A comparison of four re-purposed antiviral dru...  23:45:06  \n",
       "1  Coronavirus treatment: Do #Remdesivir and #Hyd...  18:47:57  \n",
       "2  #Remdesivir Study Accidentally Proves #Hydroxy...  17:56:28  \n",
       "3  Early #treatment with #hydroxychloroquine: a c...  11:35:03  \n",
       "4  Early intervention and treatment of high-risk ...  17:32:04  "
      ]
     },
     "execution_count": 14,
     "metadata": {},
     "output_type": "execute_result"
    }
   ],
   "source": [
    "df = pd.DataFrame(data=[], columns=['id', 'text', 'full_date'])\n",
    "for end_r in range( 1000, len(tweet_ids)+1, 1000):\n",
    "    tweet_texts = text_from_id(tweet_ids[(end_r-1000):end_r])\n",
    "    new = pd.DataFrame(data=[ [tweet_id,tweet_text, tweet_date] \n",
    "                             for tweet_id, (tweet_text, tweet_date) in zip(tweet_ids[(end_r-1000):end_r], tweet_texts)], \n",
    "                       columns=['id', 'text', 'full_date'])\n",
    "    new['full_date'] = pd.to_datetime(new['full_date'], format='%Y-%m-%d %H:%M:%S')\n",
    "    new['date'] = [d.date() for d in new['full_date']]\n",
    "    new['time'] = [d.time() for d in new['full_date']]\n",
    "    df = df.append(new)\n",
    "df.reset_index(inplace=True)\n",
    "df.head()"
   ]
  },
  {
   "cell_type": "code",
   "execution_count": 50,
   "metadata": {},
   "outputs": [
    {
     "data": {
      "text/plain": [
       "'Early #treatment with #hydroxychloroquine: a country-based #analysis. The treatment group has a 70.7% lower death rate. https://t.co/egrf4XALnF'"
      ]
     },
     "execution_count": 50,
     "metadata": {},
     "output_type": "execute_result"
    }
   ],
   "source": [
    "df.iloc[3]['text']"
   ]
  },
  {
   "cell_type": "code",
   "execution_count": 22,
   "metadata": {
    "collapsed": true
   },
   "outputs": [],
   "source": [
    "#df.to_csv('9999 hydro tweets.csv')"
   ]
  },
  {
   "cell_type": "code",
   "execution_count": 4,
   "metadata": {},
   "outputs": [
    {
     "data": {
      "text/html": [
       "<div>\n",
       "<style>\n",
       "    .dataframe thead tr:only-child th {\n",
       "        text-align: right;\n",
       "    }\n",
       "\n",
       "    .dataframe thead th {\n",
       "        text-align: left;\n",
       "    }\n",
       "\n",
       "    .dataframe tbody tr th {\n",
       "        vertical-align: top;\n",
       "    }\n",
       "</style>\n",
       "<table border=\"1\" class=\"dataframe\">\n",
       "  <thead>\n",
       "    <tr style=\"text-align: right;\">\n",
       "      <th></th>\n",
       "      <th>Unnamed: 0</th>\n",
       "      <th>index</th>\n",
       "      <th>date</th>\n",
       "      <th>full_date</th>\n",
       "      <th>id</th>\n",
       "      <th>text</th>\n",
       "      <th>time</th>\n",
       "    </tr>\n",
       "  </thead>\n",
       "  <tbody>\n",
       "    <tr>\n",
       "      <th>0</th>\n",
       "      <td>0</td>\n",
       "      <td>0</td>\n",
       "      <td>2020-11-09</td>\n",
       "      <td>2020-11-09 23:45:06</td>\n",
       "      <td>1318572096277139462</td>\n",
       "      <td>A comparison of four re-purposed antiviral dru...</td>\n",
       "      <td>23:45:06</td>\n",
       "    </tr>\n",
       "    <tr>\n",
       "      <th>1</th>\n",
       "      <td>1</td>\n",
       "      <td>1</td>\n",
       "      <td>2020-11-04</td>\n",
       "      <td>2020-11-04 18:47:57</td>\n",
       "      <td>1317360631452897280</td>\n",
       "      <td>Coronavirus treatment: Do #Remdesivir and #Hyd...</td>\n",
       "      <td>18:47:57</td>\n",
       "    </tr>\n",
       "    <tr>\n",
       "      <th>2</th>\n",
       "      <td>2</td>\n",
       "      <td>2</td>\n",
       "      <td>2020-11-02</td>\n",
       "      <td>2020-11-02 17:56:28</td>\n",
       "      <td>1317175283234070533</td>\n",
       "      <td>#Remdesivir Study Accidentally Proves #Hydroxy...</td>\n",
       "      <td>17:56:28</td>\n",
       "    </tr>\n",
       "    <tr>\n",
       "      <th>3</th>\n",
       "      <td>3</td>\n",
       "      <td>3</td>\n",
       "      <td>2020-11-01</td>\n",
       "      <td>2020-11-01 11:35:03</td>\n",
       "      <td>1317056251881283584</td>\n",
       "      <td>Early #treatment with #hydroxychloroquine: a c...</td>\n",
       "      <td>11:35:03</td>\n",
       "    </tr>\n",
       "    <tr>\n",
       "      <th>4</th>\n",
       "      <td>4</td>\n",
       "      <td>4</td>\n",
       "      <td>2020-11-01</td>\n",
       "      <td>2020-11-01 17:32:04</td>\n",
       "      <td>1317236840768954368</td>\n",
       "      <td>Early intervention and treatment of high-risk ...</td>\n",
       "      <td>17:32:04</td>\n",
       "    </tr>\n",
       "  </tbody>\n",
       "</table>\n",
       "</div>"
      ],
      "text/plain": [
       "   Unnamed: 0  index        date            full_date                   id  \\\n",
       "0           0      0  2020-11-09  2020-11-09 23:45:06  1318572096277139462   \n",
       "1           1      1  2020-11-04  2020-11-04 18:47:57  1317360631452897280   \n",
       "2           2      2  2020-11-02  2020-11-02 17:56:28  1317175283234070533   \n",
       "3           3      3  2020-11-01  2020-11-01 11:35:03  1317056251881283584   \n",
       "4           4      4  2020-11-01  2020-11-01 17:32:04  1317236840768954368   \n",
       "\n",
       "                                                text      time  \n",
       "0  A comparison of four re-purposed antiviral dru...  23:45:06  \n",
       "1  Coronavirus treatment: Do #Remdesivir and #Hyd...  18:47:57  \n",
       "2  #Remdesivir Study Accidentally Proves #Hydroxy...  17:56:28  \n",
       "3  Early #treatment with #hydroxychloroquine: a c...  11:35:03  \n",
       "4  Early intervention and treatment of high-risk ...  17:32:04  "
      ]
     },
     "execution_count": 4,
     "metadata": {},
     "output_type": "execute_result"
    }
   ],
   "source": [
    "import pandas as pd\n",
    "df = pd.read_csv('9999 hydro tweets.csv', encoding='ISO-8859-1')\n",
    "df.head()"
   ]
  },
  {
   "cell_type": "code",
   "execution_count": 5,
   "metadata": {},
   "outputs": [
    {
     "name": "stderr",
     "output_type": "stream",
     "text": [
      "C:\\Users\\Ruxandra\\Anaconda3\\lib\\site-packages\\matplotlib\\cbook\\deprecation.py:106: MatplotlibDeprecationWarning: Adding an axes using the same arguments as a previous axes currently reuses the earlier instance.  In a future version, a new instance will always be created and returned.  Meanwhile, this warning can be suppressed, and the future behavior ensured, by passing a unique label to each axes instance.\n",
      "  warnings.warn(message, mplDeprecation, stacklevel=1)\n"
     ]
    },
    {
     "data": {
      "image/png": "[encoded data removed]",
      "text/plain": [
       "<matplotlib.figure.Figure at 0x1a0fb7d8ef0>"
      ]
     },
     "metadata": {},
     "output_type": "display_data"
    }
   ],
   "source": [
    "from matplotlib import pyplot as plt\n",
    "import numpy as np\n",
    "\n",
    "week_groups = df.groupby('date').count()\n",
    "week_groups.plot(kind='bar',figsize=(10,5),legend=None)\n",
    "ax = plt.axes()\n",
    "every_nth = 5\n",
    "for n, label in enumerate(ax.xaxis.get_ticklabels()):\n",
    "    if n % every_nth != 0:\n",
    "        label.set_visible(False)\n",
    "plt.show()"
   ]
  },
  {
   "cell_type": "code",
   "execution_count": 16,
   "metadata": {},
   "outputs": [
    {
     "data": {
      "text/plain": [
       "date\n",
       "2020-07-28    691\n",
       "2020-05-19    349\n",
       "2020-07-29    243\n",
       "2020-05-18    221\n",
       "2020-04-08    191\n",
       "2020-07-30    181\n",
       "2020-05-20    157\n",
       "2020-05-26    155\n",
       "2020-04-09    141\n",
       "2020-04-07    139\n",
       "Name: full_date, dtype: int64"
      ]
     },
     "execution_count": 16,
     "metadata": {},
     "output_type": "execute_result"
    }
   ],
   "source": [
    "week_groups.full_date.nlargest(10)"
   ]
  },
  {
   "cell_type": "markdown",
   "metadata": {},
   "source": [
    "19th of May - Trump is confirmed to be taking hydroxy to prevent COVID https://www.theguardian.com/us-news/2020/may/19/trump-hydroxychloroquine-covid-19-white-house\n",
    "\n",
    "27th of May - https://www.theguardian.com/world/2020/may/27/global-report-european-countries-act-against-use-hydroxychloroquine-infections-up-south-korea\n",
    "\n",
    "5th of July - WHO published report discontinuing the use of hydroxichloroquine as a COVID treatment\n",
    "\n",
    "28th of July - https://edition.cnn.com/world/live-news/coronavirus-pandemic-07-28-20-intl/h_65a0166f6c2b36d20119c394eb34ad6e\n",
    "\n",
    "16th of October - Remdesivir is also useless https://www.theguardian.com/world/2020/oct/16/remdesivir-has-very-little-effect-on-covid-19-mortality-who-finds-trial-drug-coronavirus\n",
    "\n",
    "10th of October - possibly linked to Trump discussing his treatment"
   ]
  },
  {
   "cell_type": "code",
   "execution_count": 21,
   "metadata": {},
   "outputs": [
    {
     "data": {
      "text/html": [
       "<div>\n",
       "<style>\n",
       "    .dataframe thead tr:only-child th {\n",
       "        text-align: right;\n",
       "    }\n",
       "\n",
       "    .dataframe thead th {\n",
       "        text-align: left;\n",
       "    }\n",
       "\n",
       "    .dataframe tbody tr th {\n",
       "        vertical-align: top;\n",
       "    }\n",
       "</style>\n",
       "<table border=\"1\" class=\"dataframe\">\n",
       "  <thead>\n",
       "    <tr style=\"text-align: right;\">\n",
       "      <th></th>\n",
       "      <th>index</th>\n",
       "      <th>date</th>\n",
       "      <th>full_date</th>\n",
       "      <th>id</th>\n",
       "      <th>text</th>\n",
       "      <th>time</th>\n",
       "    </tr>\n",
       "  </thead>\n",
       "  <tbody>\n",
       "    <tr>\n",
       "      <th>573</th>\n",
       "      <td>573</td>\n",
       "      <td>2020-05-19</td>\n",
       "      <td>2020-05-19 01:25:38</td>\n",
       "      <td>1273639175787556866</td>\n",
       "      <td>Four out of five beer men recommend @CoorsLigh...</td>\n",
       "      <td>01:25:38</td>\n",
       "    </tr>\n",
       "    <tr>\n",
       "      <th>574</th>\n",
       "      <td>574</td>\n",
       "      <td>2020-05-19</td>\n",
       "      <td>2020-05-19 02:23:39</td>\n",
       "      <td>1275849941932552193</td>\n",
       "      <td>GOOD NEWS: #Hydroxychloroquine is also a treat...</td>\n",
       "      <td>02:23:39</td>\n",
       "    </tr>\n",
       "    <tr>\n",
       "      <th>575</th>\n",
       "      <td>575</td>\n",
       "      <td>2020-05-19</td>\n",
       "      <td>2020-05-19 18:27:10</td>\n",
       "      <td>1276964784836096000</td>\n",
       "      <td>Pence says he isn't taking unproven hydroxychl...</td>\n",
       "      <td>18:27:10</td>\n",
       "    </tr>\n",
       "    <tr>\n",
       "      <th>576</th>\n",
       "      <td>576</td>\n",
       "      <td>2020-05-19</td>\n",
       "      <td>2020-05-19 17:44:49</td>\n",
       "      <td>1277286199946809344</td>\n",
       "      <td>#Remdesivir vs #Hydroxychloroquine \\n\\n5)\\n\\nI...</td>\n",
       "      <td>17:44:49</td>\n",
       "    </tr>\n",
       "    <tr>\n",
       "      <th>577</th>\n",
       "      <td>577</td>\n",
       "      <td>2020-05-19</td>\n",
       "      <td>2020-05-19 17:38:27</td>\n",
       "      <td>1273971461129191424</td>\n",
       "      <td>#Remdesivir vs. #Hydroxychloroquine \\n\\n4)\\n\\n...</td>\n",
       "      <td>17:38:27</td>\n",
       "    </tr>\n",
       "  </tbody>\n",
       "</table>\n",
       "</div>"
      ],
      "text/plain": [
       "     index        date           full_date                   id  \\\n",
       "573    573  2020-05-19 2020-05-19 01:25:38  1273639175787556866   \n",
       "574    574  2020-05-19 2020-05-19 02:23:39  1275849941932552193   \n",
       "575    575  2020-05-19 2020-05-19 18:27:10  1276964784836096000   \n",
       "576    576  2020-05-19 2020-05-19 17:44:49  1277286199946809344   \n",
       "577    577  2020-05-19 2020-05-19 17:38:27  1273971461129191424   \n",
       "\n",
       "                                                  text      time  \n",
       "573  Four out of five beer men recommend @CoorsLigh...  01:25:38  \n",
       "574  GOOD NEWS: #Hydroxychloroquine is also a treat...  02:23:39  \n",
       "575  Pence says he isn't taking unproven hydroxychl...  18:27:10  \n",
       "576  #Remdesivir vs #Hydroxychloroquine \\n\\n5)\\n\\nI...  17:44:49  \n",
       "577  #Remdesivir vs. #Hydroxychloroquine \\n\\n4)\\n\\n...  17:38:27  "
      ]
     },
     "execution_count": 21,
     "metadata": {},
     "output_type": "execute_result"
    }
   ],
   "source": [
    "import datetime\n",
    "df[df['date'].eq(datetime.date(2020, 5, 19))].head()"
   ]
  },
  {
   "cell_type": "code",
   "execution_count": null,
   "metadata": {
    "collapsed": true
   },
   "outputs": [],
   "source": []
  }
 ],
 "metadata": {
  "kernelspec": {
   "display_name": "Python 3",
   "language": "python",
   "name": "python3"
  },
  "language_info": {
   "codemirror_mode": {
    "name": "ipython",
    "version": 3
   },
   "file_extension": ".py",
   "mimetype": "text/x-python",
   "name": "python",
   "nbconvert_exporter": "python",
   "pygments_lexer": "ipython3",
   "version": "3.6.3"
  }
 },
 "nbformat": 4,
 "nbformat_minor": 2
}
