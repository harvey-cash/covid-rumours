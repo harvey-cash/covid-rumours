{
 "cells": [
  {
   "cell_type": "code",
   "execution_count": 4,
   "metadata": {},
   "outputs": [
    {
     "data": {
      "text/plain": [
       "{'offici': 1,\n",
       " 'believ': 1,\n",
       " 'coronaviru': 1,\n",
       " 'outbreak': 1,\n",
       " 'origin': 1,\n",
       " 'wuhan': 1,\n",
       " 'biolab': 1,\n",
       " 'wuhanviru': 1,\n",
       " 'covert19': 1,\n",
       " 'testvirusnow': 1,\n",
       " 'chinaliedpeopledi': 1,\n",
       " 'trumpliedpeopledi': 1,\n",
       " 'http': 1,\n",
       " '//t.co/d40ewzqpg4': 1,\n",
       " 'foxnew': 1}"
      ]
     },
     "execution_count": 4,
     "metadata": {},
     "output_type": "execute_result"
    }
   ],
   "source": [
    "from utils import preprocess_text\n",
    "\n",
    "def create_query_dict(query):\n",
    "    clean_query = preprocess_text.clean_all(query)\n",
    "    query_words = clean_query.split()\n",
    "    query_dict = {}\n",
    "    for word in query_words:\n",
    "        if word not in query_dict:\n",
    "            query_dict[word] = 0\n",
    "        query_dict[word] += 1\n",
    "    return query_dict\n",
    "        \n",
    "dd = create_query_dict(\"USA officials believe #coronavirus outbreak originated in #Wuhan #biolab #wuhanvirus #covert19 #5g #testvirusnow #chinaliedpeopledied #trumpliedpeopledied https://t.co/D40eWZqPg4 #FoxNews\")\n",
    "dd"
   ]
  }
 ],
 "metadata": {
  "kernelspec": {
   "display_name": "Python 3",
   "language": "python",
   "name": "python3"
  },
  "language_info": {
   "codemirror_mode": {
    "name": "ipython",
    "version": 3
   },
   "file_extension": ".py",
   "mimetype": "text/x-python",
   "name": "python",
   "nbconvert_exporter": "python",
   "pygments_lexer": "ipython3",
   "version": "3.8.5"
  }
 },
 "nbformat": 4,
 "nbformat_minor": 4
}
